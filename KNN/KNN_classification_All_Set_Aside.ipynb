{
 "cells": [
  {
   "cell_type": "code",
   "execution_count": 1,
   "metadata": {},
   "outputs": [],
   "source": [
    "import psycopg2\n",
    "import pandas as pd\n",
    "import numpy as np\n",
    "pd.options.display.max_columns = 300"
   ]
  },
  {
   "cell_type": "code",
   "execution_count": 2,
   "metadata": {},
   "outputs": [],
   "source": [
    "#connect SQL\n",
    "conn = psycopg2.connect(database='usaspendingdb', user='postgres', password='Fatih123', host='127.0.0.1', port='5432')"
   ]
  },
  {
   "cell_type": "code",
   "execution_count": 3,
   "metadata": {},
   "outputs": [],
   "source": [
    "sql_cols = ('federal_action_obligation, '\n",
    "            'base_and_exercised_options_value, '\n",
    "            'base_and_all_options_value, '\n",
    "            'awarding_sub_agency_name, '\n",
    "            'awarding_office_name, '\n",
    "            'funding_sub_agency_name, '\n",
    "            'funding_office_name, '\n",
    "            'primary_place_of_performance_state_code, '\n",
    "            'award_or_idv_flag, '\n",
    "            'award_type, '\n",
    "            'type_of_contract_pricing, '\n",
    "            'dod_claimant_program_description, '\n",
    "            'type_of_set_aside_code, '\n",
    "            'contract_bundling, '\n",
    "            'national_interest_action, '\n",
    "            'gfe_gfp, '\n",
    "            'contract_financing, '\n",
    "            'portfolio_group, '\n",
    "            'product_or_service_code_description, '\n",
    "            'naics_bucket_title, '\n",
    "            'naics_description'\n",
    "            )"
   ]
  },
  {
   "cell_type": "code",
   "execution_count": 4,
   "metadata": {},
   "outputs": [
    {
     "data": {
      "text/plain": [
       "(35414, 21)"
      ]
     },
     "execution_count": 4,
     "metadata": {},
     "output_type": "execute_result"
    }
   ],
   "source": [
    "#Create DF\n",
    "df = pd.read_sql_query('SELECT ' + sql_cols + ' FROM consolidated_data_filtered_bucketed', con=conn)\n",
    "df.shape"
   ]
  },
  {
   "cell_type": "code",
   "execution_count": 5,
   "metadata": {},
   "outputs": [
    {
     "data": {
      "text/plain": [
       "federal_action_obligation                     0\n",
       "base_and_exercised_options_value              0\n",
       "base_and_all_options_value                    0\n",
       "awarding_sub_agency_name                      0\n",
       "awarding_office_name                          0\n",
       "funding_sub_agency_name                       0\n",
       "funding_office_name                          43\n",
       "primary_place_of_performance_state_code       0\n",
       "award_or_idv_flag                             0\n",
       "award_type                                    0\n",
       "type_of_contract_pricing                      0\n",
       "dod_claimant_program_description              1\n",
       "type_of_set_aside_code                      414\n",
       "contract_bundling                             0\n",
       "national_interest_action                      0\n",
       "gfe_gfp                                       0\n",
       "contract_financing                            0\n",
       "portfolio_group                               0\n",
       "product_or_service_code_description           0\n",
       "naics_bucket_title                         7870\n",
       "naics_description                           167\n",
       "dtype: int64"
      ]
     },
     "execution_count": 5,
     "metadata": {},
     "output_type": "execute_result"
    }
   ],
   "source": [
    "#Check if there is any null in DF.\n",
    "df.isnull().sum()"
   ]
  },
  {
   "cell_type": "code",
   "execution_count": 6,
   "metadata": {},
   "outputs": [
    {
     "data": {
      "text/plain": [
       "(35000, 21)"
      ]
     },
     "execution_count": 6,
     "metadata": {},
     "output_type": "execute_result"
    }
   ],
   "source": [
    "#Drop null rows from 'type_of_set_aside_code' column.\n",
    "df = df[pd.notnull(df['type_of_set_aside_code'])]\n",
    "df.shape"
   ]
  },
  {
   "cell_type": "code",
   "execution_count": 7,
   "metadata": {},
   "outputs": [
    {
     "data": {
      "text/plain": [
       "NONE       22154\n",
       "SBA         8619\n",
       "WOSB        1379\n",
       "8A          1222\n",
       "8AN         1185\n",
       "SDVOSBC      271\n",
       "HZC          108\n",
       "SBP           30\n",
       "SDVOSBS       14\n",
       "EDWOSB         7\n",
       "WOSBSS         6\n",
       "HZS            4\n",
       "ISBEE          1\n",
       "Name: type_of_set_aside_code, dtype: int64"
      ]
     },
     "execution_count": 7,
     "metadata": {},
     "output_type": "execute_result"
    }
   ],
   "source": [
    "df['type_of_set_aside_code'].value_counts()"
   ]
  },
  {
   "cell_type": "code",
   "execution_count": 8,
   "metadata": {},
   "outputs": [],
   "source": [
    "df['set_aside_number'] = df['type_of_set_aside_code'].map({'NONE':1, 'SBA':2, 'WOSB':3, '8A':4, '8AN':5, 'SDVOSBC':6,'HZC':7,\n",
    "                                                           'SBP':8, 'SDVOSBS':9, 'EDWOSB':10, 'WOSBSS':11, 'HZS':12, 'ISBEE':13})"
   ]
  },
  {
   "cell_type": "code",
   "execution_count": 9,
   "metadata": {},
   "outputs": [
    {
     "data": {
      "text/plain": [
       "1     22154\n",
       "2      8619\n",
       "3      1379\n",
       "4      1222\n",
       "5      1185\n",
       "6       271\n",
       "7       108\n",
       "8        30\n",
       "9        14\n",
       "10        7\n",
       "11        6\n",
       "12        4\n",
       "13        1\n",
       "Name: set_aside_number, dtype: int64"
      ]
     },
     "execution_count": 9,
     "metadata": {},
     "output_type": "execute_result"
    }
   ],
   "source": [
    "df['set_aside_number'].value_counts()"
   ]
  },
  {
   "cell_type": "code",
   "execution_count": 10,
   "metadata": {},
   "outputs": [],
   "source": [
    "def contract_value(c):\n",
    "    if c['base_and_exercised_options_value'] > 0:\n",
    "        return c['base_and_exercised_options_value']\n",
    "    elif c['base_and_all_options_value'] > 0:\n",
    "        return c['base_and_all_options_value']\n",
    "    elif c['federal_action_obligation'] > 0:\n",
    "        return c['federal_action_obligation'] \n",
    "    else:\n",
    "        return 0"
   ]
  },
  {
   "cell_type": "code",
   "execution_count": 11,
   "metadata": {},
   "outputs": [],
   "source": [
    "df['contract_value'] = df.apply(contract_value, axis=1)"
   ]
  },
  {
   "cell_type": "code",
   "execution_count": 12,
   "metadata": {},
   "outputs": [],
   "source": [
    "#Drop columns that we dont need anymore.\n",
    "df = df.drop(['type_of_set_aside_code','base_and_exercised_options_value','base_and_all_options_value',\n",
    "             'federal_action_obligation'], axis=1)"
   ]
  },
  {
   "cell_type": "code",
   "execution_count": 13,
   "metadata": {},
   "outputs": [
    {
     "data": {
      "text/plain": [
       "(27246, 19)"
      ]
     },
     "execution_count": 13,
     "metadata": {},
     "output_type": "execute_result"
    }
   ],
   "source": [
    "#Create another DF with non null columns and rows.\n",
    "df2 = df.dropna()\n",
    "df2.shape"
   ]
  },
  {
   "cell_type": "code",
   "execution_count": 14,
   "metadata": {},
   "outputs": [],
   "source": [
    "df3 = pd.get_dummies(df2)"
   ]
  },
  {
   "cell_type": "code",
   "execution_count": 15,
   "metadata": {},
   "outputs": [],
   "source": [
    "X = df3.drop(['set_aside_number'], axis=1)"
   ]
  },
  {
   "cell_type": "code",
   "execution_count": 16,
   "metadata": {},
   "outputs": [],
   "source": [
    "y = df3['set_aside_number']"
   ]
  },
  {
   "cell_type": "code",
   "execution_count": 17,
   "metadata": {},
   "outputs": [],
   "source": [
    "from sklearn.model_selection import train_test_split, cross_val_score\n",
    "from sklearn.metrics import confusion_matrix , classification_report\n",
    "from sklearn.neighbors import KNeighborsClassifier"
   ]
  },
  {
   "cell_type": "code",
   "execution_count": 18,
   "metadata": {},
   "outputs": [],
   "source": [
    "X_train, X_test, y_train, y_test = train_test_split(X, y, test_size=0.20, random_state=42)"
   ]
  },
  {
   "cell_type": "code",
   "execution_count": 19,
   "metadata": {},
   "outputs": [],
   "source": [
    "model = KNeighborsClassifier(n_neighbors=13)"
   ]
  },
  {
   "cell_type": "code",
   "execution_count": 20,
   "metadata": {},
   "outputs": [
    {
     "data": {
      "text/plain": [
       "KNeighborsClassifier(algorithm='auto', leaf_size=30, metric='minkowski',\n",
       "                     metric_params=None, n_jobs=None, n_neighbors=13, p=2,\n",
       "                     weights='uniform')"
      ]
     },
     "execution_count": 20,
     "metadata": {},
     "output_type": "execute_result"
    }
   ],
   "source": [
    "model.fit(X_train, y_train)"
   ]
  },
  {
   "cell_type": "code",
   "execution_count": 21,
   "metadata": {},
   "outputs": [],
   "source": [
    "predictions = model.predict(X_test)"
   ]
  },
  {
   "cell_type": "code",
   "execution_count": 22,
   "metadata": {},
   "outputs": [],
   "source": [
    "from sklearn.metrics import classification_report, confusion_matrix"
   ]
  },
  {
   "cell_type": "code",
   "execution_count": 23,
   "metadata": {},
   "outputs": [
    {
     "name": "stdout",
     "output_type": "stream",
     "text": [
      "[[2351  538   12    8    6    2    0    0    0    0    0]\n",
      " [ 803  823   16   13    4    2    0    0    0    0    0]\n",
      " [ 127  129   32    1    1    0    0    0    0    0    0]\n",
      " [ 137   91    3   14    1    0    0    0    0    0    0]\n",
      " [ 161   80    1    0    8    0    0    0    0    0    0]\n",
      " [  43    8    0    0    0    1    0    0    0    0    0]\n",
      " [  15   10    0    0    0    0    0    0    0    0    0]\n",
      " [   1    4    0    0    0    0    0    0    0    0    0]\n",
      " [   1    0    0    0    0    0    0    0    0    0    0]\n",
      " [   2    0    0    0    0    0    0    0    0    0    0]\n",
      " [   1    0    0    0    0    0    0    0    0    0    0]]\n",
      "              precision    recall  f1-score   support\n",
      "\n",
      "           1       0.65      0.81      0.72      2917\n",
      "           2       0.49      0.50      0.49      1661\n",
      "           3       0.50      0.11      0.18       290\n",
      "           4       0.39      0.06      0.10       246\n",
      "           5       0.40      0.03      0.06       250\n",
      "           6       0.20      0.02      0.04        52\n",
      "           7       0.00      0.00      0.00        25\n",
      "           8       0.00      0.00      0.00         5\n",
      "           9       0.00      0.00      0.00         1\n",
      "          10       0.00      0.00      0.00         2\n",
      "          11       0.00      0.00      0.00         1\n",
      "\n",
      "    accuracy                           0.59      5450\n",
      "   macro avg       0.24      0.14      0.14      5450\n",
      "weighted avg       0.56      0.59      0.55      5450\n",
      "\n"
     ]
    },
    {
     "name": "stderr",
     "output_type": "stream",
     "text": [
      "C:\\Users\\Fatih\\Anaconda3\\lib\\site-packages\\sklearn\\metrics\\classification.py:1437: UndefinedMetricWarning: Precision and F-score are ill-defined and being set to 0.0 in labels with no predicted samples.\n",
      "  'precision', 'predicted', average, warn_for)\n"
     ]
    }
   ],
   "source": [
    "print(confusion_matrix(y_test, predictions))\n",
    "print(classification_report(y_test, predictions))"
   ]
  },
  {
   "cell_type": "code",
   "execution_count": 24,
   "metadata": {},
   "outputs": [
    {
     "name": "stderr",
     "output_type": "stream",
     "text": [
      "C:\\Users\\Fatih\\Anaconda3\\lib\\site-packages\\sklearn\\model_selection\\_split.py:657: Warning: The least populated class in y has only 4 members, which is too few. The minimum number of members in any class cannot be less than n_splits=12.\n",
      "  % (min_groups, self.n_splits)), Warning)\n"
     ]
    }
   ],
   "source": [
    "score = cross_val_score(estimator=model, X=X, y=y, cv=12)"
   ]
  },
  {
   "cell_type": "code",
   "execution_count": 25,
   "metadata": {},
   "outputs": [
    {
     "name": "stdout",
     "output_type": "stream",
     "text": [
      "Accuracy :  0.6052870984232985\n"
     ]
    }
   ],
   "source": [
    "print('Accuracy : ',score.mean())"
   ]
  }
 ],
 "metadata": {
  "kernelspec": {
   "display_name": "Python 3",
   "language": "python",
   "name": "python3"
  },
  "language_info": {
   "codemirror_mode": {
    "name": "ipython",
    "version": 3
   },
   "file_extension": ".py",
   "mimetype": "text/x-python",
   "name": "python",
   "nbconvert_exporter": "python",
   "pygments_lexer": "ipython3",
   "version": "3.7.4"
  }
 },
 "nbformat": 4,
 "nbformat_minor": 2
}
