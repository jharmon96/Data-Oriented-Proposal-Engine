{
 "cells": [
  {
   "cell_type": "markdown",
   "metadata": {},
   "source": [
    "# Random Forest Hyperparameter Tuning \n",
    "\n",
    "This shows some simple code of how to plot n_estimators to F1 score."
   ]
  },
  {
   "cell_type": "code",
   "execution_count": 1,
   "metadata": {},
   "outputs": [],
   "source": [
    "%matplotlib notebook \n",
    "\n",
    "import numpy as np\n",
    "import pandas as pd \n",
    "import matplotlib.pyplot as plt \n",
    "\n",
    "from sklearn.ensemble import RandomForestClassifier \n",
    "from sklearn.model_selection import cross_val_score"
   ]
  },
  {
   "cell_type": "code",
   "execution_count": 2,
   "metadata": {},
   "outputs": [],
   "source": [
    "data = pd.read_csv(r'/home/team/Documents/Data-Oriented-Proposal-Engine/SpendingData/DummiesAllSetAsides.csv')\n",
    "# data.head()"
   ]
  },
  {
   "cell_type": "code",
   "execution_count": 3,
   "metadata": {},
   "outputs": [],
   "source": [
    "X = data.drop([\"type_of_set_aside_code\"],axis=1)\n",
    "y = data[\"type_of_set_aside_code\"]"
   ]
  },
  {
   "cell_type": "code",
   "execution_count": 4,
   "metadata": {},
   "outputs": [],
   "source": [
    "# Split the data into test and training data sets\n",
    "\n",
    "from sklearn.model_selection import train_test_split\n",
    "X_train, X_test, y_train, y_test = train_test_split(X, y, test_size=0.5, random_state=42)"
   ]
  },
  {
   "cell_type": "code",
   "execution_count": null,
   "metadata": {},
   "outputs": [],
   "source": [
    "# Below we create the model with model.fit() \n",
    "\n",
    "from sklearn.metrics import classification_report\n",
    "model = RandomForestClassifier(n_estimators=17)\n",
    "model.fit(X_train, y_train)"
   ]
  },
  {
   "cell_type": "code",
   "execution_count": 107,
   "metadata": {},
   "outputs": [
    {
     "name": "stdout",
     "output_type": "stream",
     "text": [
      "Model Accuracy: 83.55%\n"
     ]
    }
   ],
   "source": [
    "# And here we return the accuracy. The bottom two lines show what the model is predicting and what the true values are. \n",
    "\n",
    "print('Model Accuracy: {:.2%}'.format(model.score(X_test, y_test)))\n",
    "# print(model.predict(X_test[50:75]))\n",
    "# print(y_test[50:75])"
   ]
  },
  {
   "cell_type": "code",
   "execution_count": null,
   "metadata": {},
   "outputs": [],
   "source": [
    "# Next I am testing the accuracy of the model on each specific set aside. Because we have an unbalanced data set\n",
    "# it seems that the model is great for predicting set asides in general, however it is also skewed to better\n",
    "# predict certain categories compared to others.\n",
    "\n",
    "# Create a dictionary object to capture set aside code and it's score\n",
    "class scores(dict):  \n",
    "  \n",
    "    # __init__ function  \n",
    "    def __init__(self):  \n",
    "        self = dict()  \n",
    "          \n",
    "    # Function to add key:value  \n",
    "    def add(self, key, value):  \n",
    "        self[key] = value  \n",
    "\n",
    "scores = scores()\n",
    "percent = ''\n",
    "set_aside_codes = data['type_of_set_aside_code'].unique()\n",
    "\n",
    "# Loop through each set aside, test it, and append to the dictionary\n",
    "for set_aside in set_aside_codes:\n",
    "    dataPoint = data.loc[data['type_of_set_aside_code'] == set_aside]\n",
    "    XPoint = dataPoint.drop([\"type_of_set_aside_code\"],axis=1)\n",
    "    yPoint = dataPoint[\"type_of_set_aside_code\"]\n",
    "    percent = model.score(XPoint, yPoint)\n",
    "    percent = round(percent, 4)\n",
    "    scores.add(set_aside, percent)"
   ]
  },
  {
   "cell_type": "code",
   "execution_count": 117,
   "metadata": {},
   "outputs": [],
   "source": [
    "# Sort the dictionary by score\n",
    "import operator\n",
    "sortedScores = sorted(scores.items(), key=operator.itemgetter(1))"
   ]
  },
  {
   "cell_type": "code",
   "execution_count": 119,
   "metadata": {
    "scrolled": true
   },
   "outputs": [
    {
     "name": "stdout",
     "output_type": "stream",
     "text": [
      "NONE     96.64%\n",
      "SBA      90.22%\n",
      "SDVOSBC  82.29%\n",
      "HZC      81.48%\n",
      "SBP      80.95%\n",
      "8A       78.31%\n",
      "WOSB     75.62%\n",
      "8AN      74.68%\n",
      "SDVOSBS  71.43%\n",
      "HZS      50.00%\n",
      "WOSBSS   33.33%\n",
      "EDWOSB   14.29%\n"
     ]
    }
   ],
   "source": [
    "# Print scores\n",
    "for score in reversed(sortedScores):\n",
    "    print(\"{:<8} {:.2%}\".format(score[0], score[1]))"
   ]
  }
 ],
 "metadata": {
  "kernelspec": {
   "display_name": "Python 3",
   "language": "python",
   "name": "python3"
  },
  "language_info": {
   "codemirror_mode": {
    "name": "ipython",
    "version": 3
   },
   "file_extension": ".py",
   "mimetype": "text/x-python",
   "name": "python",
   "nbconvert_exporter": "python",
   "pygments_lexer": "ipython3",
   "version": "3.7.4"
  }
 },
 "nbformat": 4,
 "nbformat_minor": 2
}
