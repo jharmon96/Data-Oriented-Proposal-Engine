{
 "cells": [
  {
   "cell_type": "code",
   "execution_count": null,
   "metadata": {},
   "outputs": [],
   "source": [
    "# Our attempt at manually creating dummies (one hot encoding) \n",
    "# before realizing there is a get_dummies() function. \n",
    "\n",
    "Import libraries\n",
    "\n",
    "import psycopg2\n",
    "import numpy as np\n",
    "import pandas as pd\n",
    "from functools import reduce\n",
    "import seaborn as sns\n",
    "import matplotlib.pyplot as plt\n",
    "from sklearn.preprocessing import LabelEncoder, OneHotEncoder\n",
    "import warnings\n",
    "warnings.filterwarnings(\"ignore\")\n",
    "from sklearn.model_selection import train_test_split\n",
    "from sklearn.svm import SVC\n",
    "from sklearn.metrics import confusion_matrix\n",
    "np.random.seed(123)"
   ]
  },
  {
   "cell_type": "code",
   "execution_count": null,
   "metadata": {},
   "outputs": [],
   "source": [
    "conn = psycopg2.connect(database='usaspending', user='postgres', password='gtown2019', host='127.0.0.1', port='5432')"
   ]
  },
  {
   "cell_type": "code",
   "execution_count": null,
   "metadata": {},
   "outputs": [],
   "source": [
    "tbl_name = 'consolidated_data_2_filtered'"
   ]
  },
  {
   "cell_type": "code",
   "execution_count": null,
   "metadata": {},
   "outputs": [],
   "source": [
    "df = pd.read_sql_query('SELECT * FROM ' + tbl_name, con=conn)\n",
    "df = df[:1000]\n",
    "\n",
    "# Remove duplicative columns\n",
    "\n",
    "del df['modification_number'] # SQL filter \n",
    "del df['awarding_agency_code'] # SQL filter\n",
    "del df['primary_place_of_performance_country_code'] # SQL filter\n",
    "del df['performance_based_service_acquisition_code'] # SQL filter\n",
    "# Codes for column names\n",
    "del df['awarding_sub_agency_code']\n",
    "del df['awarding_office_code']\n",
    "del df['funding_sub_agency_code']\n",
    "del df['funding_office_code']\n",
    "del df['recipient_duns']\n",
    "del df['award_or_idv_flag']\n",
    "del df['award_type_code']\n",
    "del df['type_of_contract_pricing_code']\n",
    "del df['product_or_service_code']\n",
    "del df['dod_claimant_program_code']\n",
    "del df['naics_code']\n",
    "del df['extent_competed_code']\n",
    "del df['solicitation_procedures_code']\n",
    "del df['type_of_set_aside']\n",
    "del df['performance_based_service_acquisition']\n",
    "del df['multi_year_contract_code']\n",
    "del df['contracting_officers_determination_of_business_size_code']\n",
    "\n",
    "# Remove \"manually identified\" unimportant columns\n",
    "del df['action_date']\n",
    "del df['funding_office_name']\n",
    "del df['multi_year_contract']\n",
    "del df['solicitation_procedures']\n",
    "\n",
    "# Remove \"future\" data elements\n",
    "del df['recipient_name']\n",
    "del df['recipient_country_code']\n",
    "del df['recipient_state_code']\n",
    "del df['number_of_offers_received']\n",
    "del df['extent_competed']\n",
    "del df['contracting_officers_determination_of_business_size']\n",
    "del df['number_of_employees']\n",
    "del df['annual_revenue']\n",
    "\n",
    "df.shape"
   ]
  },
  {
   "cell_type": "code",
   "execution_count": null,
   "metadata": {},
   "outputs": [],
   "source": [
    "# Create conditional column to determine if set aside is YES or NO\n",
    "\n",
    "def set_aside(c):\n",
    "    if c['type_of_set_aside_code'] == 'NONE':\n",
    "        return 0\n",
    "    else:\n",
    "        return 1\n",
    "\n",
    "def contract_value(c):\n",
    "    if c['base_and_exercised_options_value'] > 0:\n",
    "        return c['base_and_exercised_options_value']\n",
    "    elif c['base_and_all_options_value'] > 0:\n",
    "        return c['base_and_all_options_value']\n",
    "    elif c['total_dollars_obligated'] > 0:\n",
    "        return c['total_dollars_obligated']\n",
    "    elif c['federal_action_obligation'] > 0:\n",
    "        return c['federal_action_obligation'] \n",
    "    else:\n",
    "        return 0\n",
    "    \n",
    "df['set_aside'] = df.apply(set_aside, axis=1)\n",
    "df['contract_value'] = df.apply(contract_value, axis=1)\n",
    "\n",
    "del df['type_of_set_aside_code']\n",
    "del df['base_and_exercised_options_value']\n",
    "del df['base_and_all_options_value']\n",
    "del df['total_dollars_obligated']\n",
    "del df['federal_action_obligation']\n",
    "\n",
    "df2 = df.dropna()\n",
    "df2.shape"
   ]
  },
  {
   "cell_type": "code",
   "execution_count": null,
   "metadata": {},
   "outputs": [],
   "source": [
    "numerical_cols = ['set_aside', 'contract_value']"
   ]
  },
  {
   "cell_type": "code",
   "execution_count": null,
   "metadata": {},
   "outputs": [],
   "source": [
    "d_num = {}\n",
    "df_num = pd.DataFrame(columns=['contract_transaction_unique_key'])\n",
    "for name in numerical_cols:\n",
    "    d_num[name] = df2[['contract_transaction_unique_key', name]]\n",
    "    d_num[name] = pd.pivot_table(d_num[name],index=['contract_transaction_unique_key'],values=[name],\n",
    "                        aggfunc=[np.mean], fill_value = 0)\n",
    "    df_num = pd.merge(df_num, d_num[name], on='contract_transaction_unique_key', how='outer') "
   ]
  },
  {
   "cell_type": "code",
   "execution_count": null,
   "metadata": {},
   "outputs": [],
   "source": [
    "categorical_cols = ['awarding_sub_agency_name', 'awarding_office_name', 'funding_sub_agency_name', \n",
    "                    'primary_place_of_performance_state_code', 'award_type', 'type_of_contract_pricing', \n",
    "                    'product_or_service_code_description', 'dod_claimant_program_description', 'naics_description']"
   ]
  },
  {
   "cell_type": "code",
   "execution_count": null,
   "metadata": {},
   "outputs": [],
   "source": [
    "d_cat = {}\n",
    "df_cat = pd.DataFrame(columns=['contract_transaction_unique_key'])\n",
    "for name in categorical_cols:\n",
    "    d_cat[name] = df2[['contract_transaction_unique_key', name]]\n",
    "    d_cat[name] = pd.pivot_table(d_cat[name], index=['contract_transaction_unique_key'], columns=[name], \n",
    "                        aggfunc=len, fill_value=0)\n",
    "    df_cat = pd.merge(df_cat, d_cat[name], on='contract_transaction_unique_key', how='outer') "
   ]
  },
  {
   "cell_type": "code",
   "execution_count": null,
   "metadata": {},
   "outputs": [],
   "source": [
    "df_merged = pd.merge(df_num, df_cat, on=['contract_transaction_unique_key'], how='outer')"
   ]
  },
  {
   "cell_type": "code",
   "execution_count": null,
   "metadata": {},
   "outputs": [],
   "source": []
  }
 ],
 "metadata": {
  "kernelspec": {
   "display_name": "Python 3",
   "language": "python",
   "name": "python3"
  },
  "language_info": {
   "codemirror_mode": {
    "name": "ipython",
    "version": 3
   },
   "file_extension": ".py",
   "mimetype": "text/x-python",
   "name": "python",
   "nbconvert_exporter": "python",
   "pygments_lexer": "ipython3",
   "version": "3.7.4"
  }
 },
 "nbformat": 4,
 "nbformat_minor": 2
}
