{
 "cells": [
  {
   "cell_type": "markdown",
   "metadata": {},
   "source": [
    "The subject of this EDA workbook is a raw 1,000,000 row x 276 column data set. The approach for exploring the data is domain agnostic; so little to no prior knowledge of the data set and its structure is assumed. There are three main steps: \n",
    "1. An initial data scrub eliminates columns of no or little value. The question being answered in this step is not which columns are important, but rather which columns are certainly not important or redundant. \n",
    "2. Creating a summary table of the edited raw data set. The summary table cites the number of non-nulls, the number of unique values, and the datatype in each column.\n",
    "3. Filtering or grouping column headers by the three columns in the summary table will facilitate inspecting smaller tables and maybe highlight similarities or additional avenues to explore. \n",
    "The final part of this workbook plots a cumulative distribution function of the unique value counts (ordered from largest to smallest) of one or more columns. The cdf may be a useful tool in understanding how the data in a column of categorical value is distributed, allowing bucketing in a more informed way."
   ]
  },
  {
   "cell_type": "code",
   "execution_count": 1,
   "metadata": {},
   "outputs": [],
   "source": [
    "%matplotlib notebook\n",
    "import psycopg2\n",
    "import pandas as pd\n",
    "import seaborn as sns\n",
    "import warnings\n",
    "import matplotlib as plot\n",
    "import matplotlib.pyplot as plt\n",
    "\n",
    "warnings.simplefilter('ignore')\n",
    "pd.options.display.max_columns = 300\n",
    "sns.set_style('darkgrid')"
   ]
  },
  {
   "cell_type": "code",
   "execution_count": 84,
   "metadata": {},
   "outputs": [],
   "source": [
    "conn = psycopg2.connect(database='usaspending', user='team', password='ZAQ!@#zaq123', host='dopelytics.site', port='5432')"
   ]
  },
  {
   "cell_type": "code",
   "execution_count": 87,
   "metadata": {},
   "outputs": [],
   "source": [
    "sql_cols = ('federal_action_obligation, '\n",
    "            #'total_dollars_obligated, '\n",
    "            'base_and_exercised_options_value, '\n",
    "            'base_and_all_options_value, '\n",
    "            #'awarding_sub_agency_name, '\n",
    "            'awarding_sub_agency_code, '\n",
    "            #'awarding_office_name, '\n",
    "            'awarding_office_code, '\n",
    "            #'funding_sub_agency_name, '\n",
    "            'funding_sub_agency_code, '\n",
    "            #'funding_office_name, '  too many NaN\n",
    "            'primary_place_of_performance_state_code, '\n",
    "            'award_or_idv_flag, '\n",
    "            #'award_type, '\n",
    "            'award_type_code, '\n",
    "            #'type_of_contract_pricing, '\n",
    "            'type_of_contract_pricing_code, '\n",
    "            #'dod_claimant_program_description, '\n",
    "            'dod_claimant_program_code, '\n",
    "            'type_of_set_aside_code, '\n",
    "            #'multi_year_contract, ' too many NaN\n",
    "            #'dod_acquisition_program_description, ' too many NaN\n",
    "            #'subcontracting_plan, ' too many NaN\n",
    "            #'contract_bundling, '\n",
    "            'contract_bundling_code, '\n",
    "            #'evaluated_preference, ' too many NaN\n",
    "            #'national_interest_action, '\n",
    "            'national_interest_action_code, '\n",
    "            #'cost_or_pricing_data, ' too many NaN\n",
    "            #'gfe_gfp, '\n",
    "            'gfe_gfp_code, '\n",
    "            #'contract_financing, '\n",
    "            'contract_financing_code, '\n",
    "            'portfolio_group, '\n",
    "            #'product_or_service_code_description, '\n",
    "            'product_or_service_code, '\n",
    "            #'naics_bucket_title, ' too many NaN\n",
    "            #'naics_description'\n",
    "            'naics_code'\n",
    "            )"
   ]
  },
  {
   "cell_type": "code",
   "execution_count": 88,
   "metadata": {},
   "outputs": [
    {
     "name": "stdout",
     "output_type": "stream",
     "text": [
      "Shape of initial df: (272790, 19)\n"
     ]
    }
   ],
   "source": [
    "# Create dataframe\n",
    "sql_tbl_name = 'consolidated_data2'\n",
    "df = pd.read_sql_query('SELECT ' + sql_cols + ' FROM ' + sql_tbl_name, con=conn)\n",
    "print('Shape of initial df:', df.shape)"
   ]
  },
  {
   "cell_type": "code",
   "execution_count": 89,
   "metadata": {},
   "outputs": [
    {
     "name": "stdout",
     "output_type": "stream",
     "text": [
      "Shape with no NaN values: (270917, 19)\n"
     ]
    }
   ],
   "source": [
    "# Drop rows with NaN values\n",
    "df = df.dropna()\n",
    "print('Shape with no NaN values:', df.shape)"
   ]
  },
  {
   "cell_type": "code",
   "execution_count": 4,
   "metadata": {},
   "outputs": [],
   "source": [
    "million_row_sample_path = '../SpendingData/2015_097_Contracts_Full_20191009/2015_097_Contracts_Full_20191010_1.csv'"
   ]
  },
  {
   "cell_type": "code",
   "execution_count": 5,
   "metadata": {},
   "outputs": [],
   "source": [
    "raw_data = pd.read_csv(million_row_sample_path) #million_row_sample_path is where the file downloaded from USASpending web app should be saved."
   ]
  },
  {
   "cell_type": "code",
   "execution_count": 122,
   "metadata": {},
   "outputs": [
    {
     "data": {
      "text/plain": [
       "NO SET ASIDE USED.                                         870135\n",
       "SMALL BUSINESS SET ASIDE - TOTAL                            96636\n",
       "8(A) SOLE SOURCE                                             8454\n",
       "8A COMPETED                                                  6512\n",
       "SMALL BUSINESS SET ASIDE - PARTIAL                           5501\n",
       "SERVICE DISABLED VETERAN OWNED SMALL BUSINESS SET-ASIDE      3448\n",
       "8(A) SOLE SOURCE                                             2961\n",
       "HUBZONE SET-ASIDE                                            1867\n",
       "WOMEN OWNED SMALL BUSINESS                                    460\n",
       "SDVOSB SOLE SOURCE                                            144\n",
       "ECONOMICALLY DISADVANTAGED WOMEN OWNED SMALL BUSINESS         114\n",
       "HUBZONE SOLE SOURCE                                            41\n",
       "HUBZONE SOLE SOURCE                                             6\n",
       "8(A) WITH HUB ZONE PREFERENCE                                   3\n",
       "HBCU OR MI SET-ASIDE -- PARTIAL                                 3\n",
       "HBCU OR MI SET-ASIDE -- TOTAL                                   2\n",
       "Name: type_of_set_aside, dtype: int64"
      ]
     },
     "execution_count": 122,
     "metadata": {},
     "output_type": "execute_result"
    }
   ],
   "source": [
    "raw_data['type_of_set_aside'].value_counts()"
   ]
  },
  {
   "cell_type": "code",
   "execution_count": 123,
   "metadata": {},
   "outputs": [
    {
     "data": {
      "text/plain": [
       "NONE       870135\n",
       "SBA         96636\n",
       "8AN         11415\n",
       "8A           6512\n",
       "SBP          5501\n",
       "SDVOSBC      3448\n",
       "HZC          1867\n",
       "WOSB          460\n",
       "SDVOSBS       144\n",
       "EDWOSB        114\n",
       "HZS            47\n",
       "HS3             3\n",
       "HMP             3\n",
       "HMT             2\n",
       "Name: type_of_set_aside_code, dtype: int64"
      ]
     },
     "execution_count": 123,
     "metadata": {},
     "output_type": "execute_result"
    }
   ],
   "source": [
    "raw_data['type_of_set_aside_code'].value_counts()"
   ]
  },
  {
   "cell_type": "code",
   "execution_count": 6,
   "metadata": {},
   "outputs": [],
   "source": [
    "raw_data['psc_description'] = raw_data['product_or_service_code_description'].copy() #renaming so it doesn't get deleted for having 'code' in header"
   ]
  },
  {
   "cell_type": "code",
   "execution_count": 41,
   "metadata": {},
   "outputs": [],
   "source": [
    "def initial_scrub(input_df):\n",
    "    '''description'''\n",
    "    raw_data_df = input_df.copy()\n",
    "    list_of_code_headers = list(raw_data_df.filter(regex='code'))\n",
    "    no_code_df = raw_data_df[raw_data_df.columns.drop(list_of_code_headers)].copy()\n",
    "    list_of_recipient_headers = list(no_code_df.filter(regex='recipient'))\n",
    "    no_recipient_df = no_code_df[no_code_df.columns.drop(list_of_recipient_headers)].copy()\n",
    "    list_of_business_headers = list(no_recipient_df.filter(regex='business'))\n",
    "    no_business_df = no_recipient_df[no_recipient_df.columns.drop(list_of_business_headers)].copy()\n",
    "    #need to drop other columns assciated with award winner, since these aren't known when award is announced\n",
    "    return no_business_df, list_of_code_headers, list_of_recipient_headers, list_of_business_headers"
   ]
  },
  {
   "cell_type": "code",
   "execution_count": 42,
   "metadata": {},
   "outputs": [],
   "source": [
    "def data_summary(input_df):\n",
    "    '''this function produces a summary of a raw data set. the summary contains three facts about each column of the\n",
    "    raw dataset: 1. the non-null count 2. the unique values contained in the column 3. the data type contained in the\n",
    "    column; this data type is determined by pandas, I think, and might not be exactly correct all of the time'''\n",
    "    working_df = input_df.copy()\n",
    "    column_null_counts = working_df.isnull().sum()\n",
    "    column_non_null_counts = len(working_df)-column_null_counts\n",
    "    unique_entries_per_column = working_df.nunique()\n",
    "    data_type = working_df.dtypes\n",
    "    summary_df = pd.concat([column_non_null_counts,unique_entries_per_column,data_type],axis=1)\n",
    "    summary_df.columns =  ['non_null_counts','unique_value_counts','data_type']\n",
    "    return summary_df"
   ]
  },
  {
   "cell_type": "code",
   "execution_count": 43,
   "metadata": {},
   "outputs": [],
   "source": [
    "smaller_raw_df, dropped_code_headers, dropped_recipient_headers, dropped_business_headers = initial_scrub(raw_data)"
   ]
  },
  {
   "cell_type": "code",
   "execution_count": 44,
   "metadata": {},
   "outputs": [
    {
     "data": {
      "text/plain": [
       "63"
      ]
     },
     "execution_count": 44,
     "metadata": {},
     "output_type": "execute_result"
    }
   ],
   "source": [
    "len(dropped_code_headers)"
   ]
  },
  {
   "cell_type": "code",
   "execution_count": 45,
   "metadata": {},
   "outputs": [
    {
     "data": {
      "text/plain": [
       "13"
      ]
     },
     "execution_count": 45,
     "metadata": {},
     "output_type": "execute_result"
    }
   ],
   "source": [
    "len(dropped_recipient_headers)"
   ]
  },
  {
   "cell_type": "code",
   "execution_count": 46,
   "metadata": {},
   "outputs": [
    {
     "data": {
      "text/plain": [
       "22"
      ]
     },
     "execution_count": 46,
     "metadata": {},
     "output_type": "execute_result"
    }
   ],
   "source": [
    "len(dropped_business_headers)"
   ]
  },
  {
   "cell_type": "code",
   "execution_count": 47,
   "metadata": {},
   "outputs": [],
   "source": [
    "smaller_raw_summary = data_summary(smaller_raw_df)"
   ]
  },
  {
   "cell_type": "code",
   "execution_count": 48,
   "metadata": {},
   "outputs": [
    {
     "data": {
      "text/html": [
       "<div>\n",
       "<style scoped>\n",
       "    .dataframe tbody tr th:only-of-type {\n",
       "        vertical-align: middle;\n",
       "    }\n",
       "\n",
       "    .dataframe tbody tr th {\n",
       "        vertical-align: top;\n",
       "    }\n",
       "\n",
       "    .dataframe thead th {\n",
       "        text-align: right;\n",
       "    }\n",
       "</style>\n",
       "<table border=\"1\" class=\"dataframe\">\n",
       "  <thead>\n",
       "    <tr style=\"text-align: right;\">\n",
       "      <th></th>\n",
       "      <th>non_null_counts</th>\n",
       "      <th>unique_value_counts</th>\n",
       "      <th>data_type</th>\n",
       "    </tr>\n",
       "  </thead>\n",
       "  <tbody>\n",
       "    <tr>\n",
       "      <td>contract_transaction_unique_key</td>\n",
       "      <td>1000000</td>\n",
       "      <td>1000000</td>\n",
       "      <td>object</td>\n",
       "    </tr>\n",
       "    <tr>\n",
       "      <td>award_id_piid</td>\n",
       "      <td>1000000</td>\n",
       "      <td>376481</td>\n",
       "      <td>object</td>\n",
       "    </tr>\n",
       "    <tr>\n",
       "      <td>modification_number</td>\n",
       "      <td>1000000</td>\n",
       "      <td>2330</td>\n",
       "      <td>object</td>\n",
       "    </tr>\n",
       "    <tr>\n",
       "      <td>transaction_number</td>\n",
       "      <td>1000000</td>\n",
       "      <td>19</td>\n",
       "      <td>int64</td>\n",
       "    </tr>\n",
       "    <tr>\n",
       "      <td>parent_award_agency_id</td>\n",
       "      <td>780145</td>\n",
       "      <td>30</td>\n",
       "      <td>object</td>\n",
       "    </tr>\n",
       "  </tbody>\n",
       "</table>\n",
       "</div>"
      ],
      "text/plain": [
       "                                 non_null_counts  unique_value_counts  \\\n",
       "contract_transaction_unique_key          1000000              1000000   \n",
       "award_id_piid                            1000000               376481   \n",
       "modification_number                      1000000                 2330   \n",
       "transaction_number                       1000000                   19   \n",
       "parent_award_agency_id                    780145                   30   \n",
       "\n",
       "                                data_type  \n",
       "contract_transaction_unique_key    object  \n",
       "award_id_piid                      object  \n",
       "modification_number                object  \n",
       "transaction_number                  int64  \n",
       "parent_award_agency_id             object  "
      ]
     },
     "execution_count": 48,
     "metadata": {},
     "output_type": "execute_result"
    }
   ],
   "source": [
    "smaller_raw_summary.head()"
   ]
  },
  {
   "cell_type": "code",
   "execution_count": 49,
   "metadata": {},
   "outputs": [
    {
     "data": {
      "text/plain": [
       "object     154\n",
       "float64     22\n",
       "int64        3\n",
       "Name: data_type, dtype: int64"
      ]
     },
     "execution_count": 49,
     "metadata": {},
     "output_type": "execute_result"
    }
   ],
   "source": [
    "smaller_raw_summary.data_type.value_counts()"
   ]
  },
  {
   "cell_type": "code",
   "execution_count": 50,
   "metadata": {},
   "outputs": [],
   "source": [
    "object_column_df = smaller_raw_summary[smaller_raw_summary.data_type=='object']\n",
    "float64_column_df = smaller_raw_summary[smaller_raw_summary.data_type=='float64']\n",
    "int64_column_df = smaller_raw_summary[smaller_raw_summary.data_type=='int64']"
   ]
  },
  {
   "cell_type": "code",
   "execution_count": 51,
   "metadata": {},
   "outputs": [
    {
     "data": {
      "text/html": [
       "<div>\n",
       "<style scoped>\n",
       "    .dataframe tbody tr th:only-of-type {\n",
       "        vertical-align: middle;\n",
       "    }\n",
       "\n",
       "    .dataframe tbody tr th {\n",
       "        vertical-align: top;\n",
       "    }\n",
       "\n",
       "    .dataframe thead th {\n",
       "        text-align: right;\n",
       "    }\n",
       "</style>\n",
       "<table border=\"1\" class=\"dataframe\">\n",
       "  <thead>\n",
       "    <tr style=\"text-align: right;\">\n",
       "      <th></th>\n",
       "      <th>non_null_counts</th>\n",
       "      <th>unique_value_counts</th>\n",
       "      <th>data_type</th>\n",
       "    </tr>\n",
       "  </thead>\n",
       "  <tbody>\n",
       "    <tr>\n",
       "      <td>transaction_number</td>\n",
       "      <td>1000000</td>\n",
       "      <td>19</td>\n",
       "      <td>int64</td>\n",
       "    </tr>\n",
       "    <tr>\n",
       "      <td>action_date_fiscal_year</td>\n",
       "      <td>1000000</td>\n",
       "      <td>1</td>\n",
       "      <td>int64</td>\n",
       "    </tr>\n",
       "    <tr>\n",
       "      <td>number_of_actions</td>\n",
       "      <td>1000000</td>\n",
       "      <td>238</td>\n",
       "      <td>int64</td>\n",
       "    </tr>\n",
       "  </tbody>\n",
       "</table>\n",
       "</div>"
      ],
      "text/plain": [
       "                         non_null_counts  unique_value_counts data_type\n",
       "transaction_number               1000000                   19     int64\n",
       "action_date_fiscal_year          1000000                    1     int64\n",
       "number_of_actions                1000000                  238     int64"
      ]
     },
     "execution_count": 51,
     "metadata": {},
     "output_type": "execute_result"
    }
   ],
   "source": [
    "int64_column_df"
   ]
  },
  {
   "cell_type": "code",
   "execution_count": 52,
   "metadata": {},
   "outputs": [
    {
     "data": {
      "text/plain": [
       "(22, 3)"
      ]
     },
     "execution_count": 52,
     "metadata": {},
     "output_type": "execute_result"
    }
   ],
   "source": [
    "float64_column_df.shape"
   ]
  },
  {
   "cell_type": "markdown",
   "metadata": {},
   "source": [
    "Many of the columns that contain data type float64 (above table) appear to be monetary"
   ]
  },
  {
   "cell_type": "code",
   "execution_count": 53,
   "metadata": {},
   "outputs": [
    {
     "data": {
      "text/plain": [
       "(1000000, 277)"
      ]
     },
     "execution_count": 53,
     "metadata": {},
     "output_type": "execute_result"
    }
   ],
   "source": [
    "raw_data.shape"
   ]
  },
  {
   "cell_type": "code",
   "execution_count": 54,
   "metadata": {},
   "outputs": [],
   "source": [
    "float64_column_df_null_filtered = float64_column_df[float64_column_df.non_null_counts>0.2*raw_data.shape[0]]"
   ]
  },
  {
   "cell_type": "code",
   "execution_count": 55,
   "metadata": {},
   "outputs": [
    {
     "data": {
      "text/plain": [
       "(10, 3)"
      ]
     },
     "execution_count": 55,
     "metadata": {},
     "output_type": "execute_result"
    }
   ],
   "source": [
    "float64_column_df_null_filtered.shape"
   ]
  },
  {
   "cell_type": "code",
   "execution_count": 56,
   "metadata": {},
   "outputs": [
    {
     "data": {
      "text/html": [
       "<div>\n",
       "<style scoped>\n",
       "    .dataframe tbody tr th:only-of-type {\n",
       "        vertical-align: middle;\n",
       "    }\n",
       "\n",
       "    .dataframe tbody tr th {\n",
       "        vertical-align: top;\n",
       "    }\n",
       "\n",
       "    .dataframe thead th {\n",
       "        text-align: right;\n",
       "    }\n",
       "</style>\n",
       "<table border=\"1\" class=\"dataframe\">\n",
       "  <thead>\n",
       "    <tr style=\"text-align: right;\">\n",
       "      <th></th>\n",
       "      <th>non_null_counts</th>\n",
       "      <th>unique_value_counts</th>\n",
       "      <th>data_type</th>\n",
       "    </tr>\n",
       "  </thead>\n",
       "  <tbody>\n",
       "    <tr>\n",
       "      <td>contract_transaction_unique_key</td>\n",
       "      <td>1000000</td>\n",
       "      <td>1000000</td>\n",
       "      <td>object</td>\n",
       "    </tr>\n",
       "    <tr>\n",
       "      <td>award_id_piid</td>\n",
       "      <td>1000000</td>\n",
       "      <td>376481</td>\n",
       "      <td>object</td>\n",
       "    </tr>\n",
       "    <tr>\n",
       "      <td>modification_number</td>\n",
       "      <td>1000000</td>\n",
       "      <td>2330</td>\n",
       "      <td>object</td>\n",
       "    </tr>\n",
       "    <tr>\n",
       "      <td>parent_award_agency_id</td>\n",
       "      <td>780145</td>\n",
       "      <td>30</td>\n",
       "      <td>object</td>\n",
       "    </tr>\n",
       "    <tr>\n",
       "      <td>parent_award_agency_name</td>\n",
       "      <td>371252</td>\n",
       "      <td>25</td>\n",
       "      <td>object</td>\n",
       "    </tr>\n",
       "    <tr>\n",
       "      <td>...</td>\n",
       "      <td>...</td>\n",
       "      <td>...</td>\n",
       "      <td>...</td>\n",
       "    </tr>\n",
       "    <tr>\n",
       "      <td>highly_compensated_officer_3_name</td>\n",
       "      <td>26055</td>\n",
       "      <td>256</td>\n",
       "      <td>object</td>\n",
       "    </tr>\n",
       "    <tr>\n",
       "      <td>highly_compensated_officer_4_name</td>\n",
       "      <td>26041</td>\n",
       "      <td>251</td>\n",
       "      <td>object</td>\n",
       "    </tr>\n",
       "    <tr>\n",
       "      <td>highly_compensated_officer_5_name</td>\n",
       "      <td>26015</td>\n",
       "      <td>240</td>\n",
       "      <td>object</td>\n",
       "    </tr>\n",
       "    <tr>\n",
       "      <td>last_modified_date</td>\n",
       "      <td>1000000</td>\n",
       "      <td>69509</td>\n",
       "      <td>object</td>\n",
       "    </tr>\n",
       "    <tr>\n",
       "      <td>psc_description</td>\n",
       "      <td>1000000</td>\n",
       "      <td>2080</td>\n",
       "      <td>object</td>\n",
       "    </tr>\n",
       "  </tbody>\n",
       "</table>\n",
       "<p>154 rows × 3 columns</p>\n",
       "</div>"
      ],
      "text/plain": [
       "                                   non_null_counts  unique_value_counts  \\\n",
       "contract_transaction_unique_key            1000000              1000000   \n",
       "award_id_piid                              1000000               376481   \n",
       "modification_number                        1000000                 2330   \n",
       "parent_award_agency_id                      780145                   30   \n",
       "parent_award_agency_name                    371252                   25   \n",
       "...                                            ...                  ...   \n",
       "highly_compensated_officer_3_name            26055                  256   \n",
       "highly_compensated_officer_4_name            26041                  251   \n",
       "highly_compensated_officer_5_name            26015                  240   \n",
       "last_modified_date                         1000000                69509   \n",
       "psc_description                            1000000                 2080   \n",
       "\n",
       "                                  data_type  \n",
       "contract_transaction_unique_key      object  \n",
       "award_id_piid                        object  \n",
       "modification_number                  object  \n",
       "parent_award_agency_id               object  \n",
       "parent_award_agency_name             object  \n",
       "...                                     ...  \n",
       "highly_compensated_officer_3_name    object  \n",
       "highly_compensated_officer_4_name    object  \n",
       "highly_compensated_officer_5_name    object  \n",
       "last_modified_date                   object  \n",
       "psc_description                      object  \n",
       "\n",
       "[154 rows x 3 columns]"
      ]
     },
     "execution_count": 56,
     "metadata": {},
     "output_type": "execute_result"
    }
   ],
   "source": [
    "object_column_df"
   ]
  },
  {
   "cell_type": "code",
   "execution_count": 57,
   "metadata": {},
   "outputs": [],
   "source": [
    "object_column_df_null_filtered = object_column_df[object_column_df.non_null_counts>0.2*raw_data.shape[0]]"
   ]
  },
  {
   "cell_type": "code",
   "execution_count": 58,
   "metadata": {},
   "outputs": [
    {
     "data": {
      "text/plain": [
       "(154, 3)"
      ]
     },
     "execution_count": 58,
     "metadata": {},
     "output_type": "execute_result"
    }
   ],
   "source": [
    "object_column_df.shape"
   ]
  },
  {
   "cell_type": "code",
   "execution_count": 60,
   "metadata": {},
   "outputs": [
    {
     "data": {
      "text/plain": [
       "(141, 3)"
      ]
     },
     "execution_count": 60,
     "metadata": {},
     "output_type": "execute_result"
    }
   ],
   "source": [
    "object_column_df_null_filtered.shape"
   ]
  },
  {
   "cell_type": "code",
   "execution_count": 36,
   "metadata": {},
   "outputs": [],
   "source": [
    "object_column_df_null_filtered_binary = object_column_df_null_filtered[object_column_df_null_filtered.unique_value_counts==2]"
   ]
  },
  {
   "cell_type": "code",
   "execution_count": 61,
   "metadata": {},
   "outputs": [],
   "source": [
    "object_column_df_null_filtered_no_binary = object_column_df_null_filtered[object_column_df_null_filtered.unique_value_counts!=2]"
   ]
  },
  {
   "cell_type": "code",
   "execution_count": 81,
   "metadata": {},
   "outputs": [
    {
     "data": {
      "text/plain": [
       "count         68.000000\n",
       "mean       39219.411765\n",
       "std       170218.426224\n",
       "min            1.000000\n",
       "25%            4.000000\n",
       "50%           14.000000\n",
       "75%          710.500000\n",
       "max      1000000.000000\n",
       "Name: unique_value_counts, dtype: float64"
      ]
     },
     "execution_count": 81,
     "metadata": {},
     "output_type": "execute_result"
    }
   ],
   "source": [
    "object_column_df_null_filtered_no_binary.unique_value_counts.describe()"
   ]
  },
  {
   "cell_type": "code",
   "execution_count": 75,
   "metadata": {},
   "outputs": [],
   "source": [
    "box_plot_data = object_column_df_null_filtered_no_binary[object_column_df_null_filtered_no_binary.unique_value_counts<100].copy()"
   ]
  },
  {
   "cell_type": "code",
   "execution_count": 77,
   "metadata": {},
   "outputs": [
    {
     "data": {
      "text/plain": [
       "(46, 3)"
      ]
     },
     "execution_count": 77,
     "metadata": {},
     "output_type": "execute_result"
    }
   ],
   "source": [
    "box_plot_data.shape"
   ]
  },
  {
   "cell_type": "code",
   "execution_count": null,
   "metadata": {},
   "outputs": [],
   "source": [
    "sns.boxplot(box_plot_data.unique_value_counts,orient='v')"
   ]
  },
  {
   "cell_type": "code",
   "execution_count": 37,
   "metadata": {},
   "outputs": [
    {
     "data": {
      "text/html": [
       "<div>\n",
       "<style scoped>\n",
       "    .dataframe tbody tr th:only-of-type {\n",
       "        vertical-align: middle;\n",
       "    }\n",
       "\n",
       "    .dataframe tbody tr th {\n",
       "        vertical-align: top;\n",
       "    }\n",
       "\n",
       "    .dataframe thead th {\n",
       "        text-align: right;\n",
       "    }\n",
       "</style>\n",
       "<table border=\"1\" class=\"dataframe\">\n",
       "  <thead>\n",
       "    <tr style=\"text-align: right;\">\n",
       "      <th></th>\n",
       "      <th>non_null_counts</th>\n",
       "      <th>unique_value_counts</th>\n",
       "      <th>data_type</th>\n",
       "    </tr>\n",
       "  </thead>\n",
       "  <tbody>\n",
       "    <tr>\n",
       "      <td>commercial_item_test_program</td>\n",
       "      <td>970999</td>\n",
       "      <td>2</td>\n",
       "      <td>object</td>\n",
       "    </tr>\n",
       "    <tr>\n",
       "      <td>a76_fair_act_action</td>\n",
       "      <td>384849</td>\n",
       "      <td>2</td>\n",
       "      <td>object</td>\n",
       "    </tr>\n",
       "    <tr>\n",
       "      <td>local_area_set_aside</td>\n",
       "      <td>384484</td>\n",
       "      <td>2</td>\n",
       "      <td>object</td>\n",
       "    </tr>\n",
       "    <tr>\n",
       "      <td>clinger_cohen_act_planning</td>\n",
       "      <td>384857</td>\n",
       "      <td>2</td>\n",
       "      <td>object</td>\n",
       "    </tr>\n",
       "    <tr>\n",
       "      <td>parent_award_single_or_multiple</td>\n",
       "      <td>352589</td>\n",
       "      <td>2</td>\n",
       "      <td>object</td>\n",
       "    </tr>\n",
       "    <tr>\n",
       "      <td>...</td>\n",
       "      <td>...</td>\n",
       "      <td>...</td>\n",
       "      <td>...</td>\n",
       "    </tr>\n",
       "    <tr>\n",
       "      <td>school_of_forestry</td>\n",
       "      <td>1000000</td>\n",
       "      <td>2</td>\n",
       "      <td>object</td>\n",
       "    </tr>\n",
       "    <tr>\n",
       "      <td>veterinary_college</td>\n",
       "      <td>1000000</td>\n",
       "      <td>2</td>\n",
       "      <td>object</td>\n",
       "    </tr>\n",
       "    <tr>\n",
       "      <td>dot_certified_disadvantage</td>\n",
       "      <td>1000000</td>\n",
       "      <td>2</td>\n",
       "      <td>object</td>\n",
       "    </tr>\n",
       "    <tr>\n",
       "      <td>c8a_program_participant</td>\n",
       "      <td>1000000</td>\n",
       "      <td>2</td>\n",
       "      <td>object</td>\n",
       "    </tr>\n",
       "    <tr>\n",
       "      <td>sba_certified_8a_joint_venture</td>\n",
       "      <td>1000000</td>\n",
       "      <td>2</td>\n",
       "      <td>object</td>\n",
       "    </tr>\n",
       "  </tbody>\n",
       "</table>\n",
       "<p>73 rows × 3 columns</p>\n",
       "</div>"
      ],
      "text/plain": [
       "                                 non_null_counts  unique_value_counts  \\\n",
       "commercial_item_test_program              970999                    2   \n",
       "a76_fair_act_action                       384849                    2   \n",
       "local_area_set_aside                      384484                    2   \n",
       "clinger_cohen_act_planning                384857                    2   \n",
       "parent_award_single_or_multiple           352589                    2   \n",
       "...                                          ...                  ...   \n",
       "school_of_forestry                       1000000                    2   \n",
       "veterinary_college                       1000000                    2   \n",
       "dot_certified_disadvantage               1000000                    2   \n",
       "c8a_program_participant                  1000000                    2   \n",
       "sba_certified_8a_joint_venture           1000000                    2   \n",
       "\n",
       "                                data_type  \n",
       "commercial_item_test_program       object  \n",
       "a76_fair_act_action                object  \n",
       "local_area_set_aside               object  \n",
       "clinger_cohen_act_planning         object  \n",
       "parent_award_single_or_multiple    object  \n",
       "...                                   ...  \n",
       "school_of_forestry                 object  \n",
       "veterinary_college                 object  \n",
       "dot_certified_disadvantage         object  \n",
       "c8a_program_participant            object  \n",
       "sba_certified_8a_joint_venture     object  \n",
       "\n",
       "[73 rows x 3 columns]"
      ]
     },
     "execution_count": 37,
     "metadata": {},
     "output_type": "execute_result"
    }
   ],
   "source": [
    "object_column_df_null_filtered_binary"
   ]
  },
  {
   "cell_type": "code",
   "execution_count": 25,
   "metadata": {},
   "outputs": [],
   "source": [
    "def get_filtered_summary_list(summary_df,max_null,min_unique,max_unique):\n",
    "    null_edited_df = summary_df[summary_df.non_null_counts>=max_null].copy()\n",
    "    unique_edited_df = null_edited_df[(null_edited_df.unique_value_counts>min_unique)&(null_edited_df.unique_value_counts<max_unique)].copy()\n",
    "    #data_type_edited_df = unique_edited_df[unique_edited_df.data_type.isin(data_type)].copy()\n",
    "    #data_type_edited_df = unique_edited_df[unique_edited_df.data_type==data_type].copy()\n",
    "    column_list = unique_edited_df.index.tolist()\n",
    "    print('the list is length '+str(len(column_list)))\n",
    "    return unique_edited_df, column_list"
   ]
  },
  {
   "cell_type": "code",
   "execution_count": 26,
   "metadata": {},
   "outputs": [
    {
     "name": "stdout",
     "output_type": "stream",
     "text": [
      "the list is length 19\n"
     ]
    }
   ],
   "source": [
    "edited_summary, test_list = get_filtered_summary_list(smaller_raw_summary,800000,3,50)"
   ]
  },
  {
   "cell_type": "code",
   "execution_count": 27,
   "metadata": {},
   "outputs": [
    {
     "data": {
      "text/html": [
       "<div>\n",
       "<style scoped>\n",
       "    .dataframe tbody tr th:only-of-type {\n",
       "        vertical-align: middle;\n",
       "    }\n",
       "\n",
       "    .dataframe tbody tr th {\n",
       "        vertical-align: top;\n",
       "    }\n",
       "\n",
       "    .dataframe thead th {\n",
       "        text-align: right;\n",
       "    }\n",
       "</style>\n",
       "<table border=\"1\" class=\"dataframe\">\n",
       "  <thead>\n",
       "    <tr style=\"text-align: right;\">\n",
       "      <th></th>\n",
       "      <th>non_null_counts</th>\n",
       "      <th>unique_value_counts</th>\n",
       "      <th>data_type</th>\n",
       "    </tr>\n",
       "  </thead>\n",
       "  <tbody>\n",
       "    <tr>\n",
       "      <td>transaction_number</td>\n",
       "      <td>1000000</td>\n",
       "      <td>19</td>\n",
       "      <td>int64</td>\n",
       "    </tr>\n",
       "    <tr>\n",
       "      <td>awarding_sub_agency_name</td>\n",
       "      <td>1000000</td>\n",
       "      <td>24</td>\n",
       "      <td>object</td>\n",
       "    </tr>\n",
       "    <tr>\n",
       "      <td>funding_agency_name</td>\n",
       "      <td>1000000</td>\n",
       "      <td>16</td>\n",
       "      <td>object</td>\n",
       "    </tr>\n",
       "    <tr>\n",
       "      <td>award_type</td>\n",
       "      <td>1000000</td>\n",
       "      <td>8</td>\n",
       "      <td>object</td>\n",
       "    </tr>\n",
       "    <tr>\n",
       "      <td>type_of_contract_pricing</td>\n",
       "      <td>1000000</td>\n",
       "      <td>16</td>\n",
       "      <td>object</td>\n",
       "    </tr>\n",
       "    <tr>\n",
       "      <td>contract_bundling</td>\n",
       "      <td>999478</td>\n",
       "      <td>4</td>\n",
       "      <td>object</td>\n",
       "    </tr>\n",
       "    <tr>\n",
       "      <td>dod_claimant_program_description</td>\n",
       "      <td>999994</td>\n",
       "      <td>27</td>\n",
       "      <td>object</td>\n",
       "    </tr>\n",
       "    <tr>\n",
       "      <td>recovered_materials_sustainability</td>\n",
       "      <td>998416</td>\n",
       "      <td>15</td>\n",
       "      <td>object</td>\n",
       "    </tr>\n",
       "    <tr>\n",
       "      <td>domestic_or_foreign_entity</td>\n",
       "      <td>916154</td>\n",
       "      <td>5</td>\n",
       "      <td>object</td>\n",
       "    </tr>\n",
       "    <tr>\n",
       "      <td>information_technology_commercial_item_category</td>\n",
       "      <td>997789</td>\n",
       "      <td>7</td>\n",
       "      <td>object</td>\n",
       "    </tr>\n",
       "    <tr>\n",
       "      <td>epa_designated_product</td>\n",
       "      <td>999983</td>\n",
       "      <td>5</td>\n",
       "      <td>object</td>\n",
       "    </tr>\n",
       "    <tr>\n",
       "      <td>place_of_manufacture</td>\n",
       "      <td>999162</td>\n",
       "      <td>16</td>\n",
       "      <td>object</td>\n",
       "    </tr>\n",
       "    <tr>\n",
       "      <td>extent_competed</td>\n",
       "      <td>999995</td>\n",
       "      <td>7</td>\n",
       "      <td>object</td>\n",
       "    </tr>\n",
       "    <tr>\n",
       "      <td>solicitation_procedures</td>\n",
       "      <td>999328</td>\n",
       "      <td>10</td>\n",
       "      <td>object</td>\n",
       "    </tr>\n",
       "    <tr>\n",
       "      <td>type_of_set_aside</td>\n",
       "      <td>996287</td>\n",
       "      <td>16</td>\n",
       "      <td>object</td>\n",
       "    </tr>\n",
       "    <tr>\n",
       "      <td>evaluated_preference</td>\n",
       "      <td>997509</td>\n",
       "      <td>5</td>\n",
       "      <td>object</td>\n",
       "    </tr>\n",
       "    <tr>\n",
       "      <td>fed_biz_opps</td>\n",
       "      <td>998816</td>\n",
       "      <td>4</td>\n",
       "      <td>object</td>\n",
       "    </tr>\n",
       "    <tr>\n",
       "      <td>national_interest_action</td>\n",
       "      <td>1000000</td>\n",
       "      <td>13</td>\n",
       "      <td>object</td>\n",
       "    </tr>\n",
       "    <tr>\n",
       "      <td>contract_financing</td>\n",
       "      <td>999957</td>\n",
       "      <td>6</td>\n",
       "      <td>object</td>\n",
       "    </tr>\n",
       "  </tbody>\n",
       "</table>\n",
       "</div>"
      ],
      "text/plain": [
       "                                                 non_null_counts  \\\n",
       "transaction_number                                       1000000   \n",
       "awarding_sub_agency_name                                 1000000   \n",
       "funding_agency_name                                      1000000   \n",
       "award_type                                               1000000   \n",
       "type_of_contract_pricing                                 1000000   \n",
       "contract_bundling                                         999478   \n",
       "dod_claimant_program_description                          999994   \n",
       "recovered_materials_sustainability                        998416   \n",
       "domestic_or_foreign_entity                                916154   \n",
       "information_technology_commercial_item_category           997789   \n",
       "epa_designated_product                                    999983   \n",
       "place_of_manufacture                                      999162   \n",
       "extent_competed                                           999995   \n",
       "solicitation_procedures                                   999328   \n",
       "type_of_set_aside                                         996287   \n",
       "evaluated_preference                                      997509   \n",
       "fed_biz_opps                                              998816   \n",
       "national_interest_action                                 1000000   \n",
       "contract_financing                                        999957   \n",
       "\n",
       "                                                 unique_value_counts data_type  \n",
       "transaction_number                                                19     int64  \n",
       "awarding_sub_agency_name                                          24    object  \n",
       "funding_agency_name                                               16    object  \n",
       "award_type                                                         8    object  \n",
       "type_of_contract_pricing                                          16    object  \n",
       "contract_bundling                                                  4    object  \n",
       "dod_claimant_program_description                                  27    object  \n",
       "recovered_materials_sustainability                                15    object  \n",
       "domestic_or_foreign_entity                                         5    object  \n",
       "information_technology_commercial_item_category                    7    object  \n",
       "epa_designated_product                                             5    object  \n",
       "place_of_manufacture                                              16    object  \n",
       "extent_competed                                                    7    object  \n",
       "solicitation_procedures                                           10    object  \n",
       "type_of_set_aside                                                 16    object  \n",
       "evaluated_preference                                               5    object  \n",
       "fed_biz_opps                                                       4    object  \n",
       "national_interest_action                                          13    object  \n",
       "contract_financing                                                 6    object  "
      ]
     },
     "execution_count": 27,
     "metadata": {},
     "output_type": "execute_result"
    }
   ],
   "source": [
    "edited_summary"
   ]
  },
  {
   "cell_type": "code",
   "execution_count": 112,
   "metadata": {},
   "outputs": [],
   "source": [
    "def column_count_cdf(data_df, column):\n",
    "    column_summary = pd.DataFrame(columns=['count','percent','percent_running_sum'])\n",
    "    column_summary['count'] = data_df[column].value_counts()\n",
    "    nonnulls = data_df[column].value_counts().sum()\n",
    "    column_summary['percent'] = data_df[column].value_counts()/nonnulls*100\n",
    "    column_summary['percent_running_sum'] = column_summary['percent'].cumsum()\n",
    "    #column_summary = column_summary.reset_index()\n",
    "    #column_summary = column_summary.drop('index',axis=1)\n",
    "    return column_summary\n",
    "\n",
    "def plot_cdf(data_df, columnlist):\n",
    "    max_x = 0\n",
    "    for column in columnlist:\n",
    "        print(column)\n",
    "        colsummary=column_count_cdf(data_df, column)\n",
    "        colsummary['percent_running_sum'].plot(linewidth=3)\n",
    "        if max_x<=max(colsummary['count']):\n",
    "            max_x = max(colsummary['count'])\n",
    "        print(max_x)\n",
    "    plt.legend(columnlist, fontsize=12)\n",
    "    plt.ylim([-5,105])\n",
    "    plt.xlim(xmin=-5)\n",
    "    plt.title('Target Distribution CDF',fontsize=20)\n",
    "    plt.xlabel('Target\\'s Unique Value',fontsize=15)\n",
    "    plt.ylabel('% of Values',fontsize=15)"
   ]
  },
  {
   "cell_type": "code",
   "execution_count": 115,
   "metadata": {},
   "outputs": [],
   "source": [
    "set_aside_summary = column_count_cdf(df,'type_of_set_aside_code')"
   ]
  },
  {
   "cell_type": "code",
   "execution_count": 116,
   "metadata": {},
   "outputs": [
    {
     "data": {
      "text/html": [
       "<div>\n",
       "<style scoped>\n",
       "    .dataframe tbody tr th:only-of-type {\n",
       "        vertical-align: middle;\n",
       "    }\n",
       "\n",
       "    .dataframe tbody tr th {\n",
       "        vertical-align: top;\n",
       "    }\n",
       "\n",
       "    .dataframe thead th {\n",
       "        text-align: right;\n",
       "    }\n",
       "</style>\n",
       "<table border=\"1\" class=\"dataframe\">\n",
       "  <thead>\n",
       "    <tr style=\"text-align: right;\">\n",
       "      <th></th>\n",
       "      <th>count</th>\n",
       "      <th>percent</th>\n",
       "      <th>percent_running_sum</th>\n",
       "    </tr>\n",
       "  </thead>\n",
       "  <tbody>\n",
       "    <tr>\n",
       "      <td>NONE</td>\n",
       "      <td>147731</td>\n",
       "      <td>54.529985</td>\n",
       "      <td>54.529985</td>\n",
       "    </tr>\n",
       "    <tr>\n",
       "      <td>SBA</td>\n",
       "      <td>76884</td>\n",
       "      <td>28.379171</td>\n",
       "      <td>82.909157</td>\n",
       "    </tr>\n",
       "    <tr>\n",
       "      <td>8AN</td>\n",
       "      <td>19629</td>\n",
       "      <td>7.245393</td>\n",
       "      <td>90.154549</td>\n",
       "    </tr>\n",
       "    <tr>\n",
       "      <td>8A</td>\n",
       "      <td>15205</td>\n",
       "      <td>5.612420</td>\n",
       "      <td>95.766969</td>\n",
       "    </tr>\n",
       "    <tr>\n",
       "      <td>SDVOSBC</td>\n",
       "      <td>4153</td>\n",
       "      <td>1.532942</td>\n",
       "      <td>97.299911</td>\n",
       "    </tr>\n",
       "    <tr>\n",
       "      <td>HZC</td>\n",
       "      <td>3833</td>\n",
       "      <td>1.414824</td>\n",
       "      <td>98.714736</td>\n",
       "    </tr>\n",
       "    <tr>\n",
       "      <td>WOSB</td>\n",
       "      <td>1998</td>\n",
       "      <td>0.737495</td>\n",
       "      <td>99.452231</td>\n",
       "    </tr>\n",
       "    <tr>\n",
       "      <td>SBP</td>\n",
       "      <td>814</td>\n",
       "      <td>0.300461</td>\n",
       "      <td>99.752692</td>\n",
       "    </tr>\n",
       "    <tr>\n",
       "      <td>EDWOSB</td>\n",
       "      <td>346</td>\n",
       "      <td>0.127714</td>\n",
       "      <td>99.880406</td>\n",
       "    </tr>\n",
       "    <tr>\n",
       "      <td>SDVOSBS</td>\n",
       "      <td>177</td>\n",
       "      <td>0.065334</td>\n",
       "      <td>99.945740</td>\n",
       "    </tr>\n",
       "    <tr>\n",
       "      <td>HZS</td>\n",
       "      <td>73</td>\n",
       "      <td>0.026946</td>\n",
       "      <td>99.972685</td>\n",
       "    </tr>\n",
       "    <tr>\n",
       "      <td>WOSBSS</td>\n",
       "      <td>59</td>\n",
       "      <td>0.021778</td>\n",
       "      <td>99.994463</td>\n",
       "    </tr>\n",
       "    <tr>\n",
       "      <td>EDWOSBSS</td>\n",
       "      <td>10</td>\n",
       "      <td>0.003691</td>\n",
       "      <td>99.998154</td>\n",
       "    </tr>\n",
       "    <tr>\n",
       "      <td>ISBEE</td>\n",
       "      <td>3</td>\n",
       "      <td>0.001107</td>\n",
       "      <td>99.999262</td>\n",
       "    </tr>\n",
       "    <tr>\n",
       "      <td>HS3</td>\n",
       "      <td>1</td>\n",
       "      <td>0.000369</td>\n",
       "      <td>99.999631</td>\n",
       "    </tr>\n",
       "    <tr>\n",
       "      <td>IEE</td>\n",
       "      <td>1</td>\n",
       "      <td>0.000369</td>\n",
       "      <td>100.000000</td>\n",
       "    </tr>\n",
       "  </tbody>\n",
       "</table>\n",
       "</div>"
      ],
      "text/plain": [
       "           count    percent  percent_running_sum\n",
       "NONE      147731  54.529985            54.529985\n",
       "SBA        76884  28.379171            82.909157\n",
       "8AN        19629   7.245393            90.154549\n",
       "8A         15205   5.612420            95.766969\n",
       "SDVOSBC     4153   1.532942            97.299911\n",
       "HZC         3833   1.414824            98.714736\n",
       "WOSB        1998   0.737495            99.452231\n",
       "SBP          814   0.300461            99.752692\n",
       "EDWOSB       346   0.127714            99.880406\n",
       "SDVOSBS      177   0.065334            99.945740\n",
       "HZS           73   0.026946            99.972685\n",
       "WOSBSS        59   0.021778            99.994463\n",
       "EDWOSBSS      10   0.003691            99.998154\n",
       "ISBEE          3   0.001107            99.999262\n",
       "HS3            1   0.000369            99.999631\n",
       "IEE            1   0.000369           100.000000"
      ]
     },
     "execution_count": 116,
     "metadata": {},
     "output_type": "execute_result"
    }
   ],
   "source": [
    "set_aside_summary_no_none = set_aside_summary"
   ]
  },
  {
   "cell_type": "code",
   "execution_count": 120,
   "metadata": {},
   "outputs": [
    {
     "ename": "KeyError",
     "evalue": "\"['type_of_set_aside_description'] not in index\"",
     "output_type": "error",
     "traceback": [
      "\u001b[0;31m---------------------------------------------------------------------------\u001b[0m",
      "\u001b[0;31mKeyError\u001b[0m                                  Traceback (most recent call last)",
      "\u001b[0;32m<ipython-input-120-06c34f2d2b1c>\u001b[0m in \u001b[0;36m<module>\u001b[0;34m\u001b[0m\n\u001b[0;32m----> 1\u001b[0;31m \u001b[0mdf\u001b[0m\u001b[0;34m[\u001b[0m\u001b[0;34m[\u001b[0m\u001b[0;34m'type_of_set_aside_code'\u001b[0m\u001b[0;34m,\u001b[0m\u001b[0;34m'type_of_set_aside_description'\u001b[0m\u001b[0;34m]\u001b[0m\u001b[0;34m]\u001b[0m\u001b[0;34m\u001b[0m\u001b[0;34m\u001b[0m\u001b[0m\n\u001b[0m",
      "\u001b[0;32m~/anaconda3/lib/python3.7/site-packages/pandas/core/frame.py\u001b[0m in \u001b[0;36m__getitem__\u001b[0;34m(self, key)\u001b[0m\n\u001b[1;32m   2984\u001b[0m             \u001b[0;32mif\u001b[0m \u001b[0mis_iterator\u001b[0m\u001b[0;34m(\u001b[0m\u001b[0mkey\u001b[0m\u001b[0;34m)\u001b[0m\u001b[0;34m:\u001b[0m\u001b[0;34m\u001b[0m\u001b[0;34m\u001b[0m\u001b[0m\n\u001b[1;32m   2985\u001b[0m                 \u001b[0mkey\u001b[0m \u001b[0;34m=\u001b[0m \u001b[0mlist\u001b[0m\u001b[0;34m(\u001b[0m\u001b[0mkey\u001b[0m\u001b[0;34m)\u001b[0m\u001b[0;34m\u001b[0m\u001b[0;34m\u001b[0m\u001b[0m\n\u001b[0;32m-> 2986\u001b[0;31m             \u001b[0mindexer\u001b[0m \u001b[0;34m=\u001b[0m \u001b[0mself\u001b[0m\u001b[0;34m.\u001b[0m\u001b[0mloc\u001b[0m\u001b[0;34m.\u001b[0m\u001b[0m_convert_to_indexer\u001b[0m\u001b[0;34m(\u001b[0m\u001b[0mkey\u001b[0m\u001b[0;34m,\u001b[0m \u001b[0maxis\u001b[0m\u001b[0;34m=\u001b[0m\u001b[0;36m1\u001b[0m\u001b[0;34m,\u001b[0m \u001b[0mraise_missing\u001b[0m\u001b[0;34m=\u001b[0m\u001b[0;32mTrue\u001b[0m\u001b[0;34m)\u001b[0m\u001b[0;34m\u001b[0m\u001b[0;34m\u001b[0m\u001b[0m\n\u001b[0m\u001b[1;32m   2987\u001b[0m \u001b[0;34m\u001b[0m\u001b[0m\n\u001b[1;32m   2988\u001b[0m         \u001b[0;31m# take() does not accept boolean indexers\u001b[0m\u001b[0;34m\u001b[0m\u001b[0;34m\u001b[0m\u001b[0;34m\u001b[0m\u001b[0m\n",
      "\u001b[0;32m~/anaconda3/lib/python3.7/site-packages/pandas/core/indexing.py\u001b[0m in \u001b[0;36m_convert_to_indexer\u001b[0;34m(self, obj, axis, is_setter, raise_missing)\u001b[0m\n\u001b[1;32m   1283\u001b[0m                 \u001b[0;31m# When setting, missing keys are not allowed, even with .loc:\u001b[0m\u001b[0;34m\u001b[0m\u001b[0;34m\u001b[0m\u001b[0;34m\u001b[0m\u001b[0m\n\u001b[1;32m   1284\u001b[0m                 \u001b[0mkwargs\u001b[0m \u001b[0;34m=\u001b[0m \u001b[0;34m{\u001b[0m\u001b[0;34m\"raise_missing\"\u001b[0m\u001b[0;34m:\u001b[0m \u001b[0;32mTrue\u001b[0m \u001b[0;32mif\u001b[0m \u001b[0mis_setter\u001b[0m \u001b[0;32melse\u001b[0m \u001b[0mraise_missing\u001b[0m\u001b[0;34m}\u001b[0m\u001b[0;34m\u001b[0m\u001b[0;34m\u001b[0m\u001b[0m\n\u001b[0;32m-> 1285\u001b[0;31m                 \u001b[0;32mreturn\u001b[0m \u001b[0mself\u001b[0m\u001b[0;34m.\u001b[0m\u001b[0m_get_listlike_indexer\u001b[0m\u001b[0;34m(\u001b[0m\u001b[0mobj\u001b[0m\u001b[0;34m,\u001b[0m \u001b[0maxis\u001b[0m\u001b[0;34m,\u001b[0m \u001b[0;34m**\u001b[0m\u001b[0mkwargs\u001b[0m\u001b[0;34m)\u001b[0m\u001b[0;34m[\u001b[0m\u001b[0;36m1\u001b[0m\u001b[0;34m]\u001b[0m\u001b[0;34m\u001b[0m\u001b[0;34m\u001b[0m\u001b[0m\n\u001b[0m\u001b[1;32m   1286\u001b[0m         \u001b[0;32melse\u001b[0m\u001b[0;34m:\u001b[0m\u001b[0;34m\u001b[0m\u001b[0;34m\u001b[0m\u001b[0m\n\u001b[1;32m   1287\u001b[0m             \u001b[0;32mtry\u001b[0m\u001b[0;34m:\u001b[0m\u001b[0;34m\u001b[0m\u001b[0;34m\u001b[0m\u001b[0m\n",
      "\u001b[0;32m~/anaconda3/lib/python3.7/site-packages/pandas/core/indexing.py\u001b[0m in \u001b[0;36m_get_listlike_indexer\u001b[0;34m(self, key, axis, raise_missing)\u001b[0m\n\u001b[1;32m   1090\u001b[0m \u001b[0;34m\u001b[0m\u001b[0m\n\u001b[1;32m   1091\u001b[0m         self._validate_read_indexer(\n\u001b[0;32m-> 1092\u001b[0;31m             \u001b[0mkeyarr\u001b[0m\u001b[0;34m,\u001b[0m \u001b[0mindexer\u001b[0m\u001b[0;34m,\u001b[0m \u001b[0mo\u001b[0m\u001b[0;34m.\u001b[0m\u001b[0m_get_axis_number\u001b[0m\u001b[0;34m(\u001b[0m\u001b[0maxis\u001b[0m\u001b[0;34m)\u001b[0m\u001b[0;34m,\u001b[0m \u001b[0mraise_missing\u001b[0m\u001b[0;34m=\u001b[0m\u001b[0mraise_missing\u001b[0m\u001b[0;34m\u001b[0m\u001b[0;34m\u001b[0m\u001b[0m\n\u001b[0m\u001b[1;32m   1093\u001b[0m         )\n\u001b[1;32m   1094\u001b[0m         \u001b[0;32mreturn\u001b[0m \u001b[0mkeyarr\u001b[0m\u001b[0;34m,\u001b[0m \u001b[0mindexer\u001b[0m\u001b[0;34m\u001b[0m\u001b[0;34m\u001b[0m\u001b[0m\n",
      "\u001b[0;32m~/anaconda3/lib/python3.7/site-packages/pandas/core/indexing.py\u001b[0m in \u001b[0;36m_validate_read_indexer\u001b[0;34m(self, key, indexer, axis, raise_missing)\u001b[0m\n\u001b[1;32m   1183\u001b[0m             \u001b[0;32mif\u001b[0m \u001b[0;32mnot\u001b[0m \u001b[0;34m(\u001b[0m\u001b[0mself\u001b[0m\u001b[0;34m.\u001b[0m\u001b[0mname\u001b[0m \u001b[0;34m==\u001b[0m \u001b[0;34m\"loc\"\u001b[0m \u001b[0;32mand\u001b[0m \u001b[0;32mnot\u001b[0m \u001b[0mraise_missing\u001b[0m\u001b[0;34m)\u001b[0m\u001b[0;34m:\u001b[0m\u001b[0;34m\u001b[0m\u001b[0;34m\u001b[0m\u001b[0m\n\u001b[1;32m   1184\u001b[0m                 \u001b[0mnot_found\u001b[0m \u001b[0;34m=\u001b[0m \u001b[0mlist\u001b[0m\u001b[0;34m(\u001b[0m\u001b[0mset\u001b[0m\u001b[0;34m(\u001b[0m\u001b[0mkey\u001b[0m\u001b[0;34m)\u001b[0m \u001b[0;34m-\u001b[0m \u001b[0mset\u001b[0m\u001b[0;34m(\u001b[0m\u001b[0max\u001b[0m\u001b[0;34m)\u001b[0m\u001b[0;34m)\u001b[0m\u001b[0;34m\u001b[0m\u001b[0;34m\u001b[0m\u001b[0m\n\u001b[0;32m-> 1185\u001b[0;31m                 \u001b[0;32mraise\u001b[0m \u001b[0mKeyError\u001b[0m\u001b[0;34m(\u001b[0m\u001b[0;34m\"{} not in index\"\u001b[0m\u001b[0;34m.\u001b[0m\u001b[0mformat\u001b[0m\u001b[0;34m(\u001b[0m\u001b[0mnot_found\u001b[0m\u001b[0;34m)\u001b[0m\u001b[0;34m)\u001b[0m\u001b[0;34m\u001b[0m\u001b[0;34m\u001b[0m\u001b[0m\n\u001b[0m\u001b[1;32m   1186\u001b[0m \u001b[0;34m\u001b[0m\u001b[0m\n\u001b[1;32m   1187\u001b[0m             \u001b[0;31m# we skip the warning on Categorical/Interval\u001b[0m\u001b[0;34m\u001b[0m\u001b[0;34m\u001b[0m\u001b[0;34m\u001b[0m\u001b[0m\n",
      "\u001b[0;31mKeyError\u001b[0m: \"['type_of_set_aside_description'] not in index\""
     ]
    }
   ],
   "source": [
    "df[['type_of_set_aside_code','type_of_set_aside_description']]"
   ]
  },
  {
   "cell_type": "code",
   "execution_count": null,
   "metadata": {},
   "outputs": [],
   "source": [
    "plot_cdf(smaller_raw_df,['naics_description'])"
   ]
  },
  {
   "cell_type": "code",
   "execution_count": 93,
   "metadata": {},
   "outputs": [
    {
     "data": {
      "text/html": [
       "<div>\n",
       "<style scoped>\n",
       "    .dataframe tbody tr th:only-of-type {\n",
       "        vertical-align: middle;\n",
       "    }\n",
       "\n",
       "    .dataframe tbody tr th {\n",
       "        vertical-align: top;\n",
       "    }\n",
       "\n",
       "    .dataframe thead th {\n",
       "        text-align: right;\n",
       "    }\n",
       "</style>\n",
       "<table border=\"1\" class=\"dataframe\">\n",
       "  <thead>\n",
       "    <tr style=\"text-align: right;\">\n",
       "      <th></th>\n",
       "      <th>count</th>\n",
       "      <th>percent</th>\n",
       "      <th>percent_running_sum</th>\n",
       "    </tr>\n",
       "  </thead>\n",
       "  <tbody>\n",
       "    <tr>\n",
       "      <td>0</td>\n",
       "      <td>147731</td>\n",
       "      <td>54.529985</td>\n",
       "      <td>54.529985</td>\n",
       "    </tr>\n",
       "    <tr>\n",
       "      <td>1</td>\n",
       "      <td>76884</td>\n",
       "      <td>28.379171</td>\n",
       "      <td>82.909157</td>\n",
       "    </tr>\n",
       "    <tr>\n",
       "      <td>2</td>\n",
       "      <td>19629</td>\n",
       "      <td>7.245393</td>\n",
       "      <td>90.154549</td>\n",
       "    </tr>\n",
       "    <tr>\n",
       "      <td>3</td>\n",
       "      <td>15205</td>\n",
       "      <td>5.612420</td>\n",
       "      <td>95.766969</td>\n",
       "    </tr>\n",
       "    <tr>\n",
       "      <td>4</td>\n",
       "      <td>4153</td>\n",
       "      <td>1.532942</td>\n",
       "      <td>97.299911</td>\n",
       "    </tr>\n",
       "    <tr>\n",
       "      <td>5</td>\n",
       "      <td>3833</td>\n",
       "      <td>1.414824</td>\n",
       "      <td>98.714736</td>\n",
       "    </tr>\n",
       "    <tr>\n",
       "      <td>6</td>\n",
       "      <td>1998</td>\n",
       "      <td>0.737495</td>\n",
       "      <td>99.452231</td>\n",
       "    </tr>\n",
       "    <tr>\n",
       "      <td>7</td>\n",
       "      <td>814</td>\n",
       "      <td>0.300461</td>\n",
       "      <td>99.752692</td>\n",
       "    </tr>\n",
       "    <tr>\n",
       "      <td>8</td>\n",
       "      <td>346</td>\n",
       "      <td>0.127714</td>\n",
       "      <td>99.880406</td>\n",
       "    </tr>\n",
       "    <tr>\n",
       "      <td>9</td>\n",
       "      <td>177</td>\n",
       "      <td>0.065334</td>\n",
       "      <td>99.945740</td>\n",
       "    </tr>\n",
       "    <tr>\n",
       "      <td>10</td>\n",
       "      <td>73</td>\n",
       "      <td>0.026946</td>\n",
       "      <td>99.972685</td>\n",
       "    </tr>\n",
       "    <tr>\n",
       "      <td>11</td>\n",
       "      <td>59</td>\n",
       "      <td>0.021778</td>\n",
       "      <td>99.994463</td>\n",
       "    </tr>\n",
       "    <tr>\n",
       "      <td>12</td>\n",
       "      <td>10</td>\n",
       "      <td>0.003691</td>\n",
       "      <td>99.998154</td>\n",
       "    </tr>\n",
       "    <tr>\n",
       "      <td>13</td>\n",
       "      <td>3</td>\n",
       "      <td>0.001107</td>\n",
       "      <td>99.999262</td>\n",
       "    </tr>\n",
       "    <tr>\n",
       "      <td>14</td>\n",
       "      <td>1</td>\n",
       "      <td>0.000369</td>\n",
       "      <td>99.999631</td>\n",
       "    </tr>\n",
       "    <tr>\n",
       "      <td>15</td>\n",
       "      <td>1</td>\n",
       "      <td>0.000369</td>\n",
       "      <td>100.000000</td>\n",
       "    </tr>\n",
       "  </tbody>\n",
       "</table>\n",
       "</div>"
      ],
      "text/plain": [
       "     count    percent  percent_running_sum\n",
       "0   147731  54.529985            54.529985\n",
       "1    76884  28.379171            82.909157\n",
       "2    19629   7.245393            90.154549\n",
       "3    15205   5.612420            95.766969\n",
       "4     4153   1.532942            97.299911\n",
       "5     3833   1.414824            98.714736\n",
       "6     1998   0.737495            99.452231\n",
       "7      814   0.300461            99.752692\n",
       "8      346   0.127714            99.880406\n",
       "9      177   0.065334            99.945740\n",
       "10      73   0.026946            99.972685\n",
       "11      59   0.021778            99.994463\n",
       "12      10   0.003691            99.998154\n",
       "13       3   0.001107            99.999262\n",
       "14       1   0.000369            99.999631\n",
       "15       1   0.000369           100.000000"
      ]
     },
     "execution_count": 93,
     "metadata": {},
     "output_type": "execute_result"
    }
   ],
   "source": [
    "set_aside_summary"
   ]
  },
  {
   "cell_type": "code",
   "execution_count": 91,
   "metadata": {},
   "outputs": [
    {
     "name": "stdout",
     "output_type": "stream",
     "text": [
      "type_of_set_aside_code\n",
      "147731\n"
     ]
    }
   ],
   "source": [
    "plot_cdf(df, ['type_of_set_aside_code'])"
   ]
  },
  {
   "cell_type": "code",
   "execution_count": 31,
   "metadata": {},
   "outputs": [],
   "source": [
    "column_summary = column_count_cdf(smaller_raw_df,'naics_description')"
   ]
  },
  {
   "cell_type": "code",
   "execution_count": 32,
   "metadata": {},
   "outputs": [
    {
     "data": {
      "text/html": [
       "<div>\n",
       "<style scoped>\n",
       "    .dataframe tbody tr th:only-of-type {\n",
       "        vertical-align: middle;\n",
       "    }\n",
       "\n",
       "    .dataframe tbody tr th {\n",
       "        vertical-align: top;\n",
       "    }\n",
       "\n",
       "    .dataframe thead th {\n",
       "        text-align: right;\n",
       "    }\n",
       "</style>\n",
       "<table border=\"1\" class=\"dataframe\">\n",
       "  <thead>\n",
       "    <tr style=\"text-align: right;\">\n",
       "      <th></th>\n",
       "      <th>count</th>\n",
       "      <th>percent</th>\n",
       "      <th>percent_running_sum</th>\n",
       "    </tr>\n",
       "  </thead>\n",
       "  <tbody>\n",
       "    <tr>\n",
       "      <td>0</td>\n",
       "      <td>181108</td>\n",
       "      <td>18.153788</td>\n",
       "      <td>18.153788</td>\n",
       "    </tr>\n",
       "    <tr>\n",
       "      <td>1</td>\n",
       "      <td>70069</td>\n",
       "      <td>7.023532</td>\n",
       "      <td>25.177320</td>\n",
       "    </tr>\n",
       "    <tr>\n",
       "      <td>2</td>\n",
       "      <td>38592</td>\n",
       "      <td>3.868360</td>\n",
       "      <td>29.045680</td>\n",
       "    </tr>\n",
       "    <tr>\n",
       "      <td>3</td>\n",
       "      <td>37681</td>\n",
       "      <td>3.777044</td>\n",
       "      <td>32.822724</td>\n",
       "    </tr>\n",
       "    <tr>\n",
       "      <td>4</td>\n",
       "      <td>36436</td>\n",
       "      <td>3.652249</td>\n",
       "      <td>36.474973</td>\n",
       "    </tr>\n",
       "    <tr>\n",
       "      <td>...</td>\n",
       "      <td>...</td>\n",
       "      <td>...</td>\n",
       "      <td>...</td>\n",
       "    </tr>\n",
       "    <tr>\n",
       "      <td>995</td>\n",
       "      <td>1</td>\n",
       "      <td>0.000100</td>\n",
       "      <td>99.999599</td>\n",
       "    </tr>\n",
       "    <tr>\n",
       "      <td>996</td>\n",
       "      <td>1</td>\n",
       "      <td>0.000100</td>\n",
       "      <td>99.999699</td>\n",
       "    </tr>\n",
       "    <tr>\n",
       "      <td>997</td>\n",
       "      <td>1</td>\n",
       "      <td>0.000100</td>\n",
       "      <td>99.999800</td>\n",
       "    </tr>\n",
       "    <tr>\n",
       "      <td>998</td>\n",
       "      <td>1</td>\n",
       "      <td>0.000100</td>\n",
       "      <td>99.999900</td>\n",
       "    </tr>\n",
       "    <tr>\n",
       "      <td>999</td>\n",
       "      <td>1</td>\n",
       "      <td>0.000100</td>\n",
       "      <td>100.000000</td>\n",
       "    </tr>\n",
       "  </tbody>\n",
       "</table>\n",
       "<p>1000 rows × 3 columns</p>\n",
       "</div>"
      ],
      "text/plain": [
       "      count    percent  percent_running_sum\n",
       "0    181108  18.153788            18.153788\n",
       "1     70069   7.023532            25.177320\n",
       "2     38592   3.868360            29.045680\n",
       "3     37681   3.777044            32.822724\n",
       "4     36436   3.652249            36.474973\n",
       "..      ...        ...                  ...\n",
       "995       1   0.000100            99.999599\n",
       "996       1   0.000100            99.999699\n",
       "997       1   0.000100            99.999800\n",
       "998       1   0.000100            99.999900\n",
       "999       1   0.000100           100.000000\n",
       "\n",
       "[1000 rows x 3 columns]"
      ]
     },
     "execution_count": 32,
     "metadata": {},
     "output_type": "execute_result"
    }
   ],
   "source": [
    "column_summary"
   ]
  }
 ],
 "metadata": {
  "kernelspec": {
   "display_name": "Python 3",
   "language": "python",
   "name": "python3"
  },
  "language_info": {
   "codemirror_mode": {
    "name": "ipython",
    "version": 3
   },
   "file_extension": ".py",
   "mimetype": "text/x-python",
   "name": "python",
   "nbconvert_exporter": "python",
   "pygments_lexer": "ipython3",
   "version": "3.7.4"
  }
 },
 "nbformat": 4,
 "nbformat_minor": 2
}
