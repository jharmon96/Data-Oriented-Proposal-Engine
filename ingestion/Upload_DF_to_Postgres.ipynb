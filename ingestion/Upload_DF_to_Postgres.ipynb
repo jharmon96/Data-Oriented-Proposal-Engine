{
 "cells": [
  {
   "cell_type": "markdown",
   "metadata": {},
   "source": [
    "#### You have to Create Database from Postgresql. Do not create the Table , following function will create the Table but not DB.\n",
    "\n",
    "- When you run this script it will create table in Postgresql and populate the all information from your Data Frame to Postgresql.\n",
    "- User only need to run the script and input the asking information.\n",
    "- User need to give exact path CSV file. (C:\\\\Users\\\\User\\\\Documents\\\\example.csv)\n",
    "- Default Postgresql Username : postgres.\n",
    "- Defaul Postgresql Password : postgres.\n",
    "- If you change your username and password please use them.\n"
   ]
  },
  {
   "cell_type": "code",
   "execution_count": 1,
   "metadata": {},
   "outputs": [
    {
     "name": "stdout",
     "output_type": "stream",
     "text": [
      "3.7.4\n"
     ]
    }
   ],
   "source": [
    "from platform import python_version\n",
    "\n",
    "print(python_version())"
   ]
  },
  {
   "cell_type": "code",
   "execution_count": 2,
   "metadata": {
    "scrolled": false
   },
   "outputs": [],
   "source": [
    "#Import all the module that I need.\n",
    "from sqlalchemy import create_engine\n",
    "import psycopg2\n",
    "import pandas as pd"
   ]
  },
  {
   "cell_type": "code",
   "execution_count": 6,
   "metadata": {},
   "outputs": [
    {
     "name": "stdout",
     "output_type": "stream",
     "text": [
      "Connecting to Postgresql...\n",
      "\n",
      "Successfully Connected to Postgres\n",
      ".\n",
      "Uploading CSV File to Postgres\n"
     ]
    }
   ],
   "source": [
    "#path         = input('Enter the Path of CSV file      : ')\n",
    "#db_name      = input('Enter Database Name             : ') #prompt user for existing db name\n",
    "#user_name    = input('Enter Postgres User Name        : ')\n",
    "#password     = input('Enter Postges Password          : ')\n",
    "#table_name   = input('Enter Table Name to Create      : ') #user naming the db table\n",
    "\n",
    "files = [\n",
    "    r'consolidated_data_filtered_bucketed.csv',\n",
    "    r'',\n",
    "    r'',\n",
    "    r'',\n",
    "    r''\n",
    "]\n",
    "\n",
    "base = r'/home/team/Documents/Data-Oriented-Proposal-Engine/SpendingData/'\n",
    "path = r'consolidated_data_filtered_bucketed.csv'\n",
    "db_name, user_name, password, table_name = 'usaspending', 'team', 'ZAQ!@#zaq123', 'latest'\n",
    "\n",
    "print('Connecting to Postgresql...\\n')\n",
    "engine = create_engine('postgresql+psycopg2://{}:{}@localhost/{}'.format(user_name,password,db_name)) #create connection to db\n",
    "print('Successfully Connected to Postgres\\n.')\n",
    "print('Uploading CSV File to Postgres')"
   ]
  },
  {
   "cell_type": "code",
   "execution_count": 7,
   "metadata": {},
   "outputs": [
    {
     "name": "stdout",
     "output_type": "stream",
     "text": [
      "Creating Data Frame...\n",
      "\n",
      "Uploaded 1 chunk\n",
      "Data Frame Successfully Created\n",
      "\n",
      "CSV file Successfully Uploaded to Postgres\n"
     ]
    }
   ],
   "source": [
    "#Create Pandas DataFrame for open our csv file.\n",
    "print('Creating Data Frame...\\n')\n",
    "\n",
    "chunksize = 10 ** 6\n",
    "x=0\n",
    "\n",
    "#Define function to connect db , create table and populate csv file values to Postgres Database.\n",
    "def upload_DF_to_postgres(df_to_upload, table_name=table_name, user_name=user_name, password=password, db_name=db_name):\n",
    "    df_to_upload.to_sql(table_name, engine, if_exists='append')\n",
    "    \n",
    "#, encoding='utf8'    \n",
    "for chunk in pd.read_csv(path, engine='python', chunksize=chunksize):\n",
    "        x+=1\n",
    "        upload_DF_to_postgres(chunk)\n",
    "        print(f\"Uploaded {x} chunk\")\n",
    "        \n",
    "print('Data Frame Successfully Created\\n')\n",
    "    \n",
    "    \n",
    "print('CSV file Successfully Uploaded to Postgres')"
   ]
  },
  {
   "cell_type": "code",
   "execution_count": null,
   "metadata": {},
   "outputs": [],
   "source": []
  }
 ],
 "metadata": {
  "kernelspec": {
   "display_name": "Python 3",
   "language": "python",
   "name": "python3"
  },
  "language_info": {
   "codemirror_mode": {
    "name": "ipython",
    "version": 3
   },
   "file_extension": ".py",
   "mimetype": "text/x-python",
   "name": "python",
   "nbconvert_exporter": "python",
   "pygments_lexer": "ipython3",
   "version": "3.6.9"
  }
 },
 "nbformat": 4,
 "nbformat_minor": 2
}
