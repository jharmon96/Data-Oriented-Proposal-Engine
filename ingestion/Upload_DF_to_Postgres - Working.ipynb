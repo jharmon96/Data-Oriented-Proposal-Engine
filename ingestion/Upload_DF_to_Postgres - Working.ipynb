{
 "cells": [
  {
   "cell_type": "markdown",
   "metadata": {},
   "source": [
    "#### You have to Create Database from Postgresql. Do not create the Table , following function will create the Table but not DB.\n",
    "\n",
    "- When you run this script it will create table in Postgresql and populate the all information from your Data Frame to Postgresql.\n",
    "- User only need to run the script and input the asking information.\n",
    "- User need to give exact path CSV file. (C:\\\\Users\\\\User\\\\Documents\\\\example.csv)\n",
    "- Default Postgresql Username : postgres.\n",
    "- Defaul Postgresql Password : postgres.\n",
    "- If you change your username and password please use them.\n"
   ]
  },
  {
   "cell_type": "code",
   "execution_count": 1,
   "metadata": {},
   "outputs": [
    {
     "name": "stdout",
     "output_type": "stream",
     "text": [
      "3.7.4\n"
     ]
    }
   ],
   "source": [
    "from platform import python_version\n",
    "\n",
    "print(python_version())"
   ]
  },
  {
   "cell_type": "code",
   "execution_count": 2,
   "metadata": {
    "scrolled": false
   },
   "outputs": [],
   "source": [
    "#Import all the module that I need.\n",
    "from sqlalchemy import create_engine\n",
    "import psycopg2\n",
    "import pandas as pd"
   ]
  },
  {
   "cell_type": "code",
   "execution_count": 3,
   "metadata": {
    "scrolled": true
   },
   "outputs": [
    {
     "name": "stdout",
     "output_type": "stream",
     "text": [
      "Connecting to Postgresql...\n",
      "\n",
      "Successfully Connected to Postgres\n",
      "\n"
     ]
    }
   ],
   "source": [
    "path = r'/home/team/Documents/Data-Oriented-Proposal-Engine/SpendingData/2017_097_Contracts_Full_20191009/2017_097_Contracts_Full_20191010_1.csv'\n",
    "db_name, ip, user_name, password, table_name = 'usaspending', 'dopelytics.site:5432','team', 'ZAQ!@#zaq123', '2017_1'\n",
    "\n",
    "print('Connecting to Postgresql...\\n')\n",
    "engine = create_engine('postgresql+psycopg2://{}:{}@{}/{}'.format(user_name,password,ip,db_name)) #create connection to db\n",
    "print('Successfully Connected to Postgres\\n')"
   ]
  },
  {
   "cell_type": "code",
   "execution_count": null,
   "metadata": {},
   "outputs": [
    {
     "name": "stdout",
     "output_type": "stream",
     "text": [
      "Creating Data Frame...\n",
      "\n",
      "Uploaded 0 chunk\n",
      "Uploaded 1 chunk\n",
      "Uploaded 2 chunk\n",
      "Uploaded 3 chunk\n",
      "Uploaded 4 chunk\n",
      "Uploaded 5 chunk\n",
      "Uploaded 6 chunk\n"
     ]
    }
   ],
   "source": [
    "#Create Pandas DataFrame to open our csv file.\n",
    "print('Creating Data Frame...\\n')\n",
    "\n",
    "chunksize = 10 ** 5\n",
    "x=0\n",
    "\n",
    "#Define function to connect db , create table and populate csv file values to Postgres Database.\n",
    "def upload_DF_to_postgres(df_to_upload, table_name=table_name, user_name=user_name, password=password, db_name=db_name):\n",
    "    df_to_upload.to_sql(table_name, engine, if_exists='append')\n",
    "    \n",
    "    \n",
    "for chunk in pd.read_csv(path, engine='python', encoding='utf8', chunksize=chunksize):\n",
    "    if x < 1000:   \n",
    "        try:\n",
    "            upload_DF_to_postgres(chunk)\n",
    "            print(f\"Uploaded {x} chunk\")\n",
    "        except:\n",
    "            print(f\"Failed to upload {x} chunk\")\n",
    "            pass \n",
    "    x+=1\n",
    "        \n",
    "print('Data Frame Successfully Created\\n')\n",
    "    \n",
    "    \n",
    "print('CSV file Successfully Uploaded to Postgres')"
   ]
  },
  {
   "cell_type": "code",
   "execution_count": 5,
   "metadata": {},
   "outputs": [
    {
     "data": {
      "text/plain": [
       "(207231, 276)"
      ]
     },
     "execution_count": 5,
     "metadata": {},
     "output_type": "execute_result"
    }
   ],
   "source": [
    "chunk.shape\n"
   ]
  },
  {
   "cell_type": "code",
   "execution_count": null,
   "metadata": {},
   "outputs": [],
   "source": []
  },
  {
   "cell_type": "code",
   "execution_count": null,
   "metadata": {},
   "outputs": [],
   "source": []
  }
 ],
 "metadata": {
  "kernelspec": {
   "display_name": "Python 3",
   "language": "python",
   "name": "python3"
  },
  "language_info": {
   "codemirror_mode": {
    "name": "ipython",
    "version": 3
   },
   "file_extension": ".py",
   "mimetype": "text/x-python",
   "name": "python",
   "nbconvert_exporter": "python",
   "pygments_lexer": "ipython3",
   "version": "3.7.4"
  }
 },
 "nbformat": 4,
 "nbformat_minor": 2
}
