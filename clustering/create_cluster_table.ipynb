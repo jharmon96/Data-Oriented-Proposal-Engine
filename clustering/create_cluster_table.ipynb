{
 "cells": [
  {
   "cell_type": "code",
   "execution_count": null,
   "metadata": {},
   "outputs": [],
   "source": [
    "# Import modules\n",
    "import psycopg2\n",
    "import pandas as pd\n",
    "import numpy as np\n",
    "from functools import reduce\n",
    "from sklearn.datasets.samples_generator import make_blobs\n",
    "from sklearn.cluster import KMeans\n",
    "import seaborn as sns\n",
    "import matplotlib.pyplot as plt\n",
    "from sklearn.decomposition import PCA"
   ]
  },
  {
   "cell_type": "code",
   "execution_count": null,
   "metadata": {},
   "outputs": [],
   "source": [
    "conn = psycopg2.connect(database='usaspending', user='postgres', password='gtown2019', host='127.0.0.1', port='5432')"
   ]
  },
  {
   "cell_type": "code",
   "execution_count": null,
   "metadata": {},
   "outputs": [],
   "source": [
    "df = pd.read_sql_query('SELECT recipient_duns, federal_action_obligation, base_and_exercised_options_value, base_and_all_options_value, number_of_employees, annual_revenue, awarding_sub_agency_name, primary_place_of_performance_state_code, award_type_code, product_or_service_code, naics_code, extent_competed_code, type_of_set_aside_code FROM professional_services',con=conn)"
   ]
  },
  {
   "cell_type": "code",
   "execution_count": null,
   "metadata": {},
   "outputs": [],
   "source": [
    "## Numerical data columns\n",
    "\n",
    "df_obs = df[['recipient_duns','federal_action_obligation']]\n",
    "df_obs = pd.pivot_table(df_obs,index=['recipient_duns'],values=['federal_action_obligation'],\n",
    "                        aggfunc=[np.mean], fill_value = 0)\n",
    "\n",
    "df_exercised_value = df[['recipient_duns','base_and_exercised_options_value']]\n",
    "df_exercised_value = pd.pivot_table(df_exercised_value,index=['recipient_duns'],values=['base_and_exercised_options_value'],\n",
    "                        aggfunc=[np.mean], fill_value = 0)\n",
    "\n",
    "df_all_value = df[['recipient_duns','base_and_all_options_value']]\n",
    "df_all_value = pd.pivot_table(df_all_value,index=['recipient_duns'],values=['base_and_all_options_value'],\n",
    "                        aggfunc=[np.mean], fill_value = 0)\n",
    "\n",
    "df_employees = df[['recipient_duns','number_of_employees']]\n",
    "df_employees = pd.pivot_table(df_employees,index=['recipient_duns'],values=['number_of_employees'],\n",
    "                        aggfunc=[np.mean], fill_value = 0)\n",
    "\n",
    "df_revenue = df[['recipient_duns','annual_revenue']]\n",
    "df_revenue = pd.pivot_table(df_revenue,index=['recipient_duns'],values=['annual_revenue'],\n",
    "                        aggfunc=[np.mean], fill_value = 0)"
   ]
  },
  {
   "cell_type": "code",
   "execution_count": null,
   "metadata": {},
   "outputs": [],
   "source": [
    "## Categorical data columns\n",
    "\n",
    "df_sub_agency = df[['recipient_duns','awarding_sub_agency_name']]\n",
    "df_sub_agency = pd.pivot_table(df_sub_agency, index=['recipient_duns'], columns=['awarding_sub_agency_name'], \n",
    "                        aggfunc=len, fill_value=0)\n",
    "\n",
    "df_state = df[['recipient_duns','primary_place_of_performance_state_code']]\n",
    "df_state = pd.pivot_table(df_state, index=['recipient_duns'], columns=['primary_place_of_performance_state_code'], \n",
    "                        aggfunc=len, fill_value=0)\n",
    "\n",
    "df_award_type = df[['recipient_duns','award_type_code']]\n",
    "df_award_type = pd.pivot_table(df_award_type, index=['recipient_duns'], columns=['award_type_code'], \n",
    "                        aggfunc=len, fill_value=0)\n",
    "\n",
    "df_psc = df[['recipient_duns','product_or_service_code']]\n",
    "df_psc = pd.pivot_table(df_psc, index=['recipient_duns'], columns=['product_or_service_code'], \n",
    "                        aggfunc=len, fill_value=0)\n",
    "\n",
    "df_naics = df[['recipient_duns','naics_code']]\n",
    "df_naics = pd.pivot_table(df_naics, index=['recipient_duns'], columns=['naics_code'], \n",
    "                        aggfunc=len, fill_value=0)\n",
    "\n",
    "df_extent = df[['recipient_duns','extent_competed_code']]\n",
    "df_extent = pd.pivot_table(df_extent, index=['recipient_duns'], columns=['extent_competed_code'], \n",
    "                        aggfunc=len, fill_value=0)\n",
    "\n",
    "df_set_aside = df[['recipient_duns','type_of_set_aside_code']]\n",
    "df_set_aside = pd.pivot_table(df_set_aside, index='recipient_duns', columns='type_of_set_aside_code', \n",
    "                        aggfunc=len, fill_value=0)"
   ]
  },
  {
   "cell_type": "code",
   "execution_count": null,
   "metadata": {},
   "outputs": [],
   "source": [
    "dfs = [df_obs, df_exercised_value, df_all_value, df_employees, df_revenue, df_sub_agency, df_state, df_award_type, \n",
    "       df_psc, df_naics, df_extent, df_set_aside]"
   ]
  },
  {
   "cell_type": "code",
   "execution_count": null,
   "metadata": {},
   "outputs": [],
   "source": [
    "df_merged = reduce(lambda  left,right: pd.merge(left,right,on=['recipient_duns'], how='outer'), dfs)\n",
    "df_merged.columns.values[0] = 'federal_action_obligation'\n",
    "df_merged.columns.values[1] = 'base_and_exercised_options_value'\n",
    "df_merged.columns.values[2] = 'base_and_all_options_value'\n",
    "df_merged.columns.values[3] = 'number_of_employees'\n",
    "df_merged.columns.values[4] = 'annual_revenue'\n",
    "df_merged.head()"
   ]
  },
  {
   "cell_type": "markdown",
   "metadata": {},
   "source": [
    "### Clustering (not working yet)"
   ]
  },
  {
   "cell_type": "code",
   "execution_count": null,
   "metadata": {},
   "outputs": [],
   "source": [
    "# Get all the features columns except the index\n",
    "features = list(df_merged.columns)\n",
    "# Get the features data\n",
    "data = df_merged[features]"
   ]
  },
  {
   "cell_type": "code",
   "execution_count": null,
   "metadata": {},
   "outputs": [],
   "source": [
    "clustering_kmeans = KMeans(n_clusters=20, precompute_distances=\"auto\", n_jobs=-1)\n",
    "data['Cluster'] = clustering_kmeans.fit_predict(data)\n",
    "data.head()"
   ]
  },
  {
   "cell_type": "code",
   "execution_count": null,
   "metadata": {},
   "outputs": [],
   "source": [
    "data['Cluster'].unique()"
   ]
  }
 ],
 "metadata": {
  "kernelspec": {
   "display_name": "Python 3",
   "language": "python",
   "name": "python3"
  },
  "language_info": {
   "codemirror_mode": {
    "name": "ipython",
    "version": 3
   },
   "file_extension": ".py",
   "mimetype": "text/x-python",
   "name": "python",
   "nbconvert_exporter": "python",
   "pygments_lexer": "ipython3",
   "version": "3.7.4"
  }
 },
 "nbformat": 4,
 "nbformat_minor": 2
}
