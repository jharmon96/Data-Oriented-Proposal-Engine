{
 "cells": [
  {
   "cell_type": "code",
   "execution_count": 1,
   "metadata": {},
   "outputs": [],
   "source": [
    "#import Libraries\n",
    "import psycopg2\n",
    "import numpy as np\n",
    "import pandas as pd\n",
    "pd.options.display.max_columns = 300"
   ]
  },
  {
   "cell_type": "code",
   "execution_count": 2,
   "metadata": {},
   "outputs": [],
   "source": [
    "#connect SQL\n",
    "conn = psycopg2.connect(database='usaspendingdb', user='postgres', password='Fatih123', host='127.0.0.1', port='5432')"
   ]
  },
  {
   "cell_type": "code",
   "execution_count": 3,
   "metadata": {},
   "outputs": [],
   "source": [
    "sql_cols = ('federal_action_obligation, '\n",
    "            'base_and_exercised_options_value, '\n",
    "            'base_and_all_options_value, '\n",
    "            'awarding_sub_agency_name, '\n",
    "            'awarding_office_name, '\n",
    "            'funding_sub_agency_name, '\n",
    "            'funding_office_name, '\n",
    "            'primary_place_of_performance_state_code, '\n",
    "            'award_or_idv_flag, '\n",
    "            'award_type, '\n",
    "            'type_of_contract_pricing, '\n",
    "            'dod_claimant_program_description, '\n",
    "            'type_of_set_aside_code, '\n",
    "            'contract_bundling, '\n",
    "            'national_interest_action, '\n",
    "            'gfe_gfp, '\n",
    "            'contract_financing, '\n",
    "            'portfolio_group, '\n",
    "            'product_or_service_code_description, '\n",
    "            'naics_bucket_title, '\n",
    "            'naics_description'\n",
    "            )"
   ]
  },
  {
   "cell_type": "code",
   "execution_count": 4,
   "metadata": {},
   "outputs": [
    {
     "data": {
      "text/plain": [
       "(35414, 21)"
      ]
     },
     "execution_count": 4,
     "metadata": {},
     "output_type": "execute_result"
    }
   ],
   "source": [
    "#Create DF\n",
    "df = pd.read_sql_query('SELECT ' + sql_cols + ' FROM consolidated_data_filtered_bucketed', con=conn)\n",
    "df.shape"
   ]
  },
  {
   "cell_type": "code",
   "execution_count": 5,
   "metadata": {},
   "outputs": [
    {
     "data": {
      "text/plain": [
       "federal_action_obligation                     0\n",
       "base_and_exercised_options_value              0\n",
       "base_and_all_options_value                    0\n",
       "awarding_sub_agency_name                      0\n",
       "awarding_office_name                          0\n",
       "funding_sub_agency_name                       0\n",
       "funding_office_name                          43\n",
       "primary_place_of_performance_state_code       0\n",
       "award_or_idv_flag                             0\n",
       "award_type                                    0\n",
       "type_of_contract_pricing                      0\n",
       "dod_claimant_program_description              1\n",
       "type_of_set_aside_code                      414\n",
       "contract_bundling                             0\n",
       "national_interest_action                      0\n",
       "gfe_gfp                                       0\n",
       "contract_financing                            0\n",
       "portfolio_group                               0\n",
       "product_or_service_code_description           0\n",
       "naics_bucket_title                         7870\n",
       "naics_description                           167\n",
       "dtype: int64"
      ]
     },
     "execution_count": 5,
     "metadata": {},
     "output_type": "execute_result"
    }
   ],
   "source": [
    "#Check if there is any null in DF.\n",
    "df.isnull().sum()"
   ]
  },
  {
   "cell_type": "code",
   "execution_count": 6,
   "metadata": {},
   "outputs": [
    {
     "data": {
      "text/plain": [
       "(35000, 21)"
      ]
     },
     "execution_count": 6,
     "metadata": {},
     "output_type": "execute_result"
    }
   ],
   "source": [
    "#Drop null rows from 'type_of_set_aside_code' column.\n",
    "df = df[pd.notnull(df['type_of_set_aside_code'])]\n",
    "df.shape"
   ]
  },
  {
   "cell_type": "code",
   "execution_count": 7,
   "metadata": {},
   "outputs": [
    {
     "data": {
      "text/plain": [
       "NONE       22154\n",
       "SBA         8619\n",
       "WOSB        1379\n",
       "8A          1222\n",
       "8AN         1185\n",
       "SDVOSBC      271\n",
       "HZC          108\n",
       "SBP           30\n",
       "SDVOSBS       14\n",
       "EDWOSB         7\n",
       "WOSBSS         6\n",
       "HZS            4\n",
       "ISBEE          1\n",
       "Name: type_of_set_aside_code, dtype: int64"
      ]
     },
     "execution_count": 7,
     "metadata": {},
     "output_type": "execute_result"
    }
   ],
   "source": [
    "df['type_of_set_aside_code'].value_counts()"
   ]
  },
  {
   "cell_type": "code",
   "execution_count": 8,
   "metadata": {},
   "outputs": [],
   "source": [
    "df['set_aside_number'] = df['type_of_set_aside_code'].map({'NONE':1, 'SBA':2, 'WOSB':3, '8A':4, '8AN':5, 'SDVOSBC':6,'HZC':7,\n",
    "                                                           'SBP':8, 'SDVOSBS':9, 'EDWOSB':10, 'WOSBSS':11, 'HZS':12, 'ISBEE':13})"
   ]
  },
  {
   "cell_type": "code",
   "execution_count": 9,
   "metadata": {},
   "outputs": [
    {
     "data": {
      "text/plain": [
       "1     22154\n",
       "2      8619\n",
       "3      1379\n",
       "4      1222\n",
       "5      1185\n",
       "6       271\n",
       "7       108\n",
       "8        30\n",
       "9        14\n",
       "10        7\n",
       "11        6\n",
       "12        4\n",
       "13        1\n",
       "Name: set_aside_number, dtype: int64"
      ]
     },
     "execution_count": 9,
     "metadata": {},
     "output_type": "execute_result"
    }
   ],
   "source": [
    "df['set_aside_number'].value_counts()"
   ]
  },
  {
   "cell_type": "code",
   "execution_count": 10,
   "metadata": {},
   "outputs": [],
   "source": [
    "def contract_value(c):\n",
    "    if c['base_and_exercised_options_value'] > 0:\n",
    "        return c['base_and_exercised_options_value']\n",
    "    elif c['base_and_all_options_value'] > 0:\n",
    "        return c['base_and_all_options_value']\n",
    "    elif c['federal_action_obligation'] > 0:\n",
    "        return c['federal_action_obligation'] \n",
    "    else:\n",
    "        return 0"
   ]
  },
  {
   "cell_type": "code",
   "execution_count": 11,
   "metadata": {},
   "outputs": [],
   "source": [
    "df['contract_value'] = df.apply(contract_value, axis=1)"
   ]
  },
  {
   "cell_type": "code",
   "execution_count": 12,
   "metadata": {},
   "outputs": [],
   "source": [
    "#Drop columns that we dont need anymore.\n",
    "df = df.drop(['type_of_set_aside_code','base_and_exercised_options_value','base_and_all_options_value',\n",
    "             'federal_action_obligation'], axis=1)"
   ]
  },
  {
   "cell_type": "code",
   "execution_count": 13,
   "metadata": {},
   "outputs": [
    {
     "data": {
      "text/plain": [
       "(27246, 19)"
      ]
     },
     "execution_count": 13,
     "metadata": {},
     "output_type": "execute_result"
    }
   ],
   "source": [
    "#Create another DF with non null columns and rows.\n",
    "df2 = df.dropna()\n",
    "df2.shape"
   ]
  },
  {
   "cell_type": "code",
   "execution_count": 14,
   "metadata": {},
   "outputs": [
    {
     "data": {
      "text/html": [
       "<div>\n",
       "<style scoped>\n",
       "    .dataframe tbody tr th:only-of-type {\n",
       "        vertical-align: middle;\n",
       "    }\n",
       "\n",
       "    .dataframe tbody tr th {\n",
       "        vertical-align: top;\n",
       "    }\n",
       "\n",
       "    .dataframe thead th {\n",
       "        text-align: right;\n",
       "    }\n",
       "</style>\n",
       "<table border=\"1\" class=\"dataframe\">\n",
       "  <thead>\n",
       "    <tr style=\"text-align: right;\">\n",
       "      <th></th>\n",
       "      <th>awarding_sub_agency_name</th>\n",
       "      <th>awarding_office_name</th>\n",
       "      <th>funding_sub_agency_name</th>\n",
       "      <th>funding_office_name</th>\n",
       "      <th>primary_place_of_performance_state_code</th>\n",
       "      <th>award_or_idv_flag</th>\n",
       "      <th>award_type</th>\n",
       "      <th>type_of_contract_pricing</th>\n",
       "      <th>dod_claimant_program_description</th>\n",
       "      <th>contract_bundling</th>\n",
       "      <th>national_interest_action</th>\n",
       "      <th>gfe_gfp</th>\n",
       "      <th>contract_financing</th>\n",
       "      <th>portfolio_group</th>\n",
       "      <th>product_or_service_code_description</th>\n",
       "      <th>naics_bucket_title</th>\n",
       "      <th>naics_description</th>\n",
       "      <th>set_aside_number</th>\n",
       "      <th>contract_value</th>\n",
       "    </tr>\n",
       "  </thead>\n",
       "  <tbody>\n",
       "    <tr>\n",
       "      <td>0</td>\n",
       "      <td>USTRANSCOM</td>\n",
       "      <td>USTRANSCOM-AQ</td>\n",
       "      <td>DEPT OF THE AIR FORCE</td>\n",
       "      <td>HQ AMC TE</td>\n",
       "      <td>TX</td>\n",
       "      <td>AWARD</td>\n",
       "      <td>DO</td>\n",
       "      <td>FIRM FIXED PRICE</td>\n",
       "      <td>SERVICES</td>\n",
       "      <td>NOT A BUNDLED REQUIREMENT</td>\n",
       "      <td>NONE</td>\n",
       "      <td>TRANSACTION DOES NOT USE GFE/GFP</td>\n",
       "      <td>NOT APPLICABLE</td>\n",
       "      <td>Transportation Services</td>\n",
       "      <td>TRANSPORTATION/TRAVEL/RELOCATION- TRAVEL/LODGI...</td>\n",
       "      <td>Air TransportationT</td>\n",
       "      <td>NONSCHEDULED CHARTERED PASSENGER AIR TRANSPORT...</td>\n",
       "      <td>1</td>\n",
       "      <td>64925.82</td>\n",
       "    </tr>\n",
       "    <tr>\n",
       "      <td>1</td>\n",
       "      <td>WASHINGTON HEADQUARTERS SERVICES (WHS)</td>\n",
       "      <td>WASHINGTON HEADQUARTERS SERVICES</td>\n",
       "      <td>WASHINGTON HEADQUARTERS SERVICES (WHS)</td>\n",
       "      <td>PENTAGON FORCE PROTECTION AGENCY</td>\n",
       "      <td>VA</td>\n",
       "      <td>AWARD</td>\n",
       "      <td>DO</td>\n",
       "      <td>FIRM FIXED PRICE</td>\n",
       "      <td>SERVICES</td>\n",
       "      <td>NOT A BUNDLED REQUIREMENT</td>\n",
       "      <td>NONE</td>\n",
       "      <td>TRANSACTION DOES NOT USE GFE/GFP</td>\n",
       "      <td>NOT APPLICABLE</td>\n",
       "      <td>Electronic &amp; Communication Services</td>\n",
       "      <td>INSTALLATION OF EQUIPMENT- ALARM, SIGNAL, AND ...</td>\n",
       "      <td>Administrative and Support and Waste Managemen...</td>\n",
       "      <td>SECURITY SYSTEMS SERVICES (EXCEPT LOCKSMITHS)</td>\n",
       "      <td>1</td>\n",
       "      <td>4897.96</td>\n",
       "    </tr>\n",
       "    <tr>\n",
       "      <td>3</td>\n",
       "      <td>DEFENSE LOGISTICS AGENCY</td>\n",
       "      <td>DLA DISPOSTION SERVICE - EBS</td>\n",
       "      <td>DEFENSE LOGISTICS AGENCY</td>\n",
       "      <td>DLA DISPOSTION SERVICE - EBS</td>\n",
       "      <td>WI</td>\n",
       "      <td>AWARD</td>\n",
       "      <td>DO</td>\n",
       "      <td>FIRM FIXED PRICE</td>\n",
       "      <td>SERVICES</td>\n",
       "      <td>NOT A BUNDLED REQUIREMENT</td>\n",
       "      <td>NONE</td>\n",
       "      <td>TRANSACTION DOES NOT USE GFE/GFP</td>\n",
       "      <td>NOT APPLICABLE</td>\n",
       "      <td>Facility Related Services</td>\n",
       "      <td>HOUSEKEEPING- WASTE TREATMENT/STORAGE</td>\n",
       "      <td>Administrative and Support and Waste Managemen...</td>\n",
       "      <td>HAZARDOUS WASTE TREATMENT AND DISPOSAL</td>\n",
       "      <td>4</td>\n",
       "      <td>5618.14</td>\n",
       "    </tr>\n",
       "    <tr>\n",
       "      <td>4</td>\n",
       "      <td>DEFENSE INFORMATION SYSTEMS AGENCY (DISA)</td>\n",
       "      <td>DITCO-SCOTT</td>\n",
       "      <td>DEPT OF THE ARMY</td>\n",
       "      <td>W4NH NETCOM HHC</td>\n",
       "      <td>TX</td>\n",
       "      <td>AWARD</td>\n",
       "      <td>BPA CALL</td>\n",
       "      <td>FIRM FIXED PRICE</td>\n",
       "      <td>SERVICES</td>\n",
       "      <td>NOT A BUNDLED REQUIREMENT</td>\n",
       "      <td>NONE</td>\n",
       "      <td>TRANSACTION DOES NOT USE GFE/GFP</td>\n",
       "      <td>NOT APPLICABLE</td>\n",
       "      <td>Electronic &amp; Communication Services</td>\n",
       "      <td>IT AND TELECOM- TELECOMMUNICATIONS AND TRANSMI...</td>\n",
       "      <td>InformationT</td>\n",
       "      <td>SATELLITE TELECOMMUNICATIONS</td>\n",
       "      <td>1</td>\n",
       "      <td>163.92</td>\n",
       "    </tr>\n",
       "    <tr>\n",
       "      <td>7</td>\n",
       "      <td>USTRANSCOM</td>\n",
       "      <td>USTRANSCOM-AQ</td>\n",
       "      <td>DEPT OF THE AIR FORCE</td>\n",
       "      <td>HQ AMC TE</td>\n",
       "      <td>KS</td>\n",
       "      <td>AWARD</td>\n",
       "      <td>DO</td>\n",
       "      <td>FIRM FIXED PRICE</td>\n",
       "      <td>SERVICES</td>\n",
       "      <td>NOT A BUNDLED REQUIREMENT</td>\n",
       "      <td>NONE</td>\n",
       "      <td>TRANSACTION DOES NOT USE GFE/GFP</td>\n",
       "      <td>NOT APPLICABLE</td>\n",
       "      <td>Transportation Services</td>\n",
       "      <td>TRANSPORTATION/TRAVEL/RELOCATION- TRAVEL/LODGI...</td>\n",
       "      <td>Air TransportationT</td>\n",
       "      <td>NONSCHEDULED CHARTERED PASSENGER AIR TRANSPORT...</td>\n",
       "      <td>1</td>\n",
       "      <td>220000.00</td>\n",
       "    </tr>\n",
       "  </tbody>\n",
       "</table>\n",
       "</div>"
      ],
      "text/plain": [
       "                    awarding_sub_agency_name  \\\n",
       "0                                 USTRANSCOM   \n",
       "1     WASHINGTON HEADQUARTERS SERVICES (WHS)   \n",
       "3                   DEFENSE LOGISTICS AGENCY   \n",
       "4  DEFENSE INFORMATION SYSTEMS AGENCY (DISA)   \n",
       "7                                 USTRANSCOM   \n",
       "\n",
       "               awarding_office_name                 funding_sub_agency_name  \\\n",
       "0                     USTRANSCOM-AQ                   DEPT OF THE AIR FORCE   \n",
       "1  WASHINGTON HEADQUARTERS SERVICES  WASHINGTON HEADQUARTERS SERVICES (WHS)   \n",
       "3      DLA DISPOSTION SERVICE - EBS                DEFENSE LOGISTICS AGENCY   \n",
       "4                       DITCO-SCOTT                        DEPT OF THE ARMY   \n",
       "7                     USTRANSCOM-AQ                   DEPT OF THE AIR FORCE   \n",
       "\n",
       "                funding_office_name primary_place_of_performance_state_code  \\\n",
       "0                         HQ AMC TE                                      TX   \n",
       "1  PENTAGON FORCE PROTECTION AGENCY                                      VA   \n",
       "3      DLA DISPOSTION SERVICE - EBS                                      WI   \n",
       "4                   W4NH NETCOM HHC                                      TX   \n",
       "7                         HQ AMC TE                                      KS   \n",
       "\n",
       "  award_or_idv_flag award_type type_of_contract_pricing  \\\n",
       "0             AWARD         DO         FIRM FIXED PRICE   \n",
       "1             AWARD         DO         FIRM FIXED PRICE   \n",
       "3             AWARD         DO         FIRM FIXED PRICE   \n",
       "4             AWARD   BPA CALL         FIRM FIXED PRICE   \n",
       "7             AWARD         DO         FIRM FIXED PRICE   \n",
       "\n",
       "  dod_claimant_program_description          contract_bundling  \\\n",
       "0                         SERVICES  NOT A BUNDLED REQUIREMENT   \n",
       "1                         SERVICES  NOT A BUNDLED REQUIREMENT   \n",
       "3                         SERVICES  NOT A BUNDLED REQUIREMENT   \n",
       "4                         SERVICES  NOT A BUNDLED REQUIREMENT   \n",
       "7                         SERVICES  NOT A BUNDLED REQUIREMENT   \n",
       "\n",
       "  national_interest_action                           gfe_gfp  \\\n",
       "0                     NONE  TRANSACTION DOES NOT USE GFE/GFP   \n",
       "1                     NONE  TRANSACTION DOES NOT USE GFE/GFP   \n",
       "3                     NONE  TRANSACTION DOES NOT USE GFE/GFP   \n",
       "4                     NONE  TRANSACTION DOES NOT USE GFE/GFP   \n",
       "7                     NONE  TRANSACTION DOES NOT USE GFE/GFP   \n",
       "\n",
       "  contract_financing                      portfolio_group  \\\n",
       "0     NOT APPLICABLE              Transportation Services   \n",
       "1     NOT APPLICABLE  Electronic & Communication Services   \n",
       "3     NOT APPLICABLE            Facility Related Services   \n",
       "4     NOT APPLICABLE  Electronic & Communication Services   \n",
       "7     NOT APPLICABLE              Transportation Services   \n",
       "\n",
       "                 product_or_service_code_description  \\\n",
       "0  TRANSPORTATION/TRAVEL/RELOCATION- TRAVEL/LODGI...   \n",
       "1  INSTALLATION OF EQUIPMENT- ALARM, SIGNAL, AND ...   \n",
       "3              HOUSEKEEPING- WASTE TREATMENT/STORAGE   \n",
       "4  IT AND TELECOM- TELECOMMUNICATIONS AND TRANSMI...   \n",
       "7  TRANSPORTATION/TRAVEL/RELOCATION- TRAVEL/LODGI...   \n",
       "\n",
       "                                  naics_bucket_title  \\\n",
       "0                               Air TransportationT    \n",
       "1  Administrative and Support and Waste Managemen...   \n",
       "3  Administrative and Support and Waste Managemen...   \n",
       "4                                       InformationT   \n",
       "7                               Air TransportationT    \n",
       "\n",
       "                                   naics_description  set_aside_number  \\\n",
       "0  NONSCHEDULED CHARTERED PASSENGER AIR TRANSPORT...                 1   \n",
       "1      SECURITY SYSTEMS SERVICES (EXCEPT LOCKSMITHS)                 1   \n",
       "3             HAZARDOUS WASTE TREATMENT AND DISPOSAL                 4   \n",
       "4                       SATELLITE TELECOMMUNICATIONS                 1   \n",
       "7  NONSCHEDULED CHARTERED PASSENGER AIR TRANSPORT...                 1   \n",
       "\n",
       "   contract_value  \n",
       "0        64925.82  \n",
       "1         4897.96  \n",
       "3         5618.14  \n",
       "4          163.92  \n",
       "7       220000.00  "
      ]
     },
     "execution_count": 14,
     "metadata": {},
     "output_type": "execute_result"
    }
   ],
   "source": [
    "df2.head()"
   ]
  },
  {
   "cell_type": "code",
   "execution_count": 15,
   "metadata": {},
   "outputs": [
    {
     "data": {
      "text/html": [
       "<div>\n",
       "<style scoped>\n",
       "    .dataframe tbody tr th:only-of-type {\n",
       "        vertical-align: middle;\n",
       "    }\n",
       "\n",
       "    .dataframe tbody tr th {\n",
       "        vertical-align: top;\n",
       "    }\n",
       "\n",
       "    .dataframe thead th {\n",
       "        text-align: right;\n",
       "    }\n",
       "</style>\n",
       "<table border=\"1\" class=\"dataframe\">\n",
       "  <thead>\n",
       "    <tr style=\"text-align: right;\">\n",
       "      <th></th>\n",
       "      <th>set_aside_number</th>\n",
       "      <th>contract_value</th>\n",
       "    </tr>\n",
       "  </thead>\n",
       "  <tbody>\n",
       "    <tr>\n",
       "      <td>count</td>\n",
       "      <td>27246.000000</td>\n",
       "      <td>2.724600e+04</td>\n",
       "    </tr>\n",
       "    <tr>\n",
       "      <td>mean</td>\n",
       "      <td>1.803274</td>\n",
       "      <td>4.596819e+05</td>\n",
       "    </tr>\n",
       "    <tr>\n",
       "      <td>std</td>\n",
       "      <td>1.217351</td>\n",
       "      <td>6.394049e+06</td>\n",
       "    </tr>\n",
       "    <tr>\n",
       "      <td>min</td>\n",
       "      <td>1.000000</td>\n",
       "      <td>1.000000e-02</td>\n",
       "    </tr>\n",
       "    <tr>\n",
       "      <td>25%</td>\n",
       "      <td>1.000000</td>\n",
       "      <td>2.400000e+03</td>\n",
       "    </tr>\n",
       "    <tr>\n",
       "      <td>50%</td>\n",
       "      <td>1.000000</td>\n",
       "      <td>9.800000e+03</td>\n",
       "    </tr>\n",
       "    <tr>\n",
       "      <td>75%</td>\n",
       "      <td>2.000000</td>\n",
       "      <td>7.646818e+04</td>\n",
       "    </tr>\n",
       "    <tr>\n",
       "      <td>max</td>\n",
       "      <td>12.000000</td>\n",
       "      <td>6.993686e+08</td>\n",
       "    </tr>\n",
       "  </tbody>\n",
       "</table>\n",
       "</div>"
      ],
      "text/plain": [
       "       set_aside_number  contract_value\n",
       "count      27246.000000    2.724600e+04\n",
       "mean           1.803274    4.596819e+05\n",
       "std            1.217351    6.394049e+06\n",
       "min            1.000000    1.000000e-02\n",
       "25%            1.000000    2.400000e+03\n",
       "50%            1.000000    9.800000e+03\n",
       "75%            2.000000    7.646818e+04\n",
       "max           12.000000    6.993686e+08"
      ]
     },
     "execution_count": 15,
     "metadata": {},
     "output_type": "execute_result"
    }
   ],
   "source": [
    "df2.describe()"
   ]
  },
  {
   "cell_type": "code",
   "execution_count": 16,
   "metadata": {},
   "outputs": [],
   "source": [
    "df3 = pd.get_dummies(df2)"
   ]
  },
  {
   "cell_type": "code",
   "execution_count": 17,
   "metadata": {},
   "outputs": [],
   "source": [
    "X = df3.drop(['set_aside_number'], axis=1)"
   ]
  },
  {
   "cell_type": "code",
   "execution_count": 18,
   "metadata": {},
   "outputs": [],
   "source": [
    "y = df3['set_aside_number']"
   ]
  },
  {
   "cell_type": "code",
   "execution_count": 19,
   "metadata": {},
   "outputs": [],
   "source": [
    "from sklearn.model_selection import train_test_split, cross_val_score\n",
    "from sklearn.metrics import confusion_matrix , classification_report\n",
    "from sklearn.svm import SVC"
   ]
  },
  {
   "cell_type": "code",
   "execution_count": 20,
   "metadata": {},
   "outputs": [],
   "source": [
    "X_train, X_test, y_train, y_test = train_test_split(X, y, test_size=0.20, random_state=42)"
   ]
  },
  {
   "cell_type": "code",
   "execution_count": 21,
   "metadata": {},
   "outputs": [],
   "source": [
    "model = SVC(kernel = 'rbf')"
   ]
  },
  {
   "cell_type": "code",
   "execution_count": 23,
   "metadata": {},
   "outputs": [
    {
     "name": "stderr",
     "output_type": "stream",
     "text": [
      "C:\\Users\\Fatih\\Anaconda3\\lib\\site-packages\\sklearn\\svm\\base.py:193: FutureWarning: The default value of gamma will change from 'auto' to 'scale' in version 0.22 to account better for unscaled features. Set gamma explicitly to 'auto' or 'scale' to avoid this warning.\n",
      "  \"avoid this warning.\", FutureWarning)\n"
     ]
    },
    {
     "data": {
      "text/plain": [
       "SVC(C=1.0, cache_size=200, class_weight=None, coef0=0.0,\n",
       "    decision_function_shape='ovr', degree=3, gamma='auto_deprecated',\n",
       "    kernel='rbf', max_iter=-1, probability=False, random_state=None,\n",
       "    shrinking=True, tol=0.001, verbose=False)"
      ]
     },
     "execution_count": 23,
     "metadata": {},
     "output_type": "execute_result"
    }
   ],
   "source": [
    "model.fit(X_train, y_train)"
   ]
  },
  {
   "cell_type": "code",
   "execution_count": 24,
   "metadata": {},
   "outputs": [],
   "source": [
    "predictions = model.predict(X_test)"
   ]
  },
  {
   "cell_type": "code",
   "execution_count": 25,
   "metadata": {},
   "outputs": [
    {
     "name": "stdout",
     "output_type": "stream",
     "text": [
      "[[2304  594    4    4    8    3    0    0    0    0    0]\n",
      " [ 835  811    8    5    0    2    0    0    0    0    0]\n",
      " [ 119  158   13    0    0    0    0    0    0    0    0]\n",
      " [ 135  100    0   11    0    0    0    0    0    0    0]\n",
      " [ 164   78    2    1    5    0    0    0    0    0    0]\n",
      " [  37   13    1    0    0    1    0    0    0    0    0]\n",
      " [  19    6    0    0    0    0    0    0    0    0    0]\n",
      " [   4    1    0    0    0    0    0    0    0    0    0]\n",
      " [   1    0    0    0    0    0    0    0    0    0    0]\n",
      " [   2    0    0    0    0    0    0    0    0    0    0]\n",
      " [   1    0    0    0    0    0    0    0    0    0    0]]\n",
      "              precision    recall  f1-score   support\n",
      "\n",
      "           1       0.64      0.79      0.70      2917\n",
      "           2       0.46      0.49      0.47      1661\n",
      "           3       0.46      0.04      0.08       290\n",
      "           4       0.52      0.04      0.08       246\n",
      "           5       0.38      0.02      0.04       250\n",
      "           6       0.17      0.02      0.03        52\n",
      "           7       0.00      0.00      0.00        25\n",
      "           8       0.00      0.00      0.00         5\n",
      "           9       0.00      0.00      0.00         1\n",
      "          10       0.00      0.00      0.00         2\n",
      "          11       0.00      0.00      0.00         1\n",
      "\n",
      "    accuracy                           0.58      5450\n",
      "   macro avg       0.24      0.13      0.13      5450\n",
      "weighted avg       0.55      0.58      0.53      5450\n",
      "\n"
     ]
    },
    {
     "name": "stderr",
     "output_type": "stream",
     "text": [
      "C:\\Users\\Fatih\\Anaconda3\\lib\\site-packages\\sklearn\\metrics\\classification.py:1437: UndefinedMetricWarning: Precision and F-score are ill-defined and being set to 0.0 in labels with no predicted samples.\n",
      "  'precision', 'predicted', average, warn_for)\n"
     ]
    }
   ],
   "source": [
    "print(confusion_matrix(y_test, predictions))\n",
    "print(classification_report(y_test, predictions))"
   ]
  },
  {
   "cell_type": "code",
   "execution_count": 28,
   "metadata": {},
   "outputs": [
    {
     "name": "stderr",
     "output_type": "stream",
     "text": [
      "C:\\Users\\Fatih\\Anaconda3\\lib\\site-packages\\sklearn\\model_selection\\_split.py:657: Warning: The least populated class in y has only 4 members, which is too few. The minimum number of members in any class cannot be less than n_splits=12.\n",
      "  % (min_groups, self.n_splits)), Warning)\n",
      "C:\\Users\\Fatih\\Anaconda3\\lib\\site-packages\\sklearn\\svm\\base.py:193: FutureWarning: The default value of gamma will change from 'auto' to 'scale' in version 0.22 to account better for unscaled features. Set gamma explicitly to 'auto' or 'scale' to avoid this warning.\n",
      "  \"avoid this warning.\", FutureWarning)\n",
      "C:\\Users\\Fatih\\Anaconda3\\lib\\site-packages\\sklearn\\svm\\base.py:193: FutureWarning: The default value of gamma will change from 'auto' to 'scale' in version 0.22 to account better for unscaled features. Set gamma explicitly to 'auto' or 'scale' to avoid this warning.\n",
      "  \"avoid this warning.\", FutureWarning)\n",
      "C:\\Users\\Fatih\\Anaconda3\\lib\\site-packages\\sklearn\\svm\\base.py:193: FutureWarning: The default value of gamma will change from 'auto' to 'scale' in version 0.22 to account better for unscaled features. Set gamma explicitly to 'auto' or 'scale' to avoid this warning.\n",
      "  \"avoid this warning.\", FutureWarning)\n",
      "C:\\Users\\Fatih\\Anaconda3\\lib\\site-packages\\sklearn\\svm\\base.py:193: FutureWarning: The default value of gamma will change from 'auto' to 'scale' in version 0.22 to account better for unscaled features. Set gamma explicitly to 'auto' or 'scale' to avoid this warning.\n",
      "  \"avoid this warning.\", FutureWarning)\n",
      "C:\\Users\\Fatih\\Anaconda3\\lib\\site-packages\\sklearn\\svm\\base.py:193: FutureWarning: The default value of gamma will change from 'auto' to 'scale' in version 0.22 to account better for unscaled features. Set gamma explicitly to 'auto' or 'scale' to avoid this warning.\n",
      "  \"avoid this warning.\", FutureWarning)\n",
      "C:\\Users\\Fatih\\Anaconda3\\lib\\site-packages\\sklearn\\svm\\base.py:193: FutureWarning: The default value of gamma will change from 'auto' to 'scale' in version 0.22 to account better for unscaled features. Set gamma explicitly to 'auto' or 'scale' to avoid this warning.\n",
      "  \"avoid this warning.\", FutureWarning)\n",
      "C:\\Users\\Fatih\\Anaconda3\\lib\\site-packages\\sklearn\\svm\\base.py:193: FutureWarning: The default value of gamma will change from 'auto' to 'scale' in version 0.22 to account better for unscaled features. Set gamma explicitly to 'auto' or 'scale' to avoid this warning.\n",
      "  \"avoid this warning.\", FutureWarning)\n",
      "C:\\Users\\Fatih\\Anaconda3\\lib\\site-packages\\sklearn\\svm\\base.py:193: FutureWarning: The default value of gamma will change from 'auto' to 'scale' in version 0.22 to account better for unscaled features. Set gamma explicitly to 'auto' or 'scale' to avoid this warning.\n",
      "  \"avoid this warning.\", FutureWarning)\n",
      "C:\\Users\\Fatih\\Anaconda3\\lib\\site-packages\\sklearn\\svm\\base.py:193: FutureWarning: The default value of gamma will change from 'auto' to 'scale' in version 0.22 to account better for unscaled features. Set gamma explicitly to 'auto' or 'scale' to avoid this warning.\n",
      "  \"avoid this warning.\", FutureWarning)\n",
      "C:\\Users\\Fatih\\Anaconda3\\lib\\site-packages\\sklearn\\svm\\base.py:193: FutureWarning: The default value of gamma will change from 'auto' to 'scale' in version 0.22 to account better for unscaled features. Set gamma explicitly to 'auto' or 'scale' to avoid this warning.\n",
      "  \"avoid this warning.\", FutureWarning)\n",
      "C:\\Users\\Fatih\\Anaconda3\\lib\\site-packages\\sklearn\\svm\\base.py:193: FutureWarning: The default value of gamma will change from 'auto' to 'scale' in version 0.22 to account better for unscaled features. Set gamma explicitly to 'auto' or 'scale' to avoid this warning.\n",
      "  \"avoid this warning.\", FutureWarning)\n",
      "C:\\Users\\Fatih\\Anaconda3\\lib\\site-packages\\sklearn\\svm\\base.py:193: FutureWarning: The default value of gamma will change from 'auto' to 'scale' in version 0.22 to account better for unscaled features. Set gamma explicitly to 'auto' or 'scale' to avoid this warning.\n",
      "  \"avoid this warning.\", FutureWarning)\n"
     ]
    }
   ],
   "source": [
    "score = cross_val_score(estimator=model, X=X, y=y, cv=12)"
   ]
  },
  {
   "cell_type": "code",
   "execution_count": 29,
   "metadata": {},
   "outputs": [
    {
     "name": "stdout",
     "output_type": "stream",
     "text": [
      "Accuracy :  0.5882525451078138\n"
     ]
    }
   ],
   "source": [
    "print('Accuracy : ',score.mean())"
   ]
  },
  {
   "cell_type": "code",
   "execution_count": null,
   "metadata": {},
   "outputs": [],
   "source": []
  }
 ],
 "metadata": {
  "kernelspec": {
   "display_name": "Python 3",
   "language": "python",
   "name": "python3"
  },
  "language_info": {
   "codemirror_mode": {
    "name": "ipython",
    "version": 3
   },
   "file_extension": ".py",
   "mimetype": "text/x-python",
   "name": "python",
   "nbconvert_exporter": "python",
   "pygments_lexer": "ipython3",
   "version": "3.7.4"
  }
 },
 "nbformat": 4,
 "nbformat_minor": 2
}
