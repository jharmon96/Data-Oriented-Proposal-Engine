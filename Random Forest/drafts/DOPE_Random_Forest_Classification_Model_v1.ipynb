{
 "cells": [
  {
   "cell_type": "code",
   "execution_count": 1,
   "metadata": {},
   "outputs": [],
   "source": [
    "# Import modules\n",
    "import psycopg2\n",
    "import numpy as np\n",
    "import pandas as pd\n",
    "import matplotlib.pyplot as plt\n",
    "import seaborn as sns\n",
    "import warnings\n",
    "import matplotlib.pyplot as plt\n",
    "warnings.simplefilter('ignore')\n",
    "pd.options.display.max_columns = 300\n",
    "sns.set_style('darkgrid')"
   ]
  },
  {
   "cell_type": "code",
   "execution_count": 2,
   "metadata": {},
   "outputs": [],
   "source": [
    "# Connect to PostgreSQL\n",
    "conn = psycopg2.connect(database='usaspending', user='team', password='ZAQ!@#zaq123', host='dopelytics.site', port='5432')"
   ]
  },
  {
   "cell_type": "markdown",
   "metadata": {},
   "source": [
    "### Initialize data set"
   ]
  },
  {
   "cell_type": "code",
   "execution_count": 3,
   "metadata": {},
   "outputs": [
    {
     "name": "stdout",
     "output_type": "stream",
     "text": [
      "Shape of initial df: (272790, 19)\n",
      "Shape with no NaN values: (270531, 19)\n"
     ]
    }
   ],
   "source": [
    "# Select data elements \n",
    "sql_cols = ('federal_action_obligation, '\n",
    "            #'total_dollars_obligated, '\n",
    "            'base_and_exercised_options_value, '\n",
    "            'base_and_all_options_value, '\n",
    "            #'awarding_sub_agency_name, '\n",
    "            'awarding_sub_agency_code, '\n",
    "            #'awarding_office_name, '\n",
    "            'awarding_office_code, '\n",
    "            #'funding_sub_agency_name, '\n",
    "            'funding_sub_agency_code, '\n",
    "            #'funding_office_name, '  too many NaN\n",
    "            'primary_place_of_performance_state_code, '\n",
    "            'award_or_idv_flag, '\n",
    "            #'award_type, '\n",
    "            'award_type_code, '\n",
    "            #'type_of_contract_pricing, '\n",
    "            'type_of_contract_pricing_code, '\n",
    "            #'dod_claimant_program_description, '\n",
    "            'dod_claimant_program_code, '\n",
    "            'type_of_set_aside_code, '\n",
    "            #'multi_year_contract, ' too many NaN\n",
    "            #'dod_acquisition_program_description, ' too many NaN\n",
    "            #'subcontracting_plan, ' too many NaN\n",
    "            #'contract_bundling, '\n",
    "            'contract_bundling_code, '\n",
    "            #'evaluated_preference, ' too many NaN\n",
    "            #'national_interest_action, '\n",
    "            'national_interest_action_code, '\n",
    "            #'cost_or_pricing_data, ' too many NaN\n",
    "            #'gfe_gfp, '\n",
    "            'gfe_gfp_code, '\n",
    "            #'contract_financing, '\n",
    "            'contract_financing_code, '\n",
    "            'portfolio_group, '\n",
    "            #'product_or_service_code_description, '\n",
    "            'product_or_service_code, '\n",
    "            #'naics_bucket_title, ' too many NaN\n",
    "            #'naics_description'\n",
    "            'naics_code'\n",
    "            )\n",
    "\n",
    "# Create dataframe\n",
    "sql_tbl_name = 'consolidated_data2'\n",
    "df = pd.read_sql_query('SELECT ' + sql_cols + ' FROM ' + sql_tbl_name, con=conn)\n",
    "print('Shape of initial df:', df.shape)\n",
    "\n",
    "# Drop rows with NaN values\n",
    "df = df.dropna()\n",
    "print('Shape with no NaN values:', df.shape)"
   ]
  },
  {
   "cell_type": "markdown",
   "metadata": {},
   "source": [
    "## ONLY For Predicting Future Years\n",
    "#### The following code should only be ran for training on 2015-2016 and applying to 2017 data"
   ]
  },
  {
   "cell_type": "code",
   "execution_count": null,
   "metadata": {},
   "outputs": [],
   "source": [
    "# Create dataframe\n",
    "sql_tbl_name = 'data_2017'\n",
    "df2 = pd.read_sql_query('SELECT ' + sql_cols + ' FROM ' + sql_tbl_name, con=conn)\n",
    "print('Shape of initial df:', df2.shape)\n",
    "\n",
    "# Drop rows with NaN values\n",
    "df2 = df2.dropna()\n",
    "print('Shape with no NaN values:', df2.shape)\n",
    "\n",
    "# Set matching features and 2015-2016 and 2017 data sets\n",
    "headers = list(df.columns)\n",
    "keys = headers\n",
    "i1 = df.set_index(keys).index\n",
    "i2 = df2.set_index(keys).index\n",
    "df = df[i1.isin(i2)]\n",
    "df2 = df2[i2.isin(i1)]"
   ]
  },
  {
   "cell_type": "markdown",
   "metadata": {},
   "source": [
    "#### BREAK -- proceed to following code"
   ]
  },
  {
   "cell_type": "code",
   "execution_count": 4,
   "metadata": {},
   "outputs": [],
   "source": [
    "# Create two columns for set-aside (0/1) and contract value\n",
    "\n",
    "def set_aside(c):\n",
    "    if c['type_of_set_aside_code'] == 'NONE':\n",
    "        return 0\n",
    "    else:\n",
    "        return 1\n",
    "\n",
    "def contract_value(c):\n",
    "    if c['base_and_exercised_options_value'] > 0:\n",
    "        return c['base_and_exercised_options_value']\n",
    "    elif c['base_and_all_options_value'] > 0:\n",
    "        return c['base_and_all_options_value']\n",
    "    elif c['federal_action_obligation'] > 0:\n",
    "        return c['federal_action_obligation'] \n",
    "    else:\n",
    "        return 0\n",
    "\n",
    "df['set_aside'] = df.apply(set_aside, axis=1)\n",
    "df['contract_value'] = df.apply(contract_value, axis=1)\n",
    "\n",
    "# Drop columns that are no longer needed\n",
    "df = df.drop(['type_of_set_aside_code','base_and_exercised_options_value','base_and_all_options_value',\n",
    "              'federal_action_obligation'], axis=1)"
   ]
  },
  {
   "cell_type": "markdown",
   "metadata": {},
   "source": [
    "## Feature Selection\n",
    "#### Initialize Model"
   ]
  },
  {
   "cell_type": "code",
   "execution_count": 38,
   "metadata": {},
   "outputs": [
    {
     "name": "stdout",
     "output_type": "stream",
     "text": [
      "Shape of OHE feature df: (270531, 3394)\n"
     ]
    }
   ],
   "source": [
    "# Create feature and target dataframes\n",
    "X_int = df.drop(['set_aside'], axis = 1)\n",
    "y = df['set_aside']\n",
    "\n",
    "# One hot encoding for features\n",
    "X_int = pd.get_dummies(X_int)\n",
    "print('Shape of OHE feature df:', X_int.shape)"
   ]
  },
  {
   "cell_type": "code",
   "execution_count": 39,
   "metadata": {},
   "outputs": [],
   "source": [
    "# Import Random Forest Classifier modules\n",
    "from sklearn.model_selection import train_test_split, cross_val_score\n",
    "from yellowbrick.classifier import ClassificationReport\n",
    "from sklearn.ensemble import RandomForestClassifier"
   ]
  },
  {
   "cell_type": "code",
   "execution_count": 40,
   "metadata": {},
   "outputs": [
    {
     "name": "stdout",
     "output_type": "stream",
     "text": [
      "Model Accuracy: 91.40%\n"
     ]
    }
   ],
   "source": [
    "# Fit initial model\n",
    "X_train, X_test, y_train, y_test = train_test_split(X_int, y, test_size=0.20, random_state=42)\n",
    "model = RandomForestClassifier(n_estimators=17, n_jobs=-1, random_state=0)\n",
    "model.fit(X_train, y_train)\n",
    "print('Model Accuracy: {:.2%}'.format(model.score(X_test, y_test)))"
   ]
  },
  {
   "cell_type": "markdown",
   "metadata": {},
   "source": [
    "#### Find Important Features"
   ]
  },
  {
   "cell_type": "code",
   "execution_count": 41,
   "metadata": {},
   "outputs": [
    {
     "name": "stdout",
     "output_type": "stream",
     "text": [
      "Shape of relevant features: (317, 2)\n",
      "Shape of initialized feature dataframe X with only relevant features: (270531, 317)\n"
     ]
    }
   ],
   "source": [
    "# Calcultae feature importance\n",
    "feature_importances = pd.DataFrame(model.feature_importances_,\n",
    "                                   index = X_train.columns,\n",
    "                                   columns=['importance']).sort_values('importance', ascending=False)\n",
    "# Sort descending important features...\n",
    "# Calculate cumalative percentage of total importance...\n",
    "# Only keep features accounting for top 80% of feature importance\n",
    "feature_importances['cumpercent'] = feature_importances['importance'].cumsum()/feature_importances['importance'].sum()*100\n",
    "relevant_features = feature_importances[feature_importances.cumpercent < 80]\n",
    "print('Shape of relevant features:', relevant_features.shape)\n",
    "\n",
    "# Create list of relevant features to create new dataframe with only relevant features\n",
    "list_relevant_features = list(relevant_features.index)\n",
    "\n",
    "X = X_int[list_relevant_features]\n",
    "print('Shape of initialized feature dataframe X with only relevant features:', X.shape)"
   ]
  },
  {
   "cell_type": "code",
   "execution_count": 42,
   "metadata": {},
   "outputs": [
    {
     "data": {
      "text/html": [
       "<div>\n",
       "<style scoped>\n",
       "    .dataframe tbody tr th:only-of-type {\n",
       "        vertical-align: middle;\n",
       "    }\n",
       "\n",
       "    .dataframe tbody tr th {\n",
       "        vertical-align: top;\n",
       "    }\n",
       "\n",
       "    .dataframe thead th {\n",
       "        text-align: right;\n",
       "    }\n",
       "</style>\n",
       "<table border=\"1\" class=\"dataframe\">\n",
       "  <thead>\n",
       "    <tr style=\"text-align: right;\">\n",
       "      <th></th>\n",
       "      <th>importance</th>\n",
       "      <th>cumpercent</th>\n",
       "    </tr>\n",
       "  </thead>\n",
       "  <tbody>\n",
       "    <tr>\n",
       "      <td>contract_value</td>\n",
       "      <td>0.122387</td>\n",
       "      <td>12.238687</td>\n",
       "    </tr>\n",
       "    <tr>\n",
       "      <td>dod_claimant_program_description_CONSTRUCTION</td>\n",
       "      <td>0.025552</td>\n",
       "      <td>14.793847</td>\n",
       "    </tr>\n",
       "    <tr>\n",
       "      <td>naics_description_COMMERCIAL AND INSTITUTIONAL BUILDING CONSTRUCTION</td>\n",
       "      <td>0.022363</td>\n",
       "      <td>17.030153</td>\n",
       "    </tr>\n",
       "    <tr>\n",
       "      <td>portfolio_group_Electronic &amp; Communication Services</td>\n",
       "      <td>0.013235</td>\n",
       "      <td>18.353668</td>\n",
       "    </tr>\n",
       "    <tr>\n",
       "      <td>portfolio_group_Facility Related Services</td>\n",
       "      <td>0.012115</td>\n",
       "      <td>19.565138</td>\n",
       "    </tr>\n",
       "    <tr>\n",
       "      <td>...</td>\n",
       "      <td>...</td>\n",
       "      <td>...</td>\n",
       "    </tr>\n",
       "    <tr>\n",
       "      <td>product_or_service_code_description_R&amp;D- DEFENSE SYSTEM: ELECTRONICS/COMMUNICATION EQUIPMENT (APPLIED RESEARCH/EXPLORATORY DEVELOPMENT)</td>\n",
       "      <td>0.000525</td>\n",
       "      <td>79.751213</td>\n",
       "    </tr>\n",
       "    <tr>\n",
       "      <td>contract_financing_PERFORMANCE-BASED FINANCING</td>\n",
       "      <td>0.000524</td>\n",
       "      <td>79.803645</td>\n",
       "    </tr>\n",
       "    <tr>\n",
       "      <td>naics_description_SITE PREPARATION CONTRACTORS</td>\n",
       "      <td>0.000523</td>\n",
       "      <td>79.855945</td>\n",
       "    </tr>\n",
       "    <tr>\n",
       "      <td>product_or_service_code_description_MAINTENANCE OF OTHER NON-BUILDING FACILITIES</td>\n",
       "      <td>0.000522</td>\n",
       "      <td>79.908170</td>\n",
       "    </tr>\n",
       "    <tr>\n",
       "      <td>awarding_office_name_NAVY MEDICINE PROFESSIONAL</td>\n",
       "      <td>0.000521</td>\n",
       "      <td>79.960257</td>\n",
       "    </tr>\n",
       "  </tbody>\n",
       "</table>\n",
       "<p>317 rows × 2 columns</p>\n",
       "</div>"
      ],
      "text/plain": [
       "                                                    importance  cumpercent\n",
       "contract_value                                        0.122387   12.238687\n",
       "dod_claimant_program_description_CONSTRUCTION         0.025552   14.793847\n",
       "naics_description_COMMERCIAL AND INSTITUTIONAL ...    0.022363   17.030153\n",
       "portfolio_group_Electronic & Communication Serv...    0.013235   18.353668\n",
       "portfolio_group_Facility Related Services             0.012115   19.565138\n",
       "...                                                        ...         ...\n",
       "product_or_service_code_description_R&D- DEFENS...    0.000525   79.751213\n",
       "contract_financing_PERFORMANCE-BASED FINANCING        0.000524   79.803645\n",
       "naics_description_SITE PREPARATION CONTRACTORS        0.000523   79.855945\n",
       "product_or_service_code_description_MAINTENANCE...    0.000522   79.908170\n",
       "awarding_office_name_NAVY MEDICINE PROFESSIONAL       0.000521   79.960257\n",
       "\n",
       "[317 rows x 2 columns]"
      ]
     },
     "execution_count": 42,
     "metadata": {},
     "output_type": "execute_result"
    }
   ],
   "source": [
    "relevant_features"
   ]
  },
  {
   "cell_type": "code",
   "execution_count": 43,
   "metadata": {},
   "outputs": [
    {
     "name": "stdout",
     "output_type": "stream",
     "text": [
      "Model Accuracy: 90.47%\n"
     ]
    }
   ],
   "source": [
    "# Test accuracy of initialized dataframe\n",
    "X_train, X_test, y_train, y_test = train_test_split(X, y, test_size=0.20, random_state=42)\n",
    "model = RandomForestClassifier(n_estimators=17, n_jobs=-1, random_state=0)\n",
    "model.fit(X_train, y_train)\n",
    "print('Model Accuracy: {:.2%}'.format(model.score(X_test, y_test)))"
   ]
  },
  {
   "cell_type": "markdown",
   "metadata": {},
   "source": [
    "## Perform Random Forest Classification\n",
    "#### Using only relevant features dataframe"
   ]
  },
  {
   "cell_type": "code",
   "execution_count": 56,
   "metadata": {},
   "outputs": [],
   "source": [
    "predictions = model.predict(X_test)"
   ]
  },
  {
   "cell_type": "code",
   "execution_count": 57,
   "metadata": {},
   "outputs": [],
   "source": [
    "classes = ['None', 'Set Aside']"
   ]
  },
  {
   "cell_type": "code",
   "execution_count": 58,
   "metadata": {},
   "outputs": [
    {
     "data": {
      "image/png": "[encoded data removed]",
      "text/plain": [
       "<Figure size 576x396 with 2 Axes>"
      ]
     },
     "metadata": {},
     "output_type": "display_data"
    },
    {
     "data": {
      "text/plain": [
       "<matplotlib.axes._subplots.AxesSubplot at 0x7efb49cd3cd0>"
      ]
     },
     "execution_count": 58,
     "metadata": {},
     "output_type": "execute_result"
    }
   ],
   "source": [
    "visualizer = ClassificationReport(model, classes=classes, support=True)\n",
    "visualizer.score(X_test, y_test)\n",
    "visualizer.show()"
   ]
  },
  {
   "cell_type": "code",
   "execution_count": 59,
   "metadata": {},
   "outputs": [],
   "source": [
    "model_score = cross_val_score(estimator=model, X=X, y=y, scoring='f1', cv=12)"
   ]
  },
  {
   "cell_type": "code",
   "execution_count": 60,
   "metadata": {},
   "outputs": [
    {
     "name": "stdout",
     "output_type": "stream",
     "text": [
      "Accuracy :  0.9\n",
      "Standard Deviation :  0.06\n"
     ]
    }
   ],
   "source": [
    "print(\"Accuracy : \", round(model_score.mean(),2))\n",
    "print('Standard Deviation : ',round(model_score.std(),2))"
   ]
  },
  {
   "cell_type": "code",
   "execution_count": 90,
   "metadata": {},
   "outputs": [],
   "source": [
    "import pickle"
   ]
  },
  {
   "cell_type": "code",
   "execution_count": 92,
   "metadata": {},
   "outputs": [],
   "source": [
    "#Save Trained Model\n",
    "filename = 'RandomForest_SetAside_None_Model.save'\n",
    "pickle.dump(model, open(filename, 'wb'))"
   ]
  },
  {
   "cell_type": "markdown",
   "metadata": {},
   "source": [
    "## Perform Second Model - Predict Type of Set-Aside"
   ]
  },
  {
   "cell_type": "code",
   "execution_count": 104,
   "metadata": {},
   "outputs": [
    {
     "name": "stdout",
     "output_type": "stream",
     "text": [
      "Shape of initial df: (272790, 19)\n"
     ]
    }
   ],
   "source": [
    "df1 = pd.read_sql_query('SELECT ' + sql_cols + ' FROM ' + sql_tbl_name, con=conn)\n",
    "print('Shape of initial df:', df1.shape)"
   ]
  },
  {
   "cell_type": "code",
   "execution_count": 105,
   "metadata": {},
   "outputs": [
    {
     "name": "stdout",
     "output_type": "stream",
     "text": [
      "Shape of dataframe WITH set-asides: (124990, 19)\n"
     ]
    }
   ],
   "source": [
    "# Drop all instances where type_of_set_aside_code = NONE\n",
    "none_set_asides = df1[df1['type_of_set_aside_code'] == 'NONE'].index\n",
    "df1 = df1.drop(none_set_asides, axis=0)\n",
    "print('Shape of dataframe WITH set-asides:', df1.shape)"
   ]
  },
  {
   "cell_type": "code",
   "execution_count": 106,
   "metadata": {},
   "outputs": [
    {
     "name": "stdout",
     "output_type": "stream",
     "text": [
      "Shape of dataframe WITH set-asides with no NaN values: (123169, 17)\n"
     ]
    }
   ],
   "source": [
    "# Create column for contract value\n",
    "\n",
    "def contract_value(c):\n",
    "    if c['base_and_exercised_options_value'] > 0:\n",
    "        return c['base_and_exercised_options_value']\n",
    "    elif c['base_and_all_options_value'] > 0:\n",
    "        return c['base_and_all_options_value']\n",
    "    elif c['federal_action_obligation'] > 0:\n",
    "        return c['federal_action_obligation'] \n",
    "    else:\n",
    "        return 0\n",
    "    \n",
    "df1['contract_value'] = df1.apply(contract_value, axis=1)\n",
    "\n",
    "# Assign numerics to set-aside codes\n",
    "df1['set_aside_number'] = df1['type_of_set_aside_code'].map({'SBA':1, '8AN':2, '8A':3, 'SDVOSBC':4,'HZC':5, 'WOSB':6, \n",
    "                                                             'SBP':7, 'EDWOSB':7, 'SDVOSBS':7, 'HZS':7, 'WOSBSS':7, \n",
    "                                                             'EDWOSBSS':7, 'ISBEE':7, 'HS3':7, 'IEE':7})\n",
    "\n",
    "# Drop columns that are no longer needed\n",
    "df1 = df1.drop(['type_of_set_aside_code','base_and_exercised_options_value','base_and_all_options_value',\n",
    "             'federal_action_obligation'], axis=1)\n",
    "\n",
    "df1 = df1.dropna()\n",
    "print('Shape of dataframe WITH set-asides with no NaN values:', df1.shape)"
   ]
  },
  {
   "cell_type": "code",
   "execution_count": 108,
   "metadata": {},
   "outputs": [
    {
     "name": "stdout",
     "output_type": "stream",
     "text": [
      "Shape of originial X1 dataframe: (123169, 16)\n",
      "Shape of X1 dummy dataframe: (123169, 313)\n"
     ]
    }
   ],
   "source": [
    "X1 = df1.drop(['set_aside_number'], axis=1).copy()\n",
    "print('Shape of originial X1 dataframe:', X1.shape)\n",
    "\n",
    "# One hot encoding\n",
    "X1 = pd.get_dummies(X1)\n",
    "\n",
    "# Create a list of relevant features in X1 based on the list of previous relevant features from feature selection\n",
    "# Note numpy is taking only relevant features from the first feature selection that are also in X1\n",
    "cols = list(X1.columns)\n",
    "updated_list_relevant_features = np.asarray(list_relevant_features)[np.in1d(list_relevant_features, cols)].tolist()\n",
    "\n",
    "# Updated dummy table with only relevant features\n",
    "X1 = X1[updated_list_relevant_features]\n",
    "print('Shape of X1 dummy dataframe:', X1.shape)"
   ]
  },
  {
   "cell_type": "code",
   "execution_count": 109,
   "metadata": {},
   "outputs": [],
   "source": [
    "y1 = df1['set_aside_number'].copy()"
   ]
  },
  {
   "cell_type": "code",
   "execution_count": 110,
   "metadata": {},
   "outputs": [
    {
     "data": {
      "text/plain": [
       "1.0    76868\n",
       "2.0    19629\n",
       "3.0    15205\n",
       "4.0     4153\n",
       "5.0     3833\n",
       "6.0     1997\n",
       "7.0     1484\n",
       "Name: set_aside_number, dtype: int64"
      ]
     },
     "execution_count": 110,
     "metadata": {},
     "output_type": "execute_result"
    }
   ],
   "source": [
    "y1.value_counts()"
   ]
  },
  {
   "cell_type": "code",
   "execution_count": 111,
   "metadata": {},
   "outputs": [],
   "source": [
    "X1_train, X1_test, y1_train, y1_test = train_test_split(X1, y1, test_size=0.20, random_state=42)"
   ]
  },
  {
   "cell_type": "code",
   "execution_count": 112,
   "metadata": {},
   "outputs": [],
   "source": [
    "model1 = RandomForestClassifier(n_estimators=17)"
   ]
  },
  {
   "cell_type": "code",
   "execution_count": 113,
   "metadata": {},
   "outputs": [
    {
     "data": {
      "text/plain": [
       "RandomForestClassifier(bootstrap=True, class_weight=None, criterion='gini',\n",
       "                       max_depth=None, max_features='auto', max_leaf_nodes=None,\n",
       "                       min_impurity_decrease=0.0, min_impurity_split=None,\n",
       "                       min_samples_leaf=1, min_samples_split=2,\n",
       "                       min_weight_fraction_leaf=0.0, n_estimators=17,\n",
       "                       n_jobs=None, oob_score=False, random_state=None,\n",
       "                       verbose=0, warm_start=False)"
      ]
     },
     "execution_count": 113,
     "metadata": {},
     "output_type": "execute_result"
    }
   ],
   "source": [
    "model1.fit(X1_train, y1_train)"
   ]
  },
  {
   "cell_type": "code",
   "execution_count": 114,
   "metadata": {},
   "outputs": [],
   "source": [
    "classes1 = ['SBA', '8AN', '8A', 'SDVOSBC','HZC', 'WOSB', 'OTHER SET ASIDE']"
   ]
  },
  {
   "cell_type": "code",
   "execution_count": 115,
   "metadata": {},
   "outputs": [
    {
     "data": {
      "image/png": "[encoded data removed]",
      "text/plain": [
       "<Figure size 576x396 with 2 Axes>"
      ]
     },
     "metadata": {},
     "output_type": "display_data"
    },
    {
     "data": {
      "text/plain": [
       "<matplotlib.axes._subplots.AxesSubplot at 0x7efad402b6d0>"
      ]
     },
     "execution_count": 115,
     "metadata": {},
     "output_type": "execute_result"
    }
   ],
   "source": [
    "visualizer = ClassificationReport(model1, classes=classes1, support=True)\n",
    "visualizer.score(X1_test, y1_test)\n",
    "visualizer.show()"
   ]
  },
  {
   "cell_type": "code",
   "execution_count": 116,
   "metadata": {},
   "outputs": [],
   "source": [
    "model_score_all_set_aside = cross_val_score(estimator=model, X=X1, y=y1, scoring='f1_weighted', cv=12)"
   ]
  },
  {
   "cell_type": "code",
   "execution_count": 117,
   "metadata": {},
   "outputs": [
    {
     "name": "stdout",
     "output_type": "stream",
     "text": [
      "Accuracy :  0.9\n",
      "Standard Deviation :  0.05\n"
     ]
    }
   ],
   "source": [
    "print(\"Accuracy : \", round(model_score_all_set_aside.mean(),2))\n",
    "print('Standard Deviation : ',round(model_score_all_set_aside.std(),2))"
   ]
  },
  {
   "cell_type": "code",
   "execution_count": 93,
   "metadata": {},
   "outputs": [],
   "source": [
    "#Save Trained Model\n",
    "filename = 'RandomForest_All_Set_Aside_Model.save'\n",
    "pickle.dump(model, open(filename, 'wb'))"
   ]
  },
  {
   "cell_type": "markdown",
   "metadata": {},
   "source": [
    "## Test the Model on 2017 Data"
   ]
  },
  {
   "cell_type": "code",
   "execution_count": null,
   "metadata": {},
   "outputs": [],
   "source": [
    "# Create column for contract value\n",
    "\n",
    "def contract_value(c):\n",
    "    if c['base_and_exercised_options_value'] > 0:\n",
    "        return c['base_and_exercised_options_value']\n",
    "    elif c['base_and_all_options_value'] > 0:\n",
    "        return c['base_and_all_options_value']\n",
    "    elif c['federal_action_obligation'] > 0:\n",
    "        return c['federal_action_obligation'] \n",
    "    else:\n",
    "        return 0\n",
    "    \n",
    "df2['contract_value'] = df2.apply(contract_value, axis=1)\n",
    "\n",
    "# Assign numerics to set-aside codes\n",
    "df2['set_aside_number'] = df2['type_of_set_aside_code'].map({'SBA':1, '8AN':2, '8A':3, 'SDVOSBC':4,'HZC':5, 'WOSB':6, \n",
    "                                                             'SBP':7, 'EDWOSB':7, 'SDVOSBS':7, 'HZS':7, 'WOSBSS':7, \n",
    "                                                             'EDWOSBSS':7, 'ISBEE':7, 'HS3':7, 'IEE':7})\n",
    "\n",
    "# Drop columns that are no longer needed\n",
    "df2 = df2.drop(['type_of_set_aside_code','base_and_exercised_options_value','base_and_all_options_value',\n",
    "             'federal_action_obligation'], axis=1)\n",
    "\n",
    "df2 = df2.dropna()\n",
    "print('Shape of dataframe WITH set-asides with no NaN values:', df2.shape)"
   ]
  },
  {
   "cell_type": "code",
   "execution_count": null,
   "metadata": {},
   "outputs": [],
   "source": [
    "X2 = df2.drop(['set_aside_number'], axis=1).copy()\n",
    "print('Shape of originial X2 dataframe:', X2.shape)\n",
    "\n",
    "# One hot encoding\n",
    "X2 = pd.get_dummies(X2)\n",
    "\n",
    "# Updated dummy table with only relevant features\n",
    "X2 = X2[updated_list_relevant_features]\n",
    "print('Shape of X2 dummy dataframe:', X2.shape)\n",
    "\n",
    "y2 = df2['set_aside_number'].copy()"
   ]
  },
  {
   "cell_type": "code",
   "execution_count": null,
   "metadata": {},
   "outputs": [],
   "source": [
    "visualizer.score(X2_test, y2_test)\n",
    "visualizer.show()"
   ]
  },
  {
   "cell_type": "code",
   "execution_count": null,
   "metadata": {},
   "outputs": [],
   "source": [
    "model_score_all_set_aside = cross_val_score(estimator=model, X=X1, y=y1, scoring='f1_weighted', cv=12)\n",
    "print(\"Accuracy : \", round(model_score_all_set_aside.mean(),2))\n",
    "print('Standard Deviation : ',round(model_score_all_set_aside.std(),2))"
   ]
  }
 ],
 "metadata": {
  "kernelspec": {
   "display_name": "Python 3",
   "language": "python",
   "name": "python3"
  },
  "language_info": {
   "codemirror_mode": {
    "name": "ipython",
    "version": 3
   },
   "file_extension": ".py",
   "mimetype": "text/x-python",
   "name": "python",
   "nbconvert_exporter": "python",
   "pygments_lexer": "ipython3",
   "version": "3.7.4"
  }
 },
 "nbformat": 4,
 "nbformat_minor": 2
}
