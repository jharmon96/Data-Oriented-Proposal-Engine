{
 "cells": [
  {
   "cell_type": "markdown",
   "metadata": {},
   "source": [
    "# Random Forest Hyperparameter Tuning \n",
    "\n",
    "This shows some simple code of how to plot n_estimators to F1 score."
   ]
  },
  {
   "cell_type": "code",
   "execution_count": 1,
   "metadata": {},
   "outputs": [],
   "source": [
    "%matplotlib notebook \n",
    "\n",
    "import numpy as np\n",
    "import pandas as pd \n",
    "import matplotlib.pyplot as plt \n",
    "\n",
    "from sklearn.ensemble import RandomForestClassifier \n",
    "from sklearn.model_selection import cross_val_score"
   ]
  },
  {
   "cell_type": "code",
   "execution_count": 2,
   "metadata": {},
   "outputs": [],
   "source": [
    "data = pd.read_csv(r'/home/team/Documents/Data-Oriented-Proposal-Engine/SpendingData/DummiesAllSetAsides.csv')\n",
    "# data.head()"
   ]
  },
  {
   "cell_type": "code",
   "execution_count": 3,
   "metadata": {},
   "outputs": [],
   "source": [
    "X = data.drop([\"type_of_set_aside_code\"],axis=1)\n",
    "y = data[\"type_of_set_aside_code\"]"
   ]
  },
  {
   "cell_type": "code",
   "execution_count": 4,
   "metadata": {},
   "outputs": [],
   "source": [
    "# Split the data into test and training data sets\n",
    "\n",
    "from sklearn.model_selection import train_test_split\n",
    "X_train, X_test, y_train, y_test = train_test_split(X, y, test_size=0.5, random_state=42)"
   ]
  },
  {
   "cell_type": "markdown",
   "metadata": {},
   "source": [
    "# N-Estimators Visualizer\n",
    "The cell below tests a number of estimators (decision trees) and returns a graph used to determine the appropriate number of trees to use. Each decision tree makes a guess as to what the target is; the purposes of running multiple decision trees is that a Random Forest model will the average resulting in a more accurate prediction. While more decision trees will always result in better predictions, the benefit of additional trees levels out relatively quickly with the trade off of performance. "
   ]
  },
  {
   "cell_type": "code",
   "execution_count": 5,
   "metadata": {
    "scrolled": true
   },
   "outputs": [
    {
     "name": "stdout",
     "output_type": "stream",
     "text": [
      "CPU times: user 1e+03 ns, sys: 0 ns, total: 1e+03 ns\n",
      "Wall time: 3.58 µs\n"
     ]
    }
   ],
   "source": [
    "%%time \n",
    "\n",
    "def n_estimators_tuning(X_train, y_train, min_estimators=1, max_estimators=50, cv=5, ax=None, save=None):\n",
    "    \n",
    "    if ax is None:\n",
    "        _, ax = plt.subplots()\n",
    "    \n",
    "    means = []\n",
    "    stds = []\n",
    "    n_estimators = np.arange(min_estimators, max_estimators+1)\n",
    "\n",
    "    for n in n_estimators:\n",
    "        model = RandomForestClassifier(n_estimators=n)\n",
    "        scores = cross_val_score(model, X_train, y_train, cv=cv)\n",
    "        means.append(scores.mean())\n",
    "        stds.append(scores.std())\n",
    "    \n",
    "    means = np.array(means)\n",
    "    stds = np.array(stds)\n",
    "    \n",
    "    ax.plot(n_estimators, means, label=\"CV={} scores\".format(cv))\n",
    "    ax.fill_between(n_estimators, means-stds, means+stds, alpha=0.3)\n",
    "    \n",
    "    max_score = means.max()\n",
    "    max_score_idx = np.where(means==max_score)[0]\n",
    "    ax.axhline(max_score, ls=\"--\", lw=1, c='r')\n",
    "    ax.axvline(n_estimators[max_score_idx], ls=\"--\", lw=1, c='r', label=\"Max Score = {:0.2f}\".format(max_score))\n",
    "    \n",
    "    \n",
    "    ax.set_xlim(min_estimators, max_estimators)\n",
    "    ax.set_xlabel(\"n_estimators\")\n",
    "    ax.set_ylabel(\"F1 Score\")\n",
    "    ax.set_title(\"Random Forest Hyperparameter Tuning\")\n",
    "    ax.legend(loc='best')\n",
    "    \n",
    "    if save:\n",
    "        plt.savefig(save)\n",
    "    \n",
    "    return ax, scores\n",
    "    \n",
    "\n",
    "#ax1, score_result = n_estimators_tuning(X_train, y_train)"
   ]
  },
  {
   "cell_type": "code",
   "execution_count": 6,
   "metadata": {},
   "outputs": [
    {
     "data": {
      "text/plain": [
       "RandomForestClassifier(bootstrap=True, class_weight=None, criterion='gini',\n",
       "                       max_depth=None, max_features='auto', max_leaf_nodes=None,\n",
       "                       min_impurity_decrease=0.0, min_impurity_split=None,\n",
       "                       min_samples_leaf=1, min_samples_split=2,\n",
       "                       min_weight_fraction_leaf=0.0, n_estimators=17,\n",
       "                       n_jobs=None, oob_score=False, random_state=None,\n",
       "                       verbose=0, warm_start=False)"
      ]
     },
     "execution_count": 6,
     "metadata": {},
     "output_type": "execute_result"
    }
   ],
   "source": [
    "# Below we create the model with model.fit() \n",
    "\n",
    "from sklearn.metrics import classification_report\n",
    "model = RandomForestClassifier(n_estimators=17)\n",
    "model.fit(X_train, y_train)"
   ]
  },
  {
   "cell_type": "code",
   "execution_count": 7,
   "metadata": {},
   "outputs": [
    {
     "name": "stdout",
     "output_type": "stream",
     "text": [
      "Model Accuracy: 83.56%\n"
     ]
    }
   ],
   "source": [
    "# And here we return the accuracy. The bottom two lines show what the model is predicting and what the true values are. \n",
    "\n",
    "print('Model Accuracy: {:.2%}'.format(model.score(X_test, y_test)))\n",
    "# print(model.predict(X_test[50:75]))\n",
    "# print(y_test[50:75])"
   ]
  },
  {
   "cell_type": "code",
   "execution_count": 8,
   "metadata": {},
   "outputs": [],
   "source": [
    "# Next I am testing the accuracy of the model on each specific set aside. Because we have an unbalanced data set\n",
    "# it seems that the model is great for predicting set asides in general, however it is also skewed to better\n",
    "# predict certain categories compared to others.\n",
    "\n",
    "# Create a dictionary object to capture set aside code and it's score\n",
    "class scores(dict):  \n",
    "  \n",
    "    # __init__ function  \n",
    "    def __init__(self):  \n",
    "        self = dict()  \n",
    "          \n",
    "    # Function to add key:value  \n",
    "    def add(self, key, value):  \n",
    "        self[key] = value  \n",
    "\n",
    "scores = scores()\n",
    "percent = ''\n",
    "set_aside_codes = data['type_of_set_aside_code'].unique()\n",
    "\n",
    "# Loop through each set aside, test it, and append to the dictionary\n",
    "for set_aside in set_aside_codes:\n",
    "    dataPoint = data.loc[data['type_of_set_aside_code'] == set_aside]\n",
    "    XPoint = dataPoint.drop([\"type_of_set_aside_code\"],axis=1)\n",
    "    yPoint = dataPoint[\"type_of_set_aside_code\"]\n",
    "    percent = model.score(XPoint, yPoint)\n",
    "    percent = round(percent, 4)\n",
    "    scores.add(set_aside, percent)"
   ]
  },
  {
   "cell_type": "code",
   "execution_count": 9,
   "metadata": {},
   "outputs": [],
   "source": [
    "# Sort the dictionary by score\n",
    "import operator\n",
    "sortedScores = sorted(scores.items(), key=operator.itemgetter(1))"
   ]
  },
  {
   "cell_type": "code",
   "execution_count": 10,
   "metadata": {
    "scrolled": true
   },
   "outputs": [
    {
     "name": "stdout",
     "output_type": "stream",
     "text": [
      "NONE     96.64%\n",
      "SBA      90.06%\n",
      "SDVOSBC  83.03%\n",
      "HZC      80.56%\n",
      "8A       78.40%\n",
      "8AN      75.53%\n",
      "WOSB     75.25%\n",
      "SDVOSBS  71.43%\n",
      "SBP      66.67%\n",
      "WOSBSS   33.33%\n",
      "HZS      25.00%\n",
      "EDWOSB   14.29%\n"
     ]
    }
   ],
   "source": [
    "# Print scores\n",
    "for score in reversed(sortedScores):\n",
    "    print(\"{:<8} {:.2%}\".format(score[0], score[1]))"
   ]
  },
  {
   "cell_type": "code",
   "execution_count": 11,
   "metadata": {},
   "outputs": [
    {
     "name": "stdout",
     "output_type": "stream",
     "text": [
      "              precision    recall  f1-score   support\n",
      "\n",
      "        NONE       0.67      0.58      0.62       613\n",
      "          8A       0.71      0.53      0.61       593\n",
      "     SDVOSBC       0.00      0.00      0.00         6\n",
      "         SBA       0.90      0.68      0.77        63\n",
      "         8AN       0.00      0.00      0.00         2\n",
      "        WOSB       0.89      0.93      0.91      7329\n",
      "         HZC       0.79      0.81      0.80      4140\n",
      "      EDWOSB       0.60      0.33      0.43         9\n",
      "         HZS       0.75      0.65      0.70       124\n",
      "     SDVOSBS       0.00      0.00      0.00         4\n",
      "         SBP       0.69      0.55      0.61       736\n",
      "      WOSBSS       0.00      0.00      0.00         4\n",
      "\n",
      "    accuracy                           0.84     13623\n",
      "   macro avg       0.50      0.42      0.45     13623\n",
      "weighted avg       0.83      0.84      0.83     13623\n",
      "\n"
     ]
    },
    {
     "name": "stderr",
     "output_type": "stream",
     "text": [
      "/home/team/anaconda3/lib/python3.7/site-packages/sklearn/metrics/classification.py:1437: UndefinedMetricWarning: Precision and F-score are ill-defined and being set to 0.0 in labels with no predicted samples.\n",
      "  'precision', 'predicted', average, warn_for)\n"
     ]
    }
   ],
   "source": [
    "print(classification_report(y_test, model.predict(X_test), target_names=set_aside_codes))"
   ]
  }
 ],
 "metadata": {
  "kernelspec": {
   "display_name": "Python 3",
   "language": "python",
   "name": "python3"
  },
  "language_info": {
   "codemirror_mode": {
    "name": "ipython",
    "version": 3
   },
   "file_extension": ".py",
   "mimetype": "text/x-python",
   "name": "python",
   "nbconvert_exporter": "python",
   "pygments_lexer": "ipython3",
   "version": "3.7.4"
  }
 },
 "nbformat": 4,
 "nbformat_minor": 2
}
