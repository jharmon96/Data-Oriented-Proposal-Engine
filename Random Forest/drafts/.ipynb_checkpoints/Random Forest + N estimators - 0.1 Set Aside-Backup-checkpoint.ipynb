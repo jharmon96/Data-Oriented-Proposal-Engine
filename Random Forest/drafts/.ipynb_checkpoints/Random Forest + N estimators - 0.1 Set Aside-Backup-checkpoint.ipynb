{
 "cells": [
  {
   "cell_type": "markdown",
   "metadata": {},
   "source": [
    "# Random Forest Hyperparameter Tuning \n",
    "\n",
    "This shows some simple code of how to plot n_estimators to F1 score."
   ]
  },
  {
   "cell_type": "code",
   "execution_count": 1,
   "metadata": {},
   "outputs": [],
   "source": [
    "%matplotlib notebook \n",
    "\n",
    "import numpy as np\n",
    "import pandas as pd \n",
    "import matplotlib.pyplot as plt \n",
    "\n",
    "from sklearn.ensemble import RandomForestClassifier \n",
    "from sklearn.model_selection import cross_val_score"
   ]
  },
  {
   "cell_type": "code",
   "execution_count": 2,
   "metadata": {},
   "outputs": [],
   "source": [
    "data = pd.read_csv(r'/home/team/Documents/Data-Oriented-Proposal-Engine/SpendingData/Dummies.csv')"
   ]
  },
  {
   "cell_type": "code",
   "execution_count": 3,
   "metadata": {},
   "outputs": [],
   "source": [
    "X = data.drop([\"set_aside\"],axis=1)\n",
    "y = data[\"set_aside\"]"
   ]
  },
  {
   "cell_type": "code",
   "execution_count": 4,
   "metadata": {},
   "outputs": [],
   "source": [
    "# Split the data into test and training data sets\n",
    "\n",
    "from sklearn.model_selection import train_test_split\n",
    "X_train, X_test, y_train, y_test = train_test_split(X, y, test_size=0.5, random_state=42)"
   ]
  },
  {
   "cell_type": "markdown",
   "metadata": {},
   "source": [
    "# N-Estimators Visualizer\n",
    "The cell below tests a number of estimators (decision trees) and returns a graph used to determine the appropriate number of trees to use. Each decision tree makes a guess as to what the target is; the purposes of running multiple decision trees is that a Random Forest model will the average resulting in a more accurate prediction. While more decision trees will always result in better predictions, the benefit of additional trees levels out relatively quickly with the trade off of performance. "
   ]
  },
  {
   "cell_type": "code",
   "execution_count": 5,
   "metadata": {
    "scrolled": false
   },
   "outputs": [
    {
     "name": "stdout",
     "output_type": "stream",
     "text": [
      "CPU times: user 2 µs, sys: 0 ns, total: 2 µs\n",
      "Wall time: 3.58 µs\n"
     ]
    }
   ],
   "source": [
    "%%time \n",
    "\n",
    "def n_estimators_tuning(X_train, y_train, min_estimators=1, max_estimators=50, cv=5, ax=None, save=None):\n",
    "    \n",
    "    if ax is None:\n",
    "        _, ax = plt.subplots()\n",
    "    \n",
    "    means = []\n",
    "    stds = []\n",
    "    n_estimators = np.arange(min_estimators, max_estimators+1)\n",
    "\n",
    "    for n in n_estimators:\n",
    "        model = RandomForestClassifier(n_estimators=n)\n",
    "        scores = cross_val_score(model, X_train, y_train, cv=cv)\n",
    "        means.append(scores.mean())\n",
    "        stds.append(scores.std())\n",
    "    \n",
    "    means = np.array(means)\n",
    "    stds = np.array(stds)\n",
    "    \n",
    "    ax.plot(n_estimators, means, label=\"CV={} scores\".format(cv))\n",
    "    ax.fill_between(n_estimators, means-stds, means+stds, alpha=0.3)\n",
    "    \n",
    "    max_score = means.max()\n",
    "    max_score_idx = np.where(means==max_score)[0]\n",
    "    ax.axhline(max_score, ls=\"--\", lw=1, c='r')\n",
    "    ax.axvline(n_estimators[max_score_idx], ls=\"--\", lw=1, c='r', label=\"Max Score = {:0.2f}\".format(max_score))\n",
    "    \n",
    "    \n",
    "    ax.set_xlim(min_estimators, max_estimators)\n",
    "    ax.set_xlabel(\"n_estimators\")\n",
    "    ax.set_ylabel(\"F1 Score\")\n",
    "    ax.set_title(\"Random Forest Hyperparameter Tuning\")\n",
    "    ax.legend(loc='best')\n",
    "    \n",
    "    if save:\n",
    "        plt.savefig(save)\n",
    "    \n",
    "    return ax, scores\n",
    "    \n",
    "\n",
    "# ax1, score_result = n_estimators_tuning(X_train, y_train)"
   ]
  },
  {
   "cell_type": "code",
   "execution_count": 6,
   "metadata": {},
   "outputs": [],
   "source": [
    "from sklearn.metrics import classification_report\n",
    "model = RandomForestClassifier(n_estimators=17)\n",
    "model.fit(X_train, y_train)\n"
   ]
  },
  {
   "cell_type": "code",
   "execution_count": null,
   "metadata": {},
   "outputs": [],
   "source": [
    "# Here we create paramaters used for a Roc Auc score and run the calculation. \n",
    "# I believe this only works for a binary target so probably doesn't apply here.\n",
    "\n",
    "from sklearn.metrics import roc_auc_score\n",
    "# Actual class predictions\n",
    "rf_predictions = model.predict(X_test)\n",
    "# Probabilities for each class\n",
    "rf_probs = model.predict_proba(X_test)[:, 1]\n",
    "# Calculate roc auc\n",
    "roc_value = roc_auc_score(y_test, rf_probs)\n",
    "print(roc_value)"
   ]
  },
  {
   "cell_type": "code",
   "execution_count": 11,
   "metadata": {},
   "outputs": [
    {
     "name": "stdout",
     "output_type": "stream",
     "text": [
      "Model Accuracy: 91.31%\n"
     ]
    }
   ],
   "source": [
    "# And here we return the accuracy. The bottom two lines show what the model is predicting and what the true values are. \n",
    "\n",
    "print('Model Accuracy: {:.2%}'.format(model.score(X_test, y_test)))\n",
    "# print(model.predict(X_test[50:75]))\n",
    "# print(y_test[50:75])"
   ]
  }
 ],
 "metadata": {
  "kernelspec": {
   "display_name": "Python 3",
   "language": "python",
   "name": "python3"
  },
  "language_info": {
   "codemirror_mode": {
    "name": "ipython",
    "version": 3
   },
   "file_extension": ".py",
   "mimetype": "text/x-python",
   "name": "python",
   "nbconvert_exporter": "python",
   "pygments_lexer": "ipython3",
   "version": "3.7.4"
  }
 },
 "nbformat": 4,
 "nbformat_minor": 2
}
