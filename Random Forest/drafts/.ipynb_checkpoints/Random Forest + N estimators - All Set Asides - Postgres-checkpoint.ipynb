{
 "cells": [
  {
   "cell_type": "markdown",
   "metadata": {},
   "source": [
    "# Random Forest Hyperparameter Tuning \n",
    "\n",
    "This shows some simple code of how to plot n_estimators to F1 score."
   ]
  },
  {
   "cell_type": "code",
   "execution_count": 1,
   "metadata": {},
   "outputs": [],
   "source": [
    "%matplotlib notebook \n",
    "\n",
    "import numpy as np\n",
    "import pandas as pd \n",
    "import matplotlib.pyplot as plt \n",
    "import psycopg2\n",
    "\n",
    "from sklearn.ensemble import RandomForestClassifier \n",
    "from sklearn.model_selection import cross_val_score"
   ]
  },
  {
   "cell_type": "code",
   "execution_count": 2,
   "metadata": {},
   "outputs": [],
   "source": [
    "conn = psycopg2.connect(database='usaspending', user='team', password='ZAQ!@#zaq123', host='127.0.0.1', port='5432')"
   ]
  },
  {
   "cell_type": "code",
   "execution_count": 5,
   "metadata": {},
   "outputs": [
    {
     "data": {
      "text/plain": [
       "federal_action_obligation                     0\n",
       "base_and_exercised_options_value              0\n",
       "base_and_all_options_value                    0\n",
       "awarding_sub_agency_name                      0\n",
       "awarding_office_name                          0\n",
       "funding_sub_agency_name                       0\n",
       "primary_place_of_performance_state_code       0\n",
       "award_or_idv_flag                             0\n",
       "award_type                                    0\n",
       "type_of_contract_pricing                      0\n",
       "dod_claimant_program_description              3\n",
       "type_of_set_aside_code                     1803\n",
       "contract_bundling                             0\n",
       "national_interest_action                      0\n",
       "gfe_gfp                                       0\n",
       "contract_financing                            3\n",
       "portfolio_group                               0\n",
       "product_or_service_code_description           0\n",
       "naics_description                           470\n",
       "dtype: int64"
      ]
     },
     "execution_count": 5,
     "metadata": {},
     "output_type": "execute_result"
    }
   ],
   "source": [
    "sql_cols = ('federal_action_obligation, '\n",
    "            #'total_dollars_obligated, '\n",
    "            'base_and_exercised_options_value, '\n",
    "            'base_and_all_options_value, '\n",
    "            'awarding_sub_agency_name, '\n",
    "            'awarding_office_name, '\n",
    "            'funding_sub_agency_name, '\n",
    "            #'funding_office_name, '\n",
    "            'primary_place_of_performance_state_code, '\n",
    "            'award_or_idv_flag, '\n",
    "            'award_type, '\n",
    "            'type_of_contract_pricing, '\n",
    "            'dod_claimant_program_description, '\n",
    "            'type_of_set_aside_code, '\n",
    "            #'multi_year_contract, '\n",
    "            #'dod_acquisition_program_description, '\n",
    "            #'subcontracting_plan, ' \n",
    "            'contract_bundling, '\n",
    "            #'evaluated_preference, ' \n",
    "            'national_interest_action, '\n",
    "            #'cost_or_pricing_data, ' \n",
    "            'gfe_gfp, '\n",
    "            'contract_financing, '\n",
    "            'portfolio_group, '\n",
    "            'product_or_service_code_description, '\n",
    "            #'naics_bucket_title, '\n",
    "            'naics_description'\n",
    "            )\n",
    "\n",
    "sql_tbl_name = 'consolidated_data2'\n",
    "\n",
    "df = pd.read_sql_query('SELECT ' + sql_cols + ' FROM ' + sql_tbl_name, con=conn)\n",
    "df.isna().sum()"
   ]
  },
  {
   "cell_type": "code",
   "execution_count": 6,
   "metadata": {},
   "outputs": [
    {
     "data": {
      "text/plain": [
       "(270531, 3394)"
      ]
     },
     "execution_count": 6,
     "metadata": {},
     "output_type": "execute_result"
    }
   ],
   "source": [
    "df = df[pd.notnull(df['type_of_set_aside_code'])]\n",
    "df = df.dropna()\n",
    "\n",
    "def contract_value(c):\n",
    "    if c['base_and_exercised_options_value'] > 0:\n",
    "        return c['base_and_exercised_options_value']\n",
    "    elif c['base_and_all_options_value'] > 0:\n",
    "        return c['base_and_all_options_value']\n",
    "    # elif c['total_dollars_obligated'] > 0: # Total Dollars Obligated has too many NaN values\n",
    "        # return c['total_dollars_obligated'] # Total Dollars Obligated has too many NaN values\n",
    "    elif c['federal_action_obligation'] > 0:\n",
    "        return c['federal_action_obligation'] \n",
    "    else:\n",
    "        return 0\n",
    "    \n",
    "df['contract_value'] = df.apply(contract_value, axis=1)\n",
    "\n",
    "del df['base_and_exercised_options_value']\n",
    "del df['base_and_all_options_value']\n",
    "# del df['total_dollars_obligated']\n",
    "del df['federal_action_obligation']\n",
    "\n",
    "df = df.dropna()\n",
    "# non_dummy_cols = ['type_of_set_aside_code']\n",
    "# dummy_cols = list(set(df_data.columns) - set(non_dummy_cols))\n",
    "\n",
    "X = df.drop([\"type_of_set_aside_code\"],axis=1)\n",
    "y = df[\"type_of_set_aside_code\"]\n",
    "\n",
    "X = pd.get_dummies(X)\n",
    "X.shape"
   ]
  },
  {
   "cell_type": "code",
   "execution_count": 7,
   "metadata": {},
   "outputs": [],
   "source": [
    "# Split the data into test and training data sets\n",
    "\n",
    "from sklearn.model_selection import train_test_split\n",
    "X_train, X_test, y_train, y_test = train_test_split(X, y, test_size=0.5, random_state=42)"
   ]
  },
  {
   "cell_type": "markdown",
   "metadata": {},
   "source": [
    "# N-Estimators Visualizer\n",
    "The cell below tests a number of estimators (decision trees) and returns a graph used to determine the appropriate number of trees to use. Each decision tree makes a guess as to what the target is; the purposes of running multiple decision trees is that a Random Forest model will the average resulting in a more accurate prediction. While more decision trees will always result in better predictions, the benefit of additional trees levels out relatively quickly with the trade off of performance. "
   ]
  },
  {
   "cell_type": "code",
   "execution_count": null,
   "metadata": {
    "scrolled": true
   },
   "outputs": [],
   "source": [
    "%%time \n",
    "\n",
    "def n_estimators_tuning(X_train, y_train, min_estimators=1, max_estimators=50, cv=5, ax=None, save=None):\n",
    "    \n",
    "    if ax is None:\n",
    "        _, ax = plt.subplots()\n",
    "    \n",
    "    means = []\n",
    "    stds = []\n",
    "    n_estimators = np.arange(min_estimators, max_estimators+1)\n",
    "\n",
    "    for n in n_estimators:\n",
    "        model = RandomForestClassifier(n_estimators=n)\n",
    "        scores = cross_val_score(model, X_train, y_train, cv=cv)\n",
    "        means.append(scores.mean())\n",
    "        stds.append(scores.std())\n",
    "    \n",
    "    means = np.array(means)\n",
    "    stds = np.array(stds)\n",
    "    \n",
    "    ax.plot(n_estimators, means, label=\"CV={} scores\".format(cv))\n",
    "    ax.fill_between(n_estimators, means-stds, means+stds, alpha=0.3)\n",
    "    \n",
    "    max_score = means.max()\n",
    "    max_score_idx = np.where(means==max_score)[0]\n",
    "    ax.axhline(max_score, ls=\"--\", lw=1, c='r')\n",
    "    ax.axvline(n_estimators[max_score_idx], ls=\"--\", lw=1, c='r', label=\"Max Score = {:0.2f}\".format(max_score))\n",
    "    \n",
    "    \n",
    "    ax.set_xlim(min_estimators, max_estimators)\n",
    "    ax.set_xlabel(\"n_estimators\")\n",
    "    ax.set_ylabel(\"F1 Score\")\n",
    "    ax.set_title(\"Random Forest Hyperparameter Tuning\")\n",
    "    ax.legend(loc='best')\n",
    "    \n",
    "    if save:\n",
    "        plt.savefig(save)\n",
    "    \n",
    "    return ax, scores\n",
    "    \n",
    "\n",
    "#ax1, score_result = n_estimators_tuning(X_train, y_train)"
   ]
  },
  {
   "cell_type": "code",
   "execution_count": 8,
   "metadata": {},
   "outputs": [
    {
     "data": {
      "text/plain": [
       "RandomForestClassifier(bootstrap=True, class_weight=None, criterion='gini',\n",
       "                       max_depth=None, max_features='auto', max_leaf_nodes=None,\n",
       "                       min_impurity_decrease=0.0, min_impurity_split=None,\n",
       "                       min_samples_leaf=1, min_samples_split=2,\n",
       "                       min_weight_fraction_leaf=0.0, n_estimators=17,\n",
       "                       n_jobs=None, oob_score=False, random_state=None,\n",
       "                       verbose=0, warm_start=False)"
      ]
     },
     "execution_count": 8,
     "metadata": {},
     "output_type": "execute_result"
    }
   ],
   "source": [
    "# Below we create the model with model.fit() \n",
    "\n",
    "from sklearn.metrics import classification_report\n",
    "model = RandomForestClassifier(n_estimators=17)\n",
    "model.fit(X_train, y_train)"
   ]
  },
  {
   "cell_type": "code",
   "execution_count": 9,
   "metadata": {},
   "outputs": [
    {
     "name": "stdout",
     "output_type": "stream",
     "text": [
      "Model Accuracy: 86.01%\n"
     ]
    }
   ],
   "source": [
    "# And here we return the accuracy. The bottom two lines show what the model is predicting and what the true values are. \n",
    "\n",
    "print('Model Accuracy: {:.2%}'.format(model.score(X_test, y_test)))\n",
    "#print(model.predict(X_test[50:75]))\n",
    "#print(y_test[50:75])"
   ]
  },
  {
   "cell_type": "code",
   "execution_count": 22,
   "metadata": {},
   "outputs": [
    {
     "data": {
      "text/html": [
       "<div>\n",
       "<style scoped>\n",
       "    .dataframe tbody tr th:only-of-type {\n",
       "        vertical-align: middle;\n",
       "    }\n",
       "\n",
       "    .dataframe tbody tr th {\n",
       "        vertical-align: top;\n",
       "    }\n",
       "\n",
       "    .dataframe thead th {\n",
       "        text-align: right;\n",
       "    }\n",
       "</style>\n",
       "<table border=\"1\" class=\"dataframe\">\n",
       "  <thead>\n",
       "    <tr style=\"text-align: right;\">\n",
       "      <th></th>\n",
       "      <th>importance</th>\n",
       "    </tr>\n",
       "  </thead>\n",
       "  <tbody>\n",
       "    <tr>\n",
       "      <td>contract_value</td>\n",
       "      <td>0.137832</td>\n",
       "    </tr>\n",
       "    <tr>\n",
       "      <td>dod_claimant_program_description_CONSTRUCTION</td>\n",
       "      <td>0.016067</td>\n",
       "    </tr>\n",
       "    <tr>\n",
       "      <td>naics_description_COMMERCIAL AND INSTITUTIONAL BUILDING CONSTRUCTION</td>\n",
       "      <td>0.015518</td>\n",
       "    </tr>\n",
       "    <tr>\n",
       "      <td>award_type_DO</td>\n",
       "      <td>0.012372</td>\n",
       "    </tr>\n",
       "    <tr>\n",
       "      <td>award_type_DELIVERY ORDER</td>\n",
       "      <td>0.012135</td>\n",
       "    </tr>\n",
       "    <tr>\n",
       "      <td>...</td>\n",
       "      <td>...</td>\n",
       "    </tr>\n",
       "    <tr>\n",
       "      <td>product_or_service_code_description_REPAIR OR ALTERATION OF EPG FACILITIES - SOLAR</td>\n",
       "      <td>0.000000</td>\n",
       "    </tr>\n",
       "    <tr>\n",
       "      <td>awarding_office_name_NROTCU  ILLINOIS INST OF TECHNOLOGY</td>\n",
       "      <td>0.000000</td>\n",
       "    </tr>\n",
       "    <tr>\n",
       "      <td>naics_description_OTHER NONFERROUS METAL FOUNDRIES (EXCEPT DIE-CASTING)</td>\n",
       "      <td>0.000000</td>\n",
       "    </tr>\n",
       "    <tr>\n",
       "      <td>product_or_service_code_description_REPAIR OR ALTERATION OF MINE FIRE CONTROL FACILITIES</td>\n",
       "      <td>0.000000</td>\n",
       "    </tr>\n",
       "    <tr>\n",
       "      <td>naics_description_ZOOS AND BOTANICAL GARDENS</td>\n",
       "      <td>0.000000</td>\n",
       "    </tr>\n",
       "  </tbody>\n",
       "</table>\n",
       "<p>3394 rows × 1 columns</p>\n",
       "</div>"
      ],
      "text/plain": [
       "                                                    importance\n",
       "contract_value                                        0.137832\n",
       "dod_claimant_program_description_CONSTRUCTION         0.016067\n",
       "naics_description_COMMERCIAL AND INSTITUTIONAL ...    0.015518\n",
       "award_type_DO                                         0.012372\n",
       "award_type_DELIVERY ORDER                             0.012135\n",
       "...                                                        ...\n",
       "product_or_service_code_description_REPAIR OR A...    0.000000\n",
       "awarding_office_name_NROTCU  ILLINOIS INST OF T...    0.000000\n",
       "naics_description_OTHER NONFERROUS METAL FOUNDR...    0.000000\n",
       "product_or_service_code_description_REPAIR OR A...    0.000000\n",
       "naics_description_ZOOS AND BOTANICAL GARDENS          0.000000\n",
       "\n",
       "[3394 rows x 1 columns]"
      ]
     },
     "execution_count": 22,
     "metadata": {},
     "output_type": "execute_result"
    }
   ],
   "source": [
    "# Feature Selection\n",
    "\n",
    "feature_importances = pd.DataFrame(model.feature_importances_,\n",
    "                                   index = X_train.columns,\n",
    "                                   columns=['importance']).sort_values('importance', ascending=False)\n",
    "feature_importances"
   ]
  },
  {
   "cell_type": "code",
   "execution_count": null,
   "metadata": {},
   "outputs": [],
   "source": [
    "# Next I am testing the accuracy of the model on each specific set aside. Because we have an unbalanced data set\n",
    "# it seems that the model is great for predicting set asides in general, however it is also skewed to better\n",
    "# predict certain categories compared to others.\n",
    "\n",
    "# Create a dictionary object to capture set aside code and it's score\n",
    "class scores(dict):  \n",
    "  \n",
    "    # __init__ function  \n",
    "    def __init__(self):  \n",
    "        self = dict()  \n",
    "          \n",
    "    # Function to add key:value  \n",
    "    def add(self, key, value):  \n",
    "        self[key] = value  \n",
    "\n",
    "scores = scores()\n",
    "percent = ''\n",
    "set_aside_codes = data['type_of_set_aside_code'].unique()\n",
    "\n",
    "# Loop through each set aside, test it, and append to the dictionary\n",
    "for set_aside in set_aside_codes:\n",
    "    dataPoint = data.loc[data['type_of_set_aside_code'] == set_aside]\n",
    "    XPoint = dataPoint.drop([\"type_of_set_aside_code\"],axis=1)\n",
    "    yPoint = dataPoint[\"type_of_set_aside_code\"]\n",
    "    percent = model.score(XPoint, yPoint)\n",
    "    percent = round(percent, 4)\n",
    "    scores.add(set_aside, percent)"
   ]
  },
  {
   "cell_type": "code",
   "execution_count": null,
   "metadata": {},
   "outputs": [],
   "source": [
    "# Sort the dictionary by score\n",
    "import operator\n",
    "sortedScores = sorted(scores.items(), key=operator.itemgetter(1))"
   ]
  },
  {
   "cell_type": "code",
   "execution_count": null,
   "metadata": {
    "scrolled": true
   },
   "outputs": [],
   "source": [
    "# Print scores\n",
    "for score in reversed(sortedScores):\n",
    "    print(\"{:<8} {:.2%}\".format(score[0], score[1]))"
   ]
  },
  {
   "cell_type": "code",
   "execution_count": null,
   "metadata": {},
   "outputs": [],
   "source": [
    "print(classification_report(y_test, model.predict(X_test), target_names=set_aside_codes))"
   ]
  },
  {
   "cell_type": "code",
   "execution_count": null,
   "metadata": {},
   "outputs": [],
   "source": []
  }
 ],
 "metadata": {
  "kernelspec": {
   "display_name": "Python 3",
   "language": "python",
   "name": "python3"
  },
  "language_info": {
   "codemirror_mode": {
    "name": "ipython",
    "version": 3
   },
   "file_extension": ".py",
   "mimetype": "text/x-python",
   "name": "python",
   "nbconvert_exporter": "python",
   "pygments_lexer": "ipython3",
   "version": "3.7.4"
  }
 },
 "nbformat": 4,
 "nbformat_minor": 2
}
