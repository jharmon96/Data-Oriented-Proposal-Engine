{
 "cells": [
  {
   "cell_type": "code",
   "execution_count": 1,
   "metadata": {},
   "outputs": [],
   "source": [
    "import sqlalchemy\n",
    "from sqlalchemy import create_engine\n",
    "from sqlalchemy import Table, Column, Integer, String, MetaData, ForeignKey\n",
    "from sqlalchemy import inspect\n",
    "import psycopg2\n",
    "import pandas as pd\n",
    "import pprint as pp\n",
    "import json"
   ]
  },
  {
   "cell_type": "code",
   "execution_count": 2,
   "metadata": {},
   "outputs": [
    {
     "name": "stdout",
     "output_type": "stream",
     "text": [
      "Connecting to Postgresql...\n",
      "\n",
      "Connect!\n"
     ]
    }
   ],
   "source": [
    "db_name, ip, user_name, password, table_name = 'usaspending', 'dopelytics.site:5432','team', 'ZAQ!@#zaq123', 'latest'\n",
    "\n",
    "print('Connecting to Postgresql...\\n')\n",
    "engine = create_engine('postgresql+psycopg2://{}:{}@{}/{}'.format(user_name,password,ip,db_name)) #create connection to db\n",
    "print(\"Connected!\")\n",
    "\n",
    "inspector = inspect(engine)\n",
    "output = inspector.get_columns(table_name)"
   ]
  },
  {
   "cell_type": "code",
   "execution_count": 3,
   "metadata": {},
   "outputs": [
    {
     "name": "stdout",
     "output_type": "stream",
     "text": [
      "index\n",
      "contract_transaction_unique_key\n",
      "modification_number\n",
      "federal_action_obligation\n",
      "total_dollars_obligated\n",
      "base_and_exercised_options_value\n",
      "base_and_all_options_value\n",
      "action_date\n",
      "action_date_fiscal_year\n",
      "awarding_agency_code\n",
      "awarding_sub_agency_code\n",
      "awarding_sub_agency_name\n",
      "awarding_office_code\n",
      "awarding_office_name\n",
      "funding_sub_agency_code\n",
      "funding_sub_agency_name\n",
      "funding_office_code\n",
      "funding_office_name\n",
      "recipient_duns\n",
      "recipient_name\n",
      "recipient_country_code\n",
      "recipient_state_code\n",
      "primary_place_of_performance_country_code\n",
      "primary_place_of_performance_state_code\n",
      "award_or_idv_flag\n",
      "award_type_code\n",
      "award_type\n",
      "type_of_contract_pricing_code\n",
      "type_of_contract_pricing\n",
      "product_or_service_code\n",
      "product_or_service_code_description\n",
      "dod_claimant_program_code\n",
      "dod_claimant_program_description\n",
      "naics_code\n",
      "naics_description\n",
      "extent_competed_code\n",
      "extent_competed\n",
      "solicitation_procedures_code\n",
      "solicitation_procedures\n",
      "type_of_set_aside_code\n",
      "type_of_set_aside\n",
      "number_of_offers_received\n",
      "performance_based_service_acquisition_code\n",
      "performance_based_service_acquisition\n",
      "multi_year_contract_code\n",
      "multi_year_contract\n",
      "contracting_officers_determination_of_business_size_code\n",
      "contracting_officers_determination_of_business_size\n",
      "number_of_employees\n",
      "annual_revenue\n",
      "contract_bundling_code\n",
      "contract_bundling\n",
      "dod_acquisition_program_code\n",
      "dod_acquisition_program_description\n",
      "subcontracting_plan_code\n",
      "subcontracting_plan\n",
      "evaluated_preference_code\n",
      "evaluated_preference\n",
      "national_interest_action_code\n",
      "national_interest_action\n",
      "cost_or_pricing_data_code\n",
      "cost_or_pricing_data\n",
      "gfe_gfp_code\n",
      "gfe_gfp\n",
      "contract_financing_code\n",
      "contract_financing\n",
      "psc_type\n",
      "portfolio_group\n",
      "naics_bucket_title\n"
     ]
    }
   ],
   "source": [
    "#print column names\n",
    "for item in output:\n",
    "    print(item[\"name\"] )\n"
   ]
  },
  {
   "cell_type": "code",
   "execution_count": null,
   "metadata": {},
   "outputs": [],
   "source": [
    "# Run a SQL query on the database.\n",
    "with engine.connect() as con:\n",
    "    rs = con.execute('SELECT * FROM \"t2014.1:1\" limit 10')\n",
    "\n",
    "    for row in rs:\n",
    "        pp.pprint(row)"
   ]
  }
 ],
 "metadata": {
  "kernelspec": {
   "display_name": "Python 3",
   "language": "python",
   "name": "python3"
  },
  "language_info": {
   "codemirror_mode": {
    "name": "ipython",
    "version": 3
   },
   "file_extension": ".py",
   "mimetype": "text/x-python",
   "name": "python",
   "nbconvert_exporter": "python",
   "pygments_lexer": "ipython3",
   "version": "3.7.4"
  }
 },
 "nbformat": 4,
 "nbformat_minor": 2
}
